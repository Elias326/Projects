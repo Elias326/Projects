{
 "cells": [
  {
   "cell_type": "markdown",
   "id": "76d90fd6",
   "metadata": {},
   "source": [
    "# Project 1: Query Project\n"
   ]
  },
  {
   "cell_type": "markdown",
   "id": "8dca69d6",
   "metadata": {},
   "source": [
    "In the Query Project, you will get practice with SQL while learning about Google Cloud Platform (GCP) and BiqQuery. You'll answer business-driven questions using public datasets housed in GCP. To give you experience with different ways to use those datasets, youb will use the web UI (BiqQuery) and the command-line tools, and work with them in Jupyter Notebooks.\n",
    "\n",
    "\n",
    "You're a data scientist at [Lyft Bay Wheels](https://www.lyft.com/bikes/bay-wheels), formerly known as Ford GoBike, the company running Bay Area Bikeshare. You are trying to increase ridership, and you want to offer deals through the mobile app to do so. What deals do you offer though? Currently, your company has several options which can change over time. Please visit the website to see the current offers and other marketing information. Frequent offers include:\n",
    "\n",
    "- Single Ride\n",
    "- Monthly Membership\n",
    "- Annual Membership\n",
    "- Bike Share for All\n",
    "- Access Pass\n",
    "- Corporate Membership\n",
    "- etc.\n",
    "\n",
    "In this project, we want to answer these questions:\n",
    "\n",
    "- What are the 5 most popular trips that you would call \"commuter trips\"?\n",
    "- What are your recommendations for offers (justify based on your findings)?"
   ]
  },
  {
   "cell_type": "code",
   "execution_count": 5,
   "id": "fc747663",
   "metadata": {},
   "outputs": [],
   "source": [
    "# Importing Relevant Packages\n",
    "!pip install folium -q\n",
    "!pip install geopandas -q\n",
    "import numpy as np\n",
    "import pandas as pd\n",
    "import folium\n",
    "import geopandas as gpd\n",
    "import matplotlib.pyplot as plt"
   ]
  },
  {
   "cell_type": "markdown",
   "id": "2b24b81d",
   "metadata": {},
   "source": [
    "## Data Exploration"
   ]
  },
  {
   "cell_type": "markdown",
   "id": "4e2d29de",
   "metadata": {},
   "source": [
    "In this project, we will be looking at the following three datasets from San Francisco's Bikeshare:\n",
    "- bikeshare_stations\n",
    "- bikeshare_status\n",
    "- bikeshare_trips\n",
    "\n",
    "Here, we load the data using the magic commands to run BigQuery SQL for the `bikeshare_trips` data:"
   ]
  },
  {
   "cell_type": "code",
   "execution_count": 28,
   "id": "e74b795c",
   "metadata": {},
   "outputs": [
    {
     "name": "stderr",
     "output_type": "stream",
     "text": [
      "Query complete after 0.00s: 100%|██████████| 1/1 [00:00<00:00, 900.84query/s] \n",
      "Downloading: 100%|██████████| 983648/983648 [00:02<00:00, 425253.00rows/s]\n"
     ]
    }
   ],
   "source": [
    "%%bigquery bikeshare_trips\n",
    "\n",
    "SELECT *\n",
    "FROM `bigquery-public-data.san_francisco.bikeshare_trips`"
   ]
  },
  {
   "cell_type": "code",
   "execution_count": 29,
   "id": "a6527957",
   "metadata": {},
   "outputs": [
    {
     "data": {
      "text/plain": [
       "(983648, 11)"
      ]
     },
     "execution_count": 29,
     "metadata": {},
     "output_type": "execute_result"
    }
   ],
   "source": [
    "bikeshare_trips.shape"
   ]
  },
  {
   "cell_type": "markdown",
   "id": "089b9e4e",
   "metadata": {},
   "source": [
    "We can see the dimensions of this dataset consists of 983,648 trips and 11 features consisting of columns such as a unique trip_id, start dates, end dates, durations, subscriber type, etc. Below we load the first 5 rows of the data:"
   ]
  },
  {
   "cell_type": "code",
   "execution_count": 12,
   "id": "d58e3dcf",
   "metadata": {},
   "outputs": [
    {
     "data": {
      "text/html": [
       "<div>\n",
       "<style scoped>\n",
       "    .dataframe tbody tr th:only-of-type {\n",
       "        vertical-align: middle;\n",
       "    }\n",
       "\n",
       "    .dataframe tbody tr th {\n",
       "        vertical-align: top;\n",
       "    }\n",
       "\n",
       "    .dataframe thead th {\n",
       "        text-align: right;\n",
       "    }\n",
       "</style>\n",
       "<table border=\"1\" class=\"dataframe\">\n",
       "  <thead>\n",
       "    <tr style=\"text-align: right;\">\n",
       "      <th></th>\n",
       "      <th>trip_id</th>\n",
       "      <th>duration_sec</th>\n",
       "      <th>start_date</th>\n",
       "      <th>start_station_name</th>\n",
       "      <th>start_station_id</th>\n",
       "      <th>end_date</th>\n",
       "      <th>end_station_name</th>\n",
       "      <th>end_station_id</th>\n",
       "      <th>bike_number</th>\n",
       "      <th>zip_code</th>\n",
       "      <th>subscriber_type</th>\n",
       "    </tr>\n",
       "  </thead>\n",
       "  <tbody>\n",
       "    <tr>\n",
       "      <th>0</th>\n",
       "      <td>944732</td>\n",
       "      <td>2618</td>\n",
       "      <td>2015-09-24 17:22:00+00:00</td>\n",
       "      <td>Mezes</td>\n",
       "      <td>83</td>\n",
       "      <td>2015-09-24 18:06:00+00:00</td>\n",
       "      <td>Mezes</td>\n",
       "      <td>83</td>\n",
       "      <td>653</td>\n",
       "      <td>94063</td>\n",
       "      <td>Customer</td>\n",
       "    </tr>\n",
       "    <tr>\n",
       "      <th>1</th>\n",
       "      <td>984595</td>\n",
       "      <td>5957</td>\n",
       "      <td>2015-10-25 18:12:00+00:00</td>\n",
       "      <td>Mezes</td>\n",
       "      <td>83</td>\n",
       "      <td>2015-10-25 19:51:00+00:00</td>\n",
       "      <td>Mezes</td>\n",
       "      <td>83</td>\n",
       "      <td>52</td>\n",
       "      <td>nil</td>\n",
       "      <td>Customer</td>\n",
       "    </tr>\n",
       "    <tr>\n",
       "      <th>2</th>\n",
       "      <td>984596</td>\n",
       "      <td>5913</td>\n",
       "      <td>2015-10-25 18:13:00+00:00</td>\n",
       "      <td>Mezes</td>\n",
       "      <td>83</td>\n",
       "      <td>2015-10-25 19:51:00+00:00</td>\n",
       "      <td>Mezes</td>\n",
       "      <td>83</td>\n",
       "      <td>121</td>\n",
       "      <td>nil</td>\n",
       "      <td>Customer</td>\n",
       "    </tr>\n",
       "    <tr>\n",
       "      <th>3</th>\n",
       "      <td>1129385</td>\n",
       "      <td>6079</td>\n",
       "      <td>2016-03-18 10:33:00+00:00</td>\n",
       "      <td>Mezes</td>\n",
       "      <td>83</td>\n",
       "      <td>2016-03-18 12:14:00+00:00</td>\n",
       "      <td>Mezes</td>\n",
       "      <td>83</td>\n",
       "      <td>208</td>\n",
       "      <td>94070</td>\n",
       "      <td>Customer</td>\n",
       "    </tr>\n",
       "    <tr>\n",
       "      <th>4</th>\n",
       "      <td>1030383</td>\n",
       "      <td>5780</td>\n",
       "      <td>2015-12-06 10:52:00+00:00</td>\n",
       "      <td>Mezes</td>\n",
       "      <td>83</td>\n",
       "      <td>2015-12-06 12:28:00+00:00</td>\n",
       "      <td>Mezes</td>\n",
       "      <td>83</td>\n",
       "      <td>44</td>\n",
       "      <td>94064</td>\n",
       "      <td>Customer</td>\n",
       "    </tr>\n",
       "  </tbody>\n",
       "</table>\n",
       "</div>"
      ],
      "text/plain": [
       "   trip_id  duration_sec                start_date start_station_name  \\\n",
       "0   944732          2618 2015-09-24 17:22:00+00:00              Mezes   \n",
       "1   984595          5957 2015-10-25 18:12:00+00:00              Mezes   \n",
       "2   984596          5913 2015-10-25 18:13:00+00:00              Mezes   \n",
       "3  1129385          6079 2016-03-18 10:33:00+00:00              Mezes   \n",
       "4  1030383          5780 2015-12-06 10:52:00+00:00              Mezes   \n",
       "\n",
       "   start_station_id                  end_date end_station_name  \\\n",
       "0                83 2015-09-24 18:06:00+00:00            Mezes   \n",
       "1                83 2015-10-25 19:51:00+00:00            Mezes   \n",
       "2                83 2015-10-25 19:51:00+00:00            Mezes   \n",
       "3                83 2016-03-18 12:14:00+00:00            Mezes   \n",
       "4                83 2015-12-06 12:28:00+00:00            Mezes   \n",
       "\n",
       "   end_station_id  bike_number zip_code subscriber_type  \n",
       "0              83          653    94063        Customer  \n",
       "1              83           52      nil        Customer  \n",
       "2              83          121      nil        Customer  \n",
       "3              83          208    94070        Customer  \n",
       "4              83           44    94064        Customer  "
      ]
     },
     "execution_count": 12,
     "metadata": {},
     "output_type": "execute_result"
    }
   ],
   "source": [
    "bikeshare_trips.head()"
   ]
  },
  {
   "cell_type": "markdown",
   "id": "67ab6712",
   "metadata": {},
   "source": [
    "We want to know what the earliest start date and time and latest end date and time for a trip is in this dataset in order to see the timeperiod in which the data was collected. We use the Command Line Interface (CLI) to quickly get our result:"
   ]
  },
  {
   "cell_type": "code",
   "execution_count": 18,
   "id": "11ca3d1c",
   "metadata": {},
   "outputs": [
    {
     "name": "stdout",
     "output_type": "stream",
     "text": [
      "Waiting on bqjob_r1c9e3814b3520bf3_00000179e4d0cae5_1 ... (0s) Current status: DONE   \n",
      "+---------------------+\n",
      "|     start_date      |\n",
      "+---------------------+\n",
      "| 2013-08-29 09:08:00 |\n",
      "+---------------------+\n"
     ]
    }
   ],
   "source": [
    "! bq query --use_legacy_sql=FALSE 'SELECT start_date FROM `bigquery-public-data.san_francisco.bikeshare_trips` ORDER BY start_date ASC LIMIT 1'"
   ]
  },
  {
   "cell_type": "code",
   "execution_count": 19,
   "id": "e8c58388",
   "metadata": {},
   "outputs": [
    {
     "name": "stdout",
     "output_type": "stream",
     "text": [
      "Waiting on bqjob_r541670a89164c3a2_00000179e4d0d687_1 ... (0s) Current status: DONE   \n",
      "+---------------------+\n",
      "|      end_date       |\n",
      "+---------------------+\n",
      "| 2016-08-31 23:48:00 |\n",
      "+---------------------+\n"
     ]
    }
   ],
   "source": [
    "! bq query --use_legacy_sql=FALSE 'SELECT end_date FROM `bigquery-public-data.san_francisco.bikeshare_trips` ORDER BY end_date DESC LIMIT 1'"
   ]
  },
  {
   "cell_type": "markdown",
   "id": "e117ce31",
   "metadata": {},
   "source": [
    "We can see the data starts from 8/29/2013 at 9:08 - 8/31/2016 at 23:48. "
   ]
  },
  {
   "cell_type": "markdown",
   "id": "6a79c3b0",
   "metadata": {},
   "source": [
    "<br><br>\n",
    "## Data Cleaning"
   ]
  },
  {
   "cell_type": "markdown",
   "id": "9d745548",
   "metadata": {},
   "source": [
    "Next, we use the pandas `describe()` function to collect overall statistics of our dataset such as mean, minimums, maximums, etc."
   ]
  },
  {
   "cell_type": "code",
   "execution_count": 13,
   "id": "9fcd5eb9",
   "metadata": {},
   "outputs": [
    {
     "data": {
      "text/html": [
       "<div>\n",
       "<style scoped>\n",
       "    .dataframe tbody tr th:only-of-type {\n",
       "        vertical-align: middle;\n",
       "    }\n",
       "\n",
       "    .dataframe tbody tr th {\n",
       "        vertical-align: top;\n",
       "    }\n",
       "\n",
       "    .dataframe thead th {\n",
       "        text-align: right;\n",
       "    }\n",
       "</style>\n",
       "<table border=\"1\" class=\"dataframe\">\n",
       "  <thead>\n",
       "    <tr style=\"text-align: right;\">\n",
       "      <th></th>\n",
       "      <th>trip_id</th>\n",
       "      <th>duration_sec</th>\n",
       "      <th>start_station_id</th>\n",
       "      <th>end_station_id</th>\n",
       "      <th>bike_number</th>\n",
       "    </tr>\n",
       "  </thead>\n",
       "  <tbody>\n",
       "    <tr>\n",
       "      <th>count</th>\n",
       "      <td>9.836480e+05</td>\n",
       "      <td>9.836480e+05</td>\n",
       "      <td>983648.000000</td>\n",
       "      <td>983648.000000</td>\n",
       "      <td>983648.000000</td>\n",
       "    </tr>\n",
       "    <tr>\n",
       "      <th>mean</th>\n",
       "      <td>6.721238e+05</td>\n",
       "      <td>1.018932e+03</td>\n",
       "      <td>58.121022</td>\n",
       "      <td>58.100089</td>\n",
       "      <td>423.319779</td>\n",
       "    </tr>\n",
       "    <tr>\n",
       "      <th>std</th>\n",
       "      <td>3.851056e+05</td>\n",
       "      <td>1.841684e+04</td>\n",
       "      <td>16.841133</td>\n",
       "      <td>16.912386</td>\n",
       "      <td>158.071344</td>\n",
       "    </tr>\n",
       "    <tr>\n",
       "      <th>min</th>\n",
       "      <td>4.069000e+03</td>\n",
       "      <td>6.000000e+01</td>\n",
       "      <td>2.000000</td>\n",
       "      <td>2.000000</td>\n",
       "      <td>9.000000</td>\n",
       "    </tr>\n",
       "    <tr>\n",
       "      <th>25%</th>\n",
       "      <td>3.359168e+05</td>\n",
       "      <td>3.470000e+02</td>\n",
       "      <td>50.000000</td>\n",
       "      <td>50.000000</td>\n",
       "      <td>328.000000</td>\n",
       "    </tr>\n",
       "    <tr>\n",
       "      <th>50%</th>\n",
       "      <td>6.779755e+05</td>\n",
       "      <td>5.180000e+02</td>\n",
       "      <td>62.000000</td>\n",
       "      <td>62.000000</td>\n",
       "      <td>437.000000</td>\n",
       "    </tr>\n",
       "    <tr>\n",
       "      <th>75%</th>\n",
       "      <td>1.001672e+06</td>\n",
       "      <td>7.480000e+02</td>\n",
       "      <td>70.000000</td>\n",
       "      <td>70.000000</td>\n",
       "      <td>544.000000</td>\n",
       "    </tr>\n",
       "    <tr>\n",
       "      <th>max</th>\n",
       "      <td>1.338408e+06</td>\n",
       "      <td>1.727040e+07</td>\n",
       "      <td>91.000000</td>\n",
       "      <td>91.000000</td>\n",
       "      <td>878.000000</td>\n",
       "    </tr>\n",
       "  </tbody>\n",
       "</table>\n",
       "</div>"
      ],
      "text/plain": [
       "            trip_id  duration_sec  start_station_id  end_station_id  \\\n",
       "count  9.836480e+05  9.836480e+05     983648.000000   983648.000000   \n",
       "mean   6.721238e+05  1.018932e+03         58.121022       58.100089   \n",
       "std    3.851056e+05  1.841684e+04         16.841133       16.912386   \n",
       "min    4.069000e+03  6.000000e+01          2.000000        2.000000   \n",
       "25%    3.359168e+05  3.470000e+02         50.000000       50.000000   \n",
       "50%    6.779755e+05  5.180000e+02         62.000000       62.000000   \n",
       "75%    1.001672e+06  7.480000e+02         70.000000       70.000000   \n",
       "max    1.338408e+06  1.727040e+07         91.000000       91.000000   \n",
       "\n",
       "         bike_number  \n",
       "count  983648.000000  \n",
       "mean      423.319779  \n",
       "std       158.071344  \n",
       "min         9.000000  \n",
       "25%       328.000000  \n",
       "50%       437.000000  \n",
       "75%       544.000000  \n",
       "max       878.000000  "
      ]
     },
     "execution_count": 13,
     "metadata": {},
     "output_type": "execute_result"
    }
   ],
   "source": [
    "bikeshare_trips.describe()"
   ]
  },
  {
   "cell_type": "markdown",
   "id": "bd3c3655",
   "metadata": {},
   "source": [
    "We can see that the maximum duration for a trip in this dataset is about 1.727040e+07 seconds. In addition, there are trips that are 60 seconds in duration. These extremely long and short trips are considered outliers, so we investigate them. First, we take the top 5 rows for the maximum and minimum durations:"
   ]
  },
  {
   "cell_type": "code",
   "execution_count": 204,
   "id": "a2cdd27c",
   "metadata": {},
   "outputs": [
    {
     "name": "stderr",
     "output_type": "stream",
     "text": [
      "Query complete after 0.00s: 100%|██████████| 1/1 [00:00<00:00, 957.60query/s] \n",
      "Downloading: 100%|██████████| 5/5 [00:01<00:00,  4.08rows/s]\n"
     ]
    },
    {
     "data": {
      "text/html": [
       "<div>\n",
       "<style scoped>\n",
       "    .dataframe tbody tr th:only-of-type {\n",
       "        vertical-align: middle;\n",
       "    }\n",
       "\n",
       "    .dataframe tbody tr th {\n",
       "        vertical-align: top;\n",
       "    }\n",
       "\n",
       "    .dataframe thead th {\n",
       "        text-align: right;\n",
       "    }\n",
       "</style>\n",
       "<table border=\"1\" class=\"dataframe\">\n",
       "  <thead>\n",
       "    <tr style=\"text-align: right;\">\n",
       "      <th></th>\n",
       "      <th>trip_id</th>\n",
       "      <th>duration_sec</th>\n",
       "      <th>start_date</th>\n",
       "      <th>start_station_name</th>\n",
       "      <th>start_station_id</th>\n",
       "      <th>end_date</th>\n",
       "      <th>end_station_name</th>\n",
       "      <th>end_station_id</th>\n",
       "      <th>bike_number</th>\n",
       "      <th>zip_code</th>\n",
       "      <th>subscriber_type</th>\n",
       "    </tr>\n",
       "  </thead>\n",
       "  <tbody>\n",
       "    <tr>\n",
       "      <th>0</th>\n",
       "      <td>568474</td>\n",
       "      <td>17270400</td>\n",
       "      <td>2014-12-06 21:59:00+00:00</td>\n",
       "      <td>South Van Ness at Market</td>\n",
       "      <td>66</td>\n",
       "      <td>2015-06-24 20:18:00+00:00</td>\n",
       "      <td>2nd at Folsom</td>\n",
       "      <td>62</td>\n",
       "      <td>535</td>\n",
       "      <td>95531</td>\n",
       "      <td>Customer</td>\n",
       "    </tr>\n",
       "    <tr>\n",
       "      <th>1</th>\n",
       "      <td>825850</td>\n",
       "      <td>2137000</td>\n",
       "      <td>2015-06-28 21:50:00+00:00</td>\n",
       "      <td>Market at Sansome</td>\n",
       "      <td>77</td>\n",
       "      <td>2015-07-23 15:27:00+00:00</td>\n",
       "      <td>Yerba Buena Center of the Arts (3rd @ Howard)</td>\n",
       "      <td>68</td>\n",
       "      <td>466</td>\n",
       "      <td>97213</td>\n",
       "      <td>Customer</td>\n",
       "    </tr>\n",
       "    <tr>\n",
       "      <th>2</th>\n",
       "      <td>750192</td>\n",
       "      <td>1852590</td>\n",
       "      <td>2015-05-02 06:17:00+00:00</td>\n",
       "      <td>San Antonio Shopping Center</td>\n",
       "      <td>31</td>\n",
       "      <td>2015-05-23 16:53:00+00:00</td>\n",
       "      <td>Castro Street and El Camino Real</td>\n",
       "      <td>32</td>\n",
       "      <td>680</td>\n",
       "      <td>94024</td>\n",
       "      <td>Subscriber</td>\n",
       "    </tr>\n",
       "    <tr>\n",
       "      <th>3</th>\n",
       "      <td>841176</td>\n",
       "      <td>1133540</td>\n",
       "      <td>2015-07-10 10:35:00+00:00</td>\n",
       "      <td>University and Emerson</td>\n",
       "      <td>35</td>\n",
       "      <td>2015-07-23 13:27:00+00:00</td>\n",
       "      <td>University and Emerson</td>\n",
       "      <td>35</td>\n",
       "      <td>262</td>\n",
       "      <td>94306</td>\n",
       "      <td>Customer</td>\n",
       "    </tr>\n",
       "    <tr>\n",
       "      <th>4</th>\n",
       "      <td>111309</td>\n",
       "      <td>722236</td>\n",
       "      <td>2013-11-30 13:29:00+00:00</td>\n",
       "      <td>University and Emerson</td>\n",
       "      <td>35</td>\n",
       "      <td>2013-12-08 22:06:00+00:00</td>\n",
       "      <td>University and Emerson</td>\n",
       "      <td>35</td>\n",
       "      <td>247</td>\n",
       "      <td>94301</td>\n",
       "      <td>Customer</td>\n",
       "    </tr>\n",
       "  </tbody>\n",
       "</table>\n",
       "</div>"
      ],
      "text/plain": [
       "   trip_id  duration_sec                start_date  \\\n",
       "0   568474      17270400 2014-12-06 21:59:00+00:00   \n",
       "1   825850       2137000 2015-06-28 21:50:00+00:00   \n",
       "2   750192       1852590 2015-05-02 06:17:00+00:00   \n",
       "3   841176       1133540 2015-07-10 10:35:00+00:00   \n",
       "4   111309        722236 2013-11-30 13:29:00+00:00   \n",
       "\n",
       "            start_station_name  start_station_id                  end_date  \\\n",
       "0     South Van Ness at Market                66 2015-06-24 20:18:00+00:00   \n",
       "1            Market at Sansome                77 2015-07-23 15:27:00+00:00   \n",
       "2  San Antonio Shopping Center                31 2015-05-23 16:53:00+00:00   \n",
       "3       University and Emerson                35 2015-07-23 13:27:00+00:00   \n",
       "4       University and Emerson                35 2013-12-08 22:06:00+00:00   \n",
       "\n",
       "                                end_station_name  end_station_id  bike_number  \\\n",
       "0                                  2nd at Folsom              62          535   \n",
       "1  Yerba Buena Center of the Arts (3rd @ Howard)              68          466   \n",
       "2               Castro Street and El Camino Real              32          680   \n",
       "3                         University and Emerson              35          262   \n",
       "4                         University and Emerson              35          247   \n",
       "\n",
       "  zip_code subscriber_type  \n",
       "0    95531        Customer  \n",
       "1    97213        Customer  \n",
       "2    94024      Subscriber  \n",
       "3    94306        Customer  \n",
       "4    94301        Customer  "
      ]
     },
     "execution_count": 204,
     "metadata": {},
     "output_type": "execute_result"
    }
   ],
   "source": [
    "%%bigquery\n",
    "\n",
    "SELECT *\n",
    "FROM `bigquery-public-data.san_francisco.bikeshare_trips`\n",
    "ORDER BY duration_sec DESC LIMIT 5"
   ]
  },
  {
   "cell_type": "markdown",
   "id": "40e2f6ea",
   "metadata": {},
   "source": [
    "The longest trip was 17,270,400 seconds (approx. 200 days) and started in South Van Ness at Market and ended at 2nd and Folsom. The possibilities for this case are:\n",
    "1. The bike was lost or stolen than finally returned.\n",
    "2. The bike had to be reprogrammed and configured for engineering testing.\n",
    "\n",
    "Many other trips in this dataset also have a duration longer than a day which is not considered a \"commuter trip.\" We want to limit our dataset to a maximum of 1 hour (i.e. approx. 3,600 seconds). Commuters in the Bay Area should not have trips longer than 1 hour. Therefore, we remove these outliers from our dataset:"
   ]
  },
  {
   "cell_type": "code",
   "execution_count": 205,
   "id": "66c275c3",
   "metadata": {},
   "outputs": [],
   "source": [
    "bikeshare_trips = bikeshare_trips[bikeshare_trips['duration_sec'] < 3600]"
   ]
  },
  {
   "cell_type": "markdown",
   "id": "3771e964",
   "metadata": {},
   "source": [
    "The next query shows us that the start and end stations were the same and the trips only lasted 60 seconds. One possibility for this case is that a user might have thought about using the bike, but changed their mind and returned it."
   ]
  },
  {
   "cell_type": "code",
   "execution_count": 206,
   "id": "70c7d96d",
   "metadata": {},
   "outputs": [
    {
     "name": "stderr",
     "output_type": "stream",
     "text": [
      "Query complete after 0.00s: 100%|██████████| 1/1 [00:00<00:00, 987.13query/s] \n",
      "Downloading: 100%|██████████| 5/5 [00:01<00:00,  4.12rows/s]\n"
     ]
    },
    {
     "data": {
      "text/html": [
       "<div>\n",
       "<style scoped>\n",
       "    .dataframe tbody tr th:only-of-type {\n",
       "        vertical-align: middle;\n",
       "    }\n",
       "\n",
       "    .dataframe tbody tr th {\n",
       "        vertical-align: top;\n",
       "    }\n",
       "\n",
       "    .dataframe thead th {\n",
       "        text-align: right;\n",
       "    }\n",
       "</style>\n",
       "<table border=\"1\" class=\"dataframe\">\n",
       "  <thead>\n",
       "    <tr style=\"text-align: right;\">\n",
       "      <th></th>\n",
       "      <th>trip_id</th>\n",
       "      <th>duration_sec</th>\n",
       "      <th>start_date</th>\n",
       "      <th>start_station_name</th>\n",
       "      <th>start_station_id</th>\n",
       "      <th>end_date</th>\n",
       "      <th>end_station_name</th>\n",
       "      <th>end_station_id</th>\n",
       "      <th>bike_number</th>\n",
       "      <th>zip_code</th>\n",
       "      <th>subscriber_type</th>\n",
       "    </tr>\n",
       "  </thead>\n",
       "  <tbody>\n",
       "    <tr>\n",
       "      <th>0</th>\n",
       "      <td>788322</td>\n",
       "      <td>60</td>\n",
       "      <td>2015-06-01 09:50:00+00:00</td>\n",
       "      <td>Howard at 2nd</td>\n",
       "      <td>63</td>\n",
       "      <td>2015-06-01 09:51:00+00:00</td>\n",
       "      <td>Howard at 2nd</td>\n",
       "      <td>63</td>\n",
       "      <td>238</td>\n",
       "      <td>94105</td>\n",
       "      <td>Subscriber</td>\n",
       "    </tr>\n",
       "    <tr>\n",
       "      <th>1</th>\n",
       "      <td>284638</td>\n",
       "      <td>60</td>\n",
       "      <td>2014-05-14 20:11:00+00:00</td>\n",
       "      <td>Market at 10th</td>\n",
       "      <td>67</td>\n",
       "      <td>2014-05-14 20:12:00+00:00</td>\n",
       "      <td>Market at 10th</td>\n",
       "      <td>67</td>\n",
       "      <td>372</td>\n",
       "      <td>94107</td>\n",
       "      <td>Subscriber</td>\n",
       "    </tr>\n",
       "    <tr>\n",
       "      <th>2</th>\n",
       "      <td>20271</td>\n",
       "      <td>60</td>\n",
       "      <td>2013-09-13 12:43:00+00:00</td>\n",
       "      <td>Market at 4th</td>\n",
       "      <td>76</td>\n",
       "      <td>2013-09-13 12:44:00+00:00</td>\n",
       "      <td>Market at 4th</td>\n",
       "      <td>76</td>\n",
       "      <td>500</td>\n",
       "      <td>94116</td>\n",
       "      <td>Subscriber</td>\n",
       "    </tr>\n",
       "    <tr>\n",
       "      <th>3</th>\n",
       "      <td>869535</td>\n",
       "      <td>60</td>\n",
       "      <td>2015-07-30 17:45:00+00:00</td>\n",
       "      <td>Howard at 2nd</td>\n",
       "      <td>63</td>\n",
       "      <td>2015-07-30 17:46:00+00:00</td>\n",
       "      <td>Howard at 2nd</td>\n",
       "      <td>63</td>\n",
       "      <td>382</td>\n",
       "      <td>90034</td>\n",
       "      <td>Customer</td>\n",
       "    </tr>\n",
       "    <tr>\n",
       "      <th>4</th>\n",
       "      <td>1011650</td>\n",
       "      <td>60</td>\n",
       "      <td>2015-11-16 18:54:00+00:00</td>\n",
       "      <td>Mezes</td>\n",
       "      <td>83</td>\n",
       "      <td>2015-11-16 18:55:00+00:00</td>\n",
       "      <td>Mezes</td>\n",
       "      <td>83</td>\n",
       "      <td>35</td>\n",
       "      <td>94124</td>\n",
       "      <td>Subscriber</td>\n",
       "    </tr>\n",
       "  </tbody>\n",
       "</table>\n",
       "</div>"
      ],
      "text/plain": [
       "   trip_id  duration_sec                start_date start_station_name  \\\n",
       "0   788322            60 2015-06-01 09:50:00+00:00      Howard at 2nd   \n",
       "1   284638            60 2014-05-14 20:11:00+00:00     Market at 10th   \n",
       "2    20271            60 2013-09-13 12:43:00+00:00      Market at 4th   \n",
       "3   869535            60 2015-07-30 17:45:00+00:00      Howard at 2nd   \n",
       "4  1011650            60 2015-11-16 18:54:00+00:00              Mezes   \n",
       "\n",
       "   start_station_id                  end_date end_station_name  \\\n",
       "0                63 2015-06-01 09:51:00+00:00    Howard at 2nd   \n",
       "1                67 2014-05-14 20:12:00+00:00   Market at 10th   \n",
       "2                76 2013-09-13 12:44:00+00:00    Market at 4th   \n",
       "3                63 2015-07-30 17:46:00+00:00    Howard at 2nd   \n",
       "4                83 2015-11-16 18:55:00+00:00            Mezes   \n",
       "\n",
       "   end_station_id  bike_number zip_code subscriber_type  \n",
       "0              63          238    94105      Subscriber  \n",
       "1              67          372    94107      Subscriber  \n",
       "2              76          500    94116      Subscriber  \n",
       "3              63          382    90034        Customer  \n",
       "4              83           35    94124      Subscriber  "
      ]
     },
     "execution_count": 206,
     "metadata": {},
     "output_type": "execute_result"
    }
   ],
   "source": [
    "%%bigquery\n",
    "\n",
    "SELECT *\n",
    "FROM `bigquery-public-data.san_francisco.bikeshare_trips`\n",
    "ORDER BY duration_sec ASC LIMIT 5"
   ]
  },
  {
   "cell_type": "markdown",
   "id": "0c677bda",
   "metadata": {},
   "source": [
    "Because these \"short\" trips are outliers and not considered \"commuter trips\", we simply remove them from our dataset. For this case, we will remove any trip that is shorter than 10 minutes (600 seconds):"
   ]
  },
  {
   "cell_type": "code",
   "execution_count": 207,
   "id": "7ef05691",
   "metadata": {},
   "outputs": [],
   "source": [
    "bikeshare_trips = bikeshare_trips[bikeshare_trips['duration_sec'] >= 600]"
   ]
  },
  {
   "cell_type": "code",
   "execution_count": 208,
   "id": "6393d0b1",
   "metadata": {},
   "outputs": [
    {
     "data": {
      "text/plain": [
       "(356941, 11)"
      ]
     },
     "execution_count": 208,
     "metadata": {},
     "output_type": "execute_result"
    }
   ],
   "source": [
    "bikeshare_trips.shape"
   ]
  },
  {
   "cell_type": "markdown",
   "id": "f5e1dde0",
   "metadata": {},
   "source": [
    "After filtering out the outliers, we can see that our dataset decreased to 378,670 trips! To save our new "
   ]
  },
  {
   "cell_type": "markdown",
   "id": "8309f486",
   "metadata": {},
   "source": [
    "<br><br>\n",
    "## Data Visualizations"
   ]
  },
  {
   "cell_type": "markdown",
   "id": "2b8ef236",
   "metadata": {},
   "source": [
    "Next, we will conduct some analysis on commuter trips and create some visualizations to communicate our findings.\n",
    "\n",
    "First, let's take a look at the duration of trips. We are only selecting trips above 600 seconds or 3,600 seconds because we are assuming that commuter trips should not be take longer 60 minutes. Customers and subscribers typicaally get charged extra every 15 minutes for going past 30 and 45 minutes, respectively."
   ]
  },
  {
   "cell_type": "code",
   "execution_count": 209,
   "id": "b2d31aa3",
   "metadata": {},
   "outputs": [
    {
     "name": "stderr",
     "output_type": "stream",
     "text": [
      "Query complete after 0.00s: 100%|██████████| 2/2 [00:00<00:00, 454.22query/s]                         \n",
      "Downloading: 100%|██████████| 360929/360929 [00:01<00:00, 288711.76rows/s]\n"
     ]
    }
   ],
   "source": [
    "%%bigquery duration_trips\n",
    "\n",
    "SELECT duration_sec\n",
    "FROM `bigquery-public-data.san_francisco.bikeshare_trips`\n",
    "WHERE (duration_sec BETWEEN 600 AND 3600)"
   ]
  },
  {
   "cell_type": "code",
   "execution_count": 210,
   "id": "8582c1d4",
   "metadata": {},
   "outputs": [
    {
     "data": {
      "text/plain": [
       "(360929, 1)"
      ]
     },
     "execution_count": 210,
     "metadata": {},
     "output_type": "execute_result"
    }
   ],
   "source": [
    "duration_trips.shape"
   ]
  },
  {
   "cell_type": "code",
   "execution_count": 211,
   "id": "bc2fac52",
   "metadata": {},
   "outputs": [
    {
     "data": {
      "image/png": "[encoded data removed]",
      "text/plain": [
       "<Figure size 720x360 with 1 Axes>"
      ]
     },
     "metadata": {
      "needs_background": "light"
     },
     "output_type": "display_data"
    }
   ],
   "source": [
    "plt.figure(figsize=(10, 5))\n",
    "duration_trips.duration_sec.hist(bins=range(600, 3600, 100))\n",
    "plt.title('Histogram Disribution of Bikeshare Trip Durations (sec.)')\n",
    "plt.xlabel(\"Duration (sec.)\")\n",
    "plt.ylabel(\"Frequency\");"
   ]
  },
  {
   "cell_type": "markdown",
   "id": "b5237174",
   "metadata": {},
   "source": [
    "This is a right (or positively) skewed distribution indicating that there are a high number of trips with a duration of 600 seconds and then decreases in trip frequency as duration increases. This tells us that users typically want to have the shortest ride possible in order to decrease their cost per trip. For example, subscribers and customers have a 45 minute and 30 minute, respectively, for a maximum ride time until the ride cost increases by 2 - 3 dollars every 15 minutes."
   ]
  },
  {
   "cell_type": "markdown",
   "id": "f9e5edcf",
   "metadata": {},
   "source": [
    "Next, let's take a look at the hours in which these trips occur to see which hours are the most popular. We collect information about the subscriber type to see the distribution of these trips based on whether they were subscribers or customers."
   ]
  },
  {
   "cell_type": "code",
   "execution_count": 116,
   "id": "93b042c3",
   "metadata": {},
   "outputs": [
    {
     "name": "stderr",
     "output_type": "stream",
     "text": [
      "Query complete after 0.00s: 100%|██████████| 3/3 [00:00<00:00, 708.78query/s]                         \n",
      "Downloading: 100%|██████████| 48/48 [00:01<00:00, 34.47rows/s]\n"
     ]
    }
   ],
   "source": [
    "%%bigquery bike_trips\n",
    "\n",
    "SELECT subscriber_type, EXTRACT (HOUR FROM TIME(start_date)) AS trip_hour, COUNT(trip_id) AS trips\n",
    "FROM `bigquery-public-data.san_francisco.bikeshare_trips`\n",
    "WHERE (duration_sec BETWEEN 600 AND 3600)\n",
    "GROUP BY subscriber_type, trip_hour\n",
    "ORDER BY trips DESC"
   ]
  },
  {
   "cell_type": "code",
   "execution_count": 117,
   "id": "97ebbc5a",
   "metadata": {},
   "outputs": [
    {
     "data": {
      "text/html": [
       "<div>\n",
       "<style scoped>\n",
       "    .dataframe tbody tr th:only-of-type {\n",
       "        vertical-align: middle;\n",
       "    }\n",
       "\n",
       "    .dataframe tbody tr th {\n",
       "        vertical-align: top;\n",
       "    }\n",
       "\n",
       "    .dataframe thead th {\n",
       "        text-align: right;\n",
       "    }\n",
       "</style>\n",
       "<table border=\"1\" class=\"dataframe\">\n",
       "  <thead>\n",
       "    <tr style=\"text-align: right;\">\n",
       "      <th></th>\n",
       "      <th>subscriber_type</th>\n",
       "      <th>trip_hour</th>\n",
       "      <th>trips</th>\n",
       "    </tr>\n",
       "  </thead>\n",
       "  <tbody>\n",
       "    <tr>\n",
       "      <th>0</th>\n",
       "      <td>Subscriber</td>\n",
       "      <td>8</td>\n",
       "      <td>43575</td>\n",
       "    </tr>\n",
       "    <tr>\n",
       "      <th>1</th>\n",
       "      <td>Subscriber</td>\n",
       "      <td>17</td>\n",
       "      <td>40568</td>\n",
       "    </tr>\n",
       "    <tr>\n",
       "      <th>2</th>\n",
       "      <td>Subscriber</td>\n",
       "      <td>9</td>\n",
       "      <td>26891</td>\n",
       "    </tr>\n",
       "    <tr>\n",
       "      <th>3</th>\n",
       "      <td>Subscriber</td>\n",
       "      <td>16</td>\n",
       "      <td>26518</td>\n",
       "    </tr>\n",
       "    <tr>\n",
       "      <th>4</th>\n",
       "      <td>Subscriber</td>\n",
       "      <td>18</td>\n",
       "      <td>25988</td>\n",
       "    </tr>\n",
       "  </tbody>\n",
       "</table>\n",
       "</div>"
      ],
      "text/plain": [
       "  subscriber_type  trip_hour  trips\n",
       "0      Subscriber          8  43575\n",
       "1      Subscriber         17  40568\n",
       "2      Subscriber          9  26891\n",
       "3      Subscriber         16  26518\n",
       "4      Subscriber         18  25988"
      ]
     },
     "execution_count": 117,
     "metadata": {},
     "output_type": "execute_result"
    }
   ],
   "source": [
    "bike_trips.head()"
   ]
  },
  {
   "cell_type": "markdown",
   "id": "30b156e7",
   "metadata": {},
   "source": [
    "Here, we can already see that the top 3 trip hours are at 8 AM, 5 PM, and 9 AM. Let's vizualize this further:"
   ]
  },
  {
   "cell_type": "code",
   "execution_count": 125,
   "id": "5a981a3e",
   "metadata": {},
   "outputs": [
    {
     "data": {
      "image/png": "[encoded data removed]",
      "text/plain": [
       "<Figure size 864x432 with 1 Axes>"
      ]
     },
     "metadata": {
      "needs_background": "light"
     },
     "output_type": "display_data"
    }
   ],
   "source": [
    "plt.figure(figsize=(12, 6))\n",
    "plt.bar(bike_trips[bike_trips['subscriber_type'] == 'Subscriber']['trip_hour'], \n",
    "        bike_trips[bike_trips['subscriber_type'] == 'Subscriber']['trips'],\n",
    "       label='Subscriber')\n",
    "plt.bar(bike_trips[bike_trips['subscriber_type'] == 'Customer']['trip_hour'], \n",
    "        bike_trips[bike_trips['subscriber_type'] == 'Customer']['trips'], \n",
    "       label='Customer')\n",
    "plt.title('Number of San Francisco Bikeshare Trips for each Hour')\n",
    "plt.xlabel(\"Hour\")\n",
    "plt.ylabel(\"Number of Trips\")\n",
    "plt.legend();"
   ]
  },
  {
   "cell_type": "markdown",
   "id": "d66077e4",
   "metadata": {},
   "source": [
    "Through this bar graph, we can see that subscribers dominate the trips, especially during peak hours. Even during peak hours, customers are also using the service.\n",
    "\n",
    "Furthermore, we can see that the highest number of trips happen at 8 AM and 5 PM (17th hour). During these times, we can assume most users are commuting during and around this time. Therefore, we can filter the data again to include only trips during the time frame of 7 AM - 9 AM (leaving home and entering work) and 4 PM - 6 PM (leaving work and going home)."
   ]
  },
  {
   "cell_type": "code",
   "execution_count": 228,
   "id": "e328a42b",
   "metadata": {},
   "outputs": [
    {
     "name": "stderr",
     "output_type": "stream",
     "text": [
      "Query complete after 0.00s: 100%|██████████| 2/2 [00:00<00:00, 693.73query/s]                         \n",
      "Downloading: 100%|██████████| 217429/217429 [00:01<00:00, 143983.49rows/s]\n"
     ]
    }
   ],
   "source": [
    "%%bigquery bike_trips\n",
    "\n",
    "SELECT *, EXTRACT (HOUR FROM TIME(start_date)) AS trip_hour\n",
    "FROM `bigquery-public-data.san_francisco.bikeshare_trips`\n",
    "WHERE (duration_sec BETWEEN 600 AND 3600) AND\n",
    "    ((EXTRACT (HOUR FROM TIME(start_date)) BETWEEN 7 AND 9) OR \n",
    "    (EXTRACT (HOUR FROM TIME(start_date)) BETWEEN 16 AND 18))"
   ]
  },
  {
   "cell_type": "code",
   "execution_count": 229,
   "id": "ae901bfd",
   "metadata": {},
   "outputs": [
    {
     "data": {
      "text/html": [
       "<div>\n",
       "<style scoped>\n",
       "    .dataframe tbody tr th:only-of-type {\n",
       "        vertical-align: middle;\n",
       "    }\n",
       "\n",
       "    .dataframe tbody tr th {\n",
       "        vertical-align: top;\n",
       "    }\n",
       "\n",
       "    .dataframe thead th {\n",
       "        text-align: right;\n",
       "    }\n",
       "</style>\n",
       "<table border=\"1\" class=\"dataframe\">\n",
       "  <thead>\n",
       "    <tr style=\"text-align: right;\">\n",
       "      <th></th>\n",
       "      <th>trip_id</th>\n",
       "      <th>duration_sec</th>\n",
       "      <th>start_date</th>\n",
       "      <th>start_station_name</th>\n",
       "      <th>start_station_id</th>\n",
       "      <th>end_date</th>\n",
       "      <th>end_station_name</th>\n",
       "      <th>end_station_id</th>\n",
       "      <th>bike_number</th>\n",
       "      <th>zip_code</th>\n",
       "      <th>subscriber_type</th>\n",
       "      <th>trip_hour</th>\n",
       "    </tr>\n",
       "  </thead>\n",
       "  <tbody>\n",
       "    <tr>\n",
       "      <th>0</th>\n",
       "      <td>944732</td>\n",
       "      <td>2618</td>\n",
       "      <td>2015-09-24 17:22:00+00:00</td>\n",
       "      <td>Mezes</td>\n",
       "      <td>83</td>\n",
       "      <td>2015-09-24 18:06:00+00:00</td>\n",
       "      <td>Mezes</td>\n",
       "      <td>83</td>\n",
       "      <td>653</td>\n",
       "      <td>94063</td>\n",
       "      <td>Customer</td>\n",
       "      <td>17</td>\n",
       "    </tr>\n",
       "    <tr>\n",
       "      <th>1</th>\n",
       "      <td>196047</td>\n",
       "      <td>1063</td>\n",
       "      <td>2014-02-25 18:29:00+00:00</td>\n",
       "      <td>Japantown</td>\n",
       "      <td>9</td>\n",
       "      <td>2014-02-25 18:46:00+00:00</td>\n",
       "      <td>Japantown</td>\n",
       "      <td>9</td>\n",
       "      <td>645</td>\n",
       "      <td>95112</td>\n",
       "      <td>Subscriber</td>\n",
       "      <td>18</td>\n",
       "    </tr>\n",
       "    <tr>\n",
       "      <th>2</th>\n",
       "      <td>542795</td>\n",
       "      <td>917</td>\n",
       "      <td>2014-11-13 09:16:00+00:00</td>\n",
       "      <td>Japantown</td>\n",
       "      <td>9</td>\n",
       "      <td>2014-11-13 09:31:00+00:00</td>\n",
       "      <td>Japantown</td>\n",
       "      <td>9</td>\n",
       "      <td>668</td>\n",
       "      <td>95122</td>\n",
       "      <td>Subscriber</td>\n",
       "      <td>9</td>\n",
       "    </tr>\n",
       "    <tr>\n",
       "      <th>3</th>\n",
       "      <td>1023243</td>\n",
       "      <td>783</td>\n",
       "      <td>2015-11-29 16:00:00+00:00</td>\n",
       "      <td>Japantown</td>\n",
       "      <td>9</td>\n",
       "      <td>2015-11-29 16:13:00+00:00</td>\n",
       "      <td>Japantown</td>\n",
       "      <td>9</td>\n",
       "      <td>676</td>\n",
       "      <td>95112</td>\n",
       "      <td>Subscriber</td>\n",
       "      <td>16</td>\n",
       "    </tr>\n",
       "    <tr>\n",
       "      <th>4</th>\n",
       "      <td>560981</td>\n",
       "      <td>621</td>\n",
       "      <td>2014-11-29 16:18:00+00:00</td>\n",
       "      <td>Japantown</td>\n",
       "      <td>9</td>\n",
       "      <td>2014-11-29 16:29:00+00:00</td>\n",
       "      <td>Japantown</td>\n",
       "      <td>9</td>\n",
       "      <td>117</td>\n",
       "      <td>95122</td>\n",
       "      <td>Subscriber</td>\n",
       "      <td>16</td>\n",
       "    </tr>\n",
       "  </tbody>\n",
       "</table>\n",
       "</div>"
      ],
      "text/plain": [
       "   trip_id  duration_sec                start_date start_station_name  \\\n",
       "0   944732          2618 2015-09-24 17:22:00+00:00              Mezes   \n",
       "1   196047          1063 2014-02-25 18:29:00+00:00          Japantown   \n",
       "2   542795           917 2014-11-13 09:16:00+00:00          Japantown   \n",
       "3  1023243           783 2015-11-29 16:00:00+00:00          Japantown   \n",
       "4   560981           621 2014-11-29 16:18:00+00:00          Japantown   \n",
       "\n",
       "   start_station_id                  end_date end_station_name  \\\n",
       "0                83 2015-09-24 18:06:00+00:00            Mezes   \n",
       "1                 9 2014-02-25 18:46:00+00:00        Japantown   \n",
       "2                 9 2014-11-13 09:31:00+00:00        Japantown   \n",
       "3                 9 2015-11-29 16:13:00+00:00        Japantown   \n",
       "4                 9 2014-11-29 16:29:00+00:00        Japantown   \n",
       "\n",
       "   end_station_id  bike_number zip_code subscriber_type  trip_hour  \n",
       "0              83          653    94063        Customer         17  \n",
       "1               9          645    95112      Subscriber         18  \n",
       "2               9          668    95122      Subscriber          9  \n",
       "3               9          676    95112      Subscriber         16  \n",
       "4               9          117    95122      Subscriber         16  "
      ]
     },
     "execution_count": 229,
     "metadata": {},
     "output_type": "execute_result"
    }
   ],
   "source": [
    "bike_trips.head()"
   ]
  },
  {
   "cell_type": "markdown",
   "id": "c7acaeba",
   "metadata": {},
   "source": [
    "<br><br>\n",
    "## Defining Commuter Trips\n",
    "\n",
    "From the previous section, we were able to select trips that were only between a reasonable range (more than 600 seconds and less than 3,600 seconds). In addition, the most popular hours were 7 - 9 AM and 4 - 6 PM (typical work start and end times). Therefore, we selected only these hours assuming these trips were commuter trips.\n",
    "\n",
    "We can also see in the previous table that there are trips that start and end at the same location. Since a commuter trip is defined as a trip from one's home and place of work, we can assume that these trips do not fall in that category. Therefore, we remove them."
   ]
  },
  {
   "cell_type": "code",
   "execution_count": 232,
   "id": "e2000ebd",
   "metadata": {},
   "outputs": [
    {
     "name": "stderr",
     "output_type": "stream",
     "text": [
      "Query complete after 0.00s: 100%|██████████| 2/2 [00:00<00:00, 933.31query/s]                         \n",
      "Downloading: 100%|██████████| 213174/213174 [00:01<00:00, 137924.18rows/s]\n"
     ]
    }
   ],
   "source": [
    "%%bigquery commuter_trips\n",
    "\n",
    "SELECT *, EXTRACT (HOUR FROM TIME(start_date)) AS trip_hour\n",
    "FROM `bigquery-public-data.san_francisco.bikeshare_trips`\n",
    "WHERE (duration_sec BETWEEN 600 AND 3600) AND\n",
    "    ((EXTRACT (HOUR FROM TIME(start_date)) BETWEEN 7 AND 9) OR\n",
    "     (EXTRACT (HOUR FROM TIME(start_date)) BETWEEN 16 AND 18)) AND\n",
    "    (start_station_name != end_station_name)"
   ]
  },
  {
   "cell_type": "code",
   "execution_count": 234,
   "id": "4f31555b",
   "metadata": {},
   "outputs": [
    {
     "data": {
      "text/html": [
       "<div>\n",
       "<style scoped>\n",
       "    .dataframe tbody tr th:only-of-type {\n",
       "        vertical-align: middle;\n",
       "    }\n",
       "\n",
       "    .dataframe tbody tr th {\n",
       "        vertical-align: top;\n",
       "    }\n",
       "\n",
       "    .dataframe thead th {\n",
       "        text-align: right;\n",
       "    }\n",
       "</style>\n",
       "<table border=\"1\" class=\"dataframe\">\n",
       "  <thead>\n",
       "    <tr style=\"text-align: right;\">\n",
       "      <th></th>\n",
       "      <th>trip_id</th>\n",
       "      <th>duration_sec</th>\n",
       "      <th>start_date</th>\n",
       "      <th>start_station_name</th>\n",
       "      <th>start_station_id</th>\n",
       "      <th>end_date</th>\n",
       "      <th>end_station_name</th>\n",
       "      <th>end_station_id</th>\n",
       "      <th>bike_number</th>\n",
       "      <th>zip_code</th>\n",
       "      <th>subscriber_type</th>\n",
       "      <th>trip_hour</th>\n",
       "    </tr>\n",
       "  </thead>\n",
       "  <tbody>\n",
       "    <tr>\n",
       "      <th>0</th>\n",
       "      <td>1236584</td>\n",
       "      <td>627</td>\n",
       "      <td>2016-06-12 18:15:00+00:00</td>\n",
       "      <td>MLK Library</td>\n",
       "      <td>11</td>\n",
       "      <td>2016-06-12 18:26:00+00:00</td>\n",
       "      <td>Japantown</td>\n",
       "      <td>9</td>\n",
       "      <td>43</td>\n",
       "      <td>95407</td>\n",
       "      <td>Customer</td>\n",
       "      <td>18</td>\n",
       "    </tr>\n",
       "    <tr>\n",
       "      <th>1</th>\n",
       "      <td>1278755</td>\n",
       "      <td>845</td>\n",
       "      <td>2016-07-15 17:15:00+00:00</td>\n",
       "      <td>MLK Library</td>\n",
       "      <td>11</td>\n",
       "      <td>2016-07-15 17:29:00+00:00</td>\n",
       "      <td>Japantown</td>\n",
       "      <td>9</td>\n",
       "      <td>710</td>\n",
       "      <td>95109</td>\n",
       "      <td>Subscriber</td>\n",
       "      <td>17</td>\n",
       "    </tr>\n",
       "    <tr>\n",
       "      <th>2</th>\n",
       "      <td>8366</td>\n",
       "      <td>769</td>\n",
       "      <td>2013-09-01 18:31:00+00:00</td>\n",
       "      <td>MLK Library</td>\n",
       "      <td>11</td>\n",
       "      <td>2013-09-01 18:43:00+00:00</td>\n",
       "      <td>Japantown</td>\n",
       "      <td>9</td>\n",
       "      <td>77</td>\n",
       "      <td></td>\n",
       "      <td>Customer</td>\n",
       "      <td>18</td>\n",
       "    </tr>\n",
       "    <tr>\n",
       "      <th>3</th>\n",
       "      <td>6323</td>\n",
       "      <td>2868</td>\n",
       "      <td>2013-08-30 18:36:00+00:00</td>\n",
       "      <td>MLK Library</td>\n",
       "      <td>11</td>\n",
       "      <td>2013-08-30 19:24:00+00:00</td>\n",
       "      <td>Japantown</td>\n",
       "      <td>9</td>\n",
       "      <td>52</td>\n",
       "      <td>95112</td>\n",
       "      <td>Customer</td>\n",
       "      <td>18</td>\n",
       "    </tr>\n",
       "    <tr>\n",
       "      <th>4</th>\n",
       "      <td>883725</td>\n",
       "      <td>1024</td>\n",
       "      <td>2015-08-10 18:33:00+00:00</td>\n",
       "      <td>MLK Library</td>\n",
       "      <td>11</td>\n",
       "      <td>2015-08-10 18:50:00+00:00</td>\n",
       "      <td>Japantown</td>\n",
       "      <td>9</td>\n",
       "      <td>107</td>\n",
       "      <td>95112</td>\n",
       "      <td>Subscriber</td>\n",
       "      <td>18</td>\n",
       "    </tr>\n",
       "  </tbody>\n",
       "</table>\n",
       "</div>"
      ],
      "text/plain": [
       "   trip_id  duration_sec                start_date start_station_name  \\\n",
       "0  1236584           627 2016-06-12 18:15:00+00:00        MLK Library   \n",
       "1  1278755           845 2016-07-15 17:15:00+00:00        MLK Library   \n",
       "2     8366           769 2013-09-01 18:31:00+00:00        MLK Library   \n",
       "3     6323          2868 2013-08-30 18:36:00+00:00        MLK Library   \n",
       "4   883725          1024 2015-08-10 18:33:00+00:00        MLK Library   \n",
       "\n",
       "   start_station_id                  end_date end_station_name  \\\n",
       "0                11 2016-06-12 18:26:00+00:00        Japantown   \n",
       "1                11 2016-07-15 17:29:00+00:00        Japantown   \n",
       "2                11 2013-09-01 18:43:00+00:00        Japantown   \n",
       "3                11 2013-08-30 19:24:00+00:00        Japantown   \n",
       "4                11 2015-08-10 18:50:00+00:00        Japantown   \n",
       "\n",
       "   end_station_id  bike_number zip_code subscriber_type  trip_hour  \n",
       "0               9           43    95407        Customer         18  \n",
       "1               9          710    95109      Subscriber         17  \n",
       "2               9           77                 Customer         18  \n",
       "3               9           52    95112        Customer         18  \n",
       "4               9          107    95112      Subscriber         18  "
      ]
     },
     "execution_count": 234,
     "metadata": {},
     "output_type": "execute_result"
    }
   ],
   "source": [
    "commuter_trips.head()"
   ]
  },
  {
   "cell_type": "markdown",
   "id": "b07fcda9",
   "metadata": {},
   "source": [
    "Furthermore, for someone to go to work on the weekend (Saturday or Sunday) is highly unlikely. Most people work on Mondays - Fridays. Therefore, we assume these trips do not fall under the category of \"commuter trips\" and thereby remove them from our data."
   ]
  },
  {
   "cell_type": "code",
   "execution_count": 235,
   "id": "a24ddc04",
   "metadata": {},
   "outputs": [
    {
     "name": "stderr",
     "output_type": "stream",
     "text": [
      "Query complete after 0.00s: 100%|██████████| 2/2 [00:00<00:00, 439.36query/s]                         \n",
      "Downloading: 100%|██████████| 197542/197542 [00:01<00:00, 106924.36rows/s]\n"
     ]
    }
   ],
   "source": [
    "%%bigquery commuter_trips\n",
    "\n",
    "SELECT *, EXTRACT (HOUR FROM TIME(start_date)) AS trip_hour\n",
    "FROM `bigquery-public-data.san_francisco.bikeshare_trips`\n",
    "WHERE (duration_sec BETWEEN 600 AND 3600) AND\n",
    "    ((EXTRACT (HOUR FROM TIME(start_date)) BETWEEN 7 AND 9) OR\n",
    "     (EXTRACT (HOUR FROM TIME(start_date)) BETWEEN 16 AND 18)) AND\n",
    "    (start_station_name != end_station_name) AND\n",
    "    (EXTRACT (DAYOFWEEK FROM start_date) IN (2, 3, 4, 5, 6))"
   ]
  },
  {
   "cell_type": "code",
   "execution_count": 236,
   "id": "70e31b05",
   "metadata": {},
   "outputs": [
    {
     "name": "stdout",
     "output_type": "stream",
     "text": [
      "(197542, 12)\n"
     ]
    },
    {
     "data": {
      "text/html": [
       "<div>\n",
       "<style scoped>\n",
       "    .dataframe tbody tr th:only-of-type {\n",
       "        vertical-align: middle;\n",
       "    }\n",
       "\n",
       "    .dataframe tbody tr th {\n",
       "        vertical-align: top;\n",
       "    }\n",
       "\n",
       "    .dataframe thead th {\n",
       "        text-align: right;\n",
       "    }\n",
       "</style>\n",
       "<table border=\"1\" class=\"dataframe\">\n",
       "  <thead>\n",
       "    <tr style=\"text-align: right;\">\n",
       "      <th></th>\n",
       "      <th>trip_id</th>\n",
       "      <th>duration_sec</th>\n",
       "      <th>start_date</th>\n",
       "      <th>start_station_name</th>\n",
       "      <th>start_station_id</th>\n",
       "      <th>end_date</th>\n",
       "      <th>end_station_name</th>\n",
       "      <th>end_station_id</th>\n",
       "      <th>bike_number</th>\n",
       "      <th>zip_code</th>\n",
       "      <th>subscriber_type</th>\n",
       "      <th>trip_hour</th>\n",
       "    </tr>\n",
       "  </thead>\n",
       "  <tbody>\n",
       "    <tr>\n",
       "      <th>0</th>\n",
       "      <td>1278755</td>\n",
       "      <td>845</td>\n",
       "      <td>2016-07-15 17:15:00+00:00</td>\n",
       "      <td>MLK Library</td>\n",
       "      <td>11</td>\n",
       "      <td>2016-07-15 17:29:00+00:00</td>\n",
       "      <td>Japantown</td>\n",
       "      <td>9</td>\n",
       "      <td>710</td>\n",
       "      <td>95109</td>\n",
       "      <td>Subscriber</td>\n",
       "      <td>17</td>\n",
       "    </tr>\n",
       "    <tr>\n",
       "      <th>1</th>\n",
       "      <td>6323</td>\n",
       "      <td>2868</td>\n",
       "      <td>2013-08-30 18:36:00+00:00</td>\n",
       "      <td>MLK Library</td>\n",
       "      <td>11</td>\n",
       "      <td>2013-08-30 19:24:00+00:00</td>\n",
       "      <td>Japantown</td>\n",
       "      <td>9</td>\n",
       "      <td>52</td>\n",
       "      <td>95112</td>\n",
       "      <td>Customer</td>\n",
       "      <td>18</td>\n",
       "    </tr>\n",
       "    <tr>\n",
       "      <th>2</th>\n",
       "      <td>883725</td>\n",
       "      <td>1024</td>\n",
       "      <td>2015-08-10 18:33:00+00:00</td>\n",
       "      <td>MLK Library</td>\n",
       "      <td>11</td>\n",
       "      <td>2015-08-10 18:50:00+00:00</td>\n",
       "      <td>Japantown</td>\n",
       "      <td>9</td>\n",
       "      <td>107</td>\n",
       "      <td>95112</td>\n",
       "      <td>Subscriber</td>\n",
       "      <td>18</td>\n",
       "    </tr>\n",
       "    <tr>\n",
       "      <th>3</th>\n",
       "      <td>151953</td>\n",
       "      <td>669</td>\n",
       "      <td>2014-01-13 18:09:00+00:00</td>\n",
       "      <td>MLK Library</td>\n",
       "      <td>11</td>\n",
       "      <td>2014-01-13 18:20:00+00:00</td>\n",
       "      <td>Japantown</td>\n",
       "      <td>9</td>\n",
       "      <td>180</td>\n",
       "      <td>95112</td>\n",
       "      <td>Subscriber</td>\n",
       "      <td>18</td>\n",
       "    </tr>\n",
       "    <tr>\n",
       "      <th>4</th>\n",
       "      <td>826984</td>\n",
       "      <td>683</td>\n",
       "      <td>2015-06-29 17:05:00+00:00</td>\n",
       "      <td>MLK Library</td>\n",
       "      <td>11</td>\n",
       "      <td>2015-06-29 17:16:00+00:00</td>\n",
       "      <td>Japantown</td>\n",
       "      <td>9</td>\n",
       "      <td>150</td>\n",
       "      <td>95112</td>\n",
       "      <td>Subscriber</td>\n",
       "      <td>17</td>\n",
       "    </tr>\n",
       "  </tbody>\n",
       "</table>\n",
       "</div>"
      ],
      "text/plain": [
       "   trip_id  duration_sec                start_date start_station_name  \\\n",
       "0  1278755           845 2016-07-15 17:15:00+00:00        MLK Library   \n",
       "1     6323          2868 2013-08-30 18:36:00+00:00        MLK Library   \n",
       "2   883725          1024 2015-08-10 18:33:00+00:00        MLK Library   \n",
       "3   151953           669 2014-01-13 18:09:00+00:00        MLK Library   \n",
       "4   826984           683 2015-06-29 17:05:00+00:00        MLK Library   \n",
       "\n",
       "   start_station_id                  end_date end_station_name  \\\n",
       "0                11 2016-07-15 17:29:00+00:00        Japantown   \n",
       "1                11 2013-08-30 19:24:00+00:00        Japantown   \n",
       "2                11 2015-08-10 18:50:00+00:00        Japantown   \n",
       "3                11 2014-01-13 18:20:00+00:00        Japantown   \n",
       "4                11 2015-06-29 17:16:00+00:00        Japantown   \n",
       "\n",
       "   end_station_id  bike_number zip_code subscriber_type  trip_hour  \n",
       "0               9          710    95109      Subscriber         17  \n",
       "1               9           52    95112        Customer         18  \n",
       "2               9          107    95112      Subscriber         18  \n",
       "3               9          180    95112      Subscriber         18  \n",
       "4               9          150    95112      Subscriber         17  "
      ]
     },
     "execution_count": 236,
     "metadata": {},
     "output_type": "execute_result"
    }
   ],
   "source": [
    "commuter_trips.head()"
   ]
  },
  {
   "cell_type": "markdown",
   "id": "b73dcf23",
   "metadata": {},
   "source": [
    "When we join this table with the longitude and latitudes station locations for the start and end stations, we can see where the majority of people travel to work.\n",
    "\n",
    "For this example, we will collect the coordinates for the starting bike trips in San Francisco and counting the number of trips:"
   ]
  },
  {
   "cell_type": "code",
   "execution_count": 131,
   "id": "ad417071",
   "metadata": {},
   "outputs": [
    {
     "name": "stderr",
     "output_type": "stream",
     "text": [
      "Query complete after 0.00s: 100%|██████████| 3/3 [00:00<00:00, 1140.07query/s]                        \n",
      "Downloading: 100%|██████████| 39/39 [00:01<00:00, 28.15rows/s]\n"
     ]
    }
   ],
   "source": [
    "%%bigquery start_bike_trips\n",
    "\n",
    "SELECT latitude, longitude, start_station_name, COUNT(trip_id) AS trips\n",
    "FROM `bigquery-public-data.san_francisco.bikeshare_trips`\n",
    "INNER JOIN `bigquery-public-data.san_francisco.bikeshare_stations`\n",
    "ON `bigquery-public-data.san_francisco.bikeshare_trips`.start_station_id = `bigquery-public-data.san_francisco.bikeshare_stations`.station_id\n",
    "WHERE (duration_sec BETWEEN 600 AND 3600) AND\n",
    "    ((EXTRACT (HOUR FROM TIME(start_date)) BETWEEN 7 AND 9) OR\n",
    "     (EXTRACT (HOUR FROM TIME(start_date)) BETWEEN 16 AND 18)) AND\n",
    "    (start_station_name != end_station_name) AND\n",
    "    (EXTRACT (DAYOFWEEK FROM start_date) IN (2, 3, 4, 5, 6)) AND\n",
    "    (landmark = 'San Francisco')\n",
    "GROUP BY latitude, longitude, start_station_name"
   ]
  },
  {
   "cell_type": "code",
   "execution_count": 132,
   "id": "6e099273",
   "metadata": {},
   "outputs": [
    {
     "data": {
      "text/html": [
       "<div>\n",
       "<style scoped>\n",
       "    .dataframe tbody tr th:only-of-type {\n",
       "        vertical-align: middle;\n",
       "    }\n",
       "\n",
       "    .dataframe tbody tr th {\n",
       "        vertical-align: top;\n",
       "    }\n",
       "\n",
       "    .dataframe thead th {\n",
       "        text-align: right;\n",
       "    }\n",
       "</style>\n",
       "<table border=\"1\" class=\"dataframe\">\n",
       "  <thead>\n",
       "    <tr style=\"text-align: right;\">\n",
       "      <th></th>\n",
       "      <th>latitude</th>\n",
       "      <th>longitude</th>\n",
       "      <th>start_station_name</th>\n",
       "      <th>trips</th>\n",
       "    </tr>\n",
       "  </thead>\n",
       "  <tbody>\n",
       "    <tr>\n",
       "      <th>0</th>\n",
       "      <td>37.781752</td>\n",
       "      <td>-122.405127</td>\n",
       "      <td>5th at Howard</td>\n",
       "      <td>1537</td>\n",
       "    </tr>\n",
       "    <tr>\n",
       "      <th>1</th>\n",
       "      <td>37.786978</td>\n",
       "      <td>-122.398108</td>\n",
       "      <td>Howard at 2nd</td>\n",
       "      <td>2086</td>\n",
       "    </tr>\n",
       "  </tbody>\n",
       "</table>\n",
       "</div>"
      ],
      "text/plain": [
       "    latitude   longitude start_station_name  trips\n",
       "0  37.781752 -122.405127      5th at Howard   1537\n",
       "1  37.786978 -122.398108      Howard at 2nd   2086"
      ]
     },
     "execution_count": 132,
     "metadata": {},
     "output_type": "execute_result"
    }
   ],
   "source": [
    "start_bike_trips.head(2)"
   ]
  },
  {
   "cell_type": "markdown",
   "id": "a9483dab",
   "metadata": {},
   "source": [
    "Next, we collect them for the ending bike trips in San Francisco and counting the number of trips as well:"
   ]
  },
  {
   "cell_type": "code",
   "execution_count": 133,
   "id": "26ef503c",
   "metadata": {},
   "outputs": [
    {
     "name": "stderr",
     "output_type": "stream",
     "text": [
      "Query complete after 0.01s: 100%|██████████| 3/3 [00:00<00:00, 510.65query/s]                         \n",
      "Downloading: 100%|██████████| 39/39 [00:01<00:00, 30.71rows/s]\n"
     ]
    }
   ],
   "source": [
    "%%bigquery end_bike_trips\n",
    "\n",
    "SELECT latitude, longitude, end_station_name, COUNT(trip_id) AS trips\n",
    "FROM `bigquery-public-data.san_francisco.bikeshare_trips`\n",
    "INNER JOIN `bigquery-public-data.san_francisco.bikeshare_stations`\n",
    "ON `bigquery-public-data.san_francisco.bikeshare_trips`.end_station_id = `bigquery-public-data.san_francisco.bikeshare_stations`.station_id\n",
    "WHERE (duration_sec BETWEEN 600 AND 3600) AND\n",
    "    ((EXTRACT (HOUR FROM TIME(start_date)) BETWEEN 7 AND 9) OR\n",
    "     (EXTRACT (HOUR FROM TIME(start_date)) BETWEEN 16 AND 18)) AND\n",
    "    (start_station_name != end_station_name) AND\n",
    "    (EXTRACT (DAYOFWEEK FROM start_date) IN (2, 3, 4, 5, 6)) AND\n",
    "    (landmark = 'San Francisco')\n",
    "GROUP BY latitude, longitude, end_station_name"
   ]
  },
  {
   "cell_type": "code",
   "execution_count": 134,
   "id": "f78bbde3",
   "metadata": {},
   "outputs": [
    {
     "data": {
      "text/html": [
       "<div>\n",
       "<style scoped>\n",
       "    .dataframe tbody tr th:only-of-type {\n",
       "        vertical-align: middle;\n",
       "    }\n",
       "\n",
       "    .dataframe tbody tr th {\n",
       "        vertical-align: top;\n",
       "    }\n",
       "\n",
       "    .dataframe thead th {\n",
       "        text-align: right;\n",
       "    }\n",
       "</style>\n",
       "<table border=\"1\" class=\"dataframe\">\n",
       "  <thead>\n",
       "    <tr style=\"text-align: right;\">\n",
       "      <th></th>\n",
       "      <th>latitude</th>\n",
       "      <th>longitude</th>\n",
       "      <th>end_station_name</th>\n",
       "      <th>trips</th>\n",
       "    </tr>\n",
       "  </thead>\n",
       "  <tbody>\n",
       "    <tr>\n",
       "      <th>0</th>\n",
       "      <td>37.785299</td>\n",
       "      <td>-122.396236</td>\n",
       "      <td>2nd at Folsom</td>\n",
       "      <td>1446</td>\n",
       "    </tr>\n",
       "    <tr>\n",
       "      <th>1</th>\n",
       "      <td>37.781752</td>\n",
       "      <td>-122.405127</td>\n",
       "      <td>5th at Howard</td>\n",
       "      <td>1640</td>\n",
       "    </tr>\n",
       "  </tbody>\n",
       "</table>\n",
       "</div>"
      ],
      "text/plain": [
       "    latitude   longitude end_station_name  trips\n",
       "0  37.785299 -122.396236    2nd at Folsom   1446\n",
       "1  37.781752 -122.405127    5th at Howard   1640"
      ]
     },
     "execution_count": 134,
     "metadata": {},
     "output_type": "execute_result"
    }
   ],
   "source": [
    "end_bike_trips.head(2)"
   ]
  },
  {
   "cell_type": "markdown",
   "id": "d7c40022",
   "metadata": {},
   "source": [
    "Then, we combine this information to plot the locations of the start (blue) and end locations (red) for these commuter trips based on the number of trips at these stations."
   ]
  },
  {
   "cell_type": "code",
   "execution_count": 136,
   "id": "f9aa0f0a",
   "metadata": {},
   "outputs": [
    {
     "data": {
      "text/html": [
       "<div style=\"width:100%;\"><div style=\"position:relative;width:100%;height:0;padding-bottom:60%;\"><span style=\"color:#565656\">Make this Notebook Trusted to load map: File -> Trust Notebook</span><iframe src=\"about:blank\" style=\"position:absolute;width:100%;height:100%;left:0;top:0;border:none !important;\" data-html=%3C%21DOCTYPE%20html%3E%0A%3Chead%3E%20%20%20%20%0A%20%20%20%20%3Cmeta%20http-equiv%3D%22content-type%22%20content%3D%22text/html%3B%20charset%3DUTF-8%22%20/%3E%0A%20%20%20%20%0A%20%20%20%20%20%20%20%20%3Cscript%3E%0A%20%20%20%20%20%20%20%20%20%20%20%20L_NO_TOUCH%20%3D%20false%3B%0A%20%20%20%20%20%20%20%20%20%20%20%20L_DISABLE_3D%20%3D%20false%3B%0A%20%20%20%20%20%20%20%20%3C/script%3E%0A%20%20%20%20%0A%20%20%20%20%3Cstyle%3Ehtml%2C%20body%20%7Bwidth%3A%20100%25%3Bheight%3A%20100%25%3Bmargin%3A%200%3Bpadding%3A%200%3B%7D%3C/style%3E%0A%20%20%20%20%3Cstyle%3E%23map%20%7Bposition%3Aabsolute%3Btop%3A0%3Bbottom%3A0%3Bright%3A0%3Bleft%3A0%3B%7D%3C/style%3E%0A%20%20%20%20%3Cscript%20src%3D%22https%3A//cdn.jsdelivr.net/npm/leaflet%401.6.0/dist/leaflet.js%22%3E%3C/script%3E%0A%20%20%20%20%3Cscript%20src%3D%22https%3A//code.jquery.com/jquery-1.12.4.min.js%22%3E%3C/script%3E%0A%20%20%20%20%3Cscript%20src%3D%22https%3A//maxcdn.bootstrapcdn.com/bootstrap/3.2.0/js/bootstrap.min.js%22%3E%3C/script%3E%0A%20%20%20%20%3Cscript%20src%3D%22https%3A//cdnjs.cloudflare.com/ajax/libs/Leaflet.awesome-markers/2.0.2/leaflet.awesome-markers.js%22%3E%3C/script%3E%0A%20%20%20%20%3Clink%20rel%3D%22stylesheet%22%20href%3D%22https%3A//cdn.jsdelivr.net/npm/leaflet%401.6.0/dist/leaflet.css%22/%3E%0A%20%20%20%20%3Clink%20rel%3D%22stylesheet%22%20href%3D%22https%3A//maxcdn.bootstrapcdn.com/bootstrap/3.2.0/css/bootstrap.min.css%22/%3E%0A%20%20%20%20%3Clink%20rel%3D%22stylesheet%22%20href%3D%22https%3A//maxcdn.bootstrapcdn.com/bootstrap/3.2.0/css/bootstrap-theme.min.css%22/%3E%0A%20%20%20%20%3Clink%20rel%3D%22stylesheet%22%20href%3D%22https%3A//maxcdn.bootstrapcdn.com/font-awesome/4.6.3/css/font-awesome.min.css%22/%3E%0A%20%20%20%20%3Clink%20rel%3D%22stylesheet%22%20href%3D%22https%3A//cdnjs.cloudflare.com/ajax/libs/Leaflet.awesome-markers/2.0.2/leaflet.awesome-markers.css%22/%3E%0A%20%20%20%20%3Clink%20rel%3D%22stylesheet%22%20href%3D%22https%3A//cdn.jsdelivr.net/gh/python-visualization/folium/folium/templates/leaflet.awesome.rotate.min.css%22/%3E%0A%20%20%20%20%0A%20%20%20%20%20%20%20%20%20%20%20%20%3Cmeta%20name%3D%22viewport%22%20content%3D%22width%3Ddevice-width%2C%0A%20%20%20%20%20%20%20%20%20%20%20%20%20%20%20%20initial-scale%3D1.0%2C%20maximum-scale%3D1.0%2C%20user-scalable%3Dno%22%20/%3E%0A%20%20%20%20%20%20%20%20%20%20%20%20%3Cstyle%3E%0A%20%20%20%20%20%20%20%20%20%20%20%20%20%20%20%20%23map_0bfc8f5829ca4ec7bb17c0ebb5789065%20%7B%0A%20%20%20%20%20%20%20%20%20%20%20%20%20%20%20%20%20%20%20%20position%3A%20relative%3B%0A%20%20%20%20%20%20%20%20%20%20%20%20%20%20%20%20%20%20%20%20width%3A%20100.0%25%3B%0A%20%20%20%20%20%20%20%20%20%20%20%20%20%20%20%20%20%20%20%20height%3A%20100.0%25%3B%0A%20%20%20%20%20%20%20%20%20%20%20%20%20%20%20%20%20%20%20%20left%3A%200.0%25%3B%0A%20%20%20%20%20%20%20%20%20%20%20%20%20%20%20%20%20%20%20%20top%3A%200.0%25%3B%0A%20%20%20%20%20%20%20%20%20%20%20%20%20%20%20%20%7D%0A%20%20%20%20%20%20%20%20%20%20%20%20%3C/style%3E%0A%20%20%20%20%20%20%20%20%0A%3C/head%3E%0A%3Cbody%3E%20%20%20%20%0A%20%20%20%20%0A%20%20%20%20%20%20%20%20%20%20%20%20%3Cdiv%20class%3D%22folium-map%22%20id%3D%22map_0bfc8f5829ca4ec7bb17c0ebb5789065%22%20%3E%3C/div%3E%0A%20%20%20%20%20%20%20%20%0A%3C/body%3E%0A%3Cscript%3E%20%20%20%20%0A%20%20%20%20%0A%20%20%20%20%20%20%20%20%20%20%20%20var%20map_0bfc8f5829ca4ec7bb17c0ebb5789065%20%3D%20L.map%28%0A%20%20%20%20%20%20%20%20%20%20%20%20%20%20%20%20%22map_0bfc8f5829ca4ec7bb17c0ebb5789065%22%2C%0A%20%20%20%20%20%20%20%20%20%20%20%20%20%20%20%20%7B%0A%20%20%20%20%20%20%20%20%20%20%20%20%20%20%20%20%20%20%20%20center%3A%20%5B37.7847%2C%20-122.4069%5D%2C%0A%20%20%20%20%20%20%20%20%20%20%20%20%20%20%20%20%20%20%20%20crs%3A%20L.CRS.EPSG3857%2C%0A%20%20%20%20%20%20%20%20%20%20%20%20%20%20%20%20%20%20%20%20zoom%3A%2013%2C%0A%20%20%20%20%20%20%20%20%20%20%20%20%20%20%20%20%20%20%20%20zoomControl%3A%20true%2C%0A%20%20%20%20%20%20%20%20%20%20%20%20%20%20%20%20%20%20%20%20preferCanvas%3A%20false%2C%0A%20%20%20%20%20%20%20%20%20%20%20%20%20%20%20%20%7D%0A%20%20%20%20%20%20%20%20%20%20%20%20%29%3B%0A%0A%20%20%20%20%20%20%20%20%20%20%20%20%0A%0A%20%20%20%20%20%20%20%20%0A%20%20%20%20%0A%20%20%20%20%20%20%20%20%20%20%20%20var%20tile_layer_d8a6bfc35e1540edb654389f9333c511%20%3D%20L.tileLayer%28%0A%20%20%20%20%20%20%20%20%20%20%20%20%20%20%20%20%22https%3A//%7Bs%7D.tile.openstreetmap.org/%7Bz%7D/%7Bx%7D/%7By%7D.png%22%2C%0A%20%20%20%20%20%20%20%20%20%20%20%20%20%20%20%20%7B%22attribution%22%3A%20%22Data%20by%20%5Cu0026copy%3B%20%5Cu003ca%20href%3D%5C%22http%3A//openstreetmap.org%5C%22%5Cu003eOpenStreetMap%5Cu003c/a%5Cu003e%2C%20under%20%5Cu003ca%20href%3D%5C%22http%3A//www.openstreetmap.org/copyright%5C%22%5Cu003eODbL%5Cu003c/a%5Cu003e.%22%2C%20%22detectRetina%22%3A%20false%2C%20%22maxNativeZoom%22%3A%2018%2C%20%22maxZoom%22%3A%2018%2C%20%22minZoom%22%3A%200%2C%20%22noWrap%22%3A%20false%2C%20%22opacity%22%3A%201%2C%20%22subdomains%22%3A%20%22abc%22%2C%20%22tms%22%3A%20false%7D%0A%20%20%20%20%20%20%20%20%20%20%20%20%29.addTo%28map_0bfc8f5829ca4ec7bb17c0ebb5789065%29%3B%0A%20%20%20%20%20%20%20%20%0A%20%20%20%20%0A%20%20%20%20%20%20%20%20%20%20%20%20var%20circle_marker_5e3f363704b542b7a496d934070e9320%20%3D%20L.circleMarker%28%0A%20%20%20%20%20%20%20%20%20%20%20%20%20%20%20%20%5B37.781752%2C%20-122.405127%5D%2C%0A%20%20%20%20%20%20%20%20%20%20%20%20%20%20%20%20%7B%22bubblingMouseEvents%22%3A%20true%2C%20%22color%22%3A%20%22blue%22%2C%20%22dashArray%22%3A%20null%2C%20%22dashOffset%22%3A%20null%2C%20%22fill%22%3A%20true%2C%20%22fillColor%22%3A%20%22blue%22%2C%20%22fillOpacity%22%3A%200.2%2C%20%22fillRule%22%3A%20%22evenodd%22%2C%20%22lineCap%22%3A%20%22round%22%2C%20%22lineJoin%22%3A%20%22round%22%2C%20%22opacity%22%3A%201.0%2C%20%22radius%22%3A%201.92125%2C%20%22stroke%22%3A%20true%2C%20%22weight%22%3A%201.5%7D%0A%20%20%20%20%20%20%20%20%20%20%20%20%29.addTo%28map_0bfc8f5829ca4ec7bb17c0ebb5789065%29%3B%0A%20%20%20%20%20%20%20%20%0A%20%20%20%20%0A%20%20%20%20%20%20%20%20%20%20%20%20circle_marker_5e3f363704b542b7a496d934070e9320.bindTooltip%28%0A%20%20%20%20%20%20%20%20%20%20%20%20%20%20%20%20%60%3Cdiv%3E%0A%20%20%20%20%20%20%20%20%20%20%20%20%20%20%20%20%20%20%20%20%205th%20at%20Howard%20%3Cbr%3E%20Number%20of%20Trips%3A%201537%0A%20%20%20%20%20%20%20%20%20%20%20%20%20%20%20%20%20%3C/div%3E%60%2C%0A%20%20%20%20%20%20%20%20%20%20%20%20%20%20%20%20%7B%22sticky%22%3A%20true%7D%0A%20%20%20%20%20%20%20%20%20%20%20%20%29%3B%0A%20%20%20%20%20%20%20%20%0A%20%20%20%20%0A%20%20%20%20%20%20%20%20%20%20%20%20var%20circle_marker_74c1a08563d744a3b51320f03d94a2cd%20%3D%20L.circleMarker%28%0A%20%20%20%20%20%20%20%20%20%20%20%20%20%20%20%20%5B37.786978%2C%20-122.398108%5D%2C%0A%20%20%20%20%20%20%20%20%20%20%20%20%20%20%20%20%7B%22bubblingMouseEvents%22%3A%20true%2C%20%22color%22%3A%20%22blue%22%2C%20%22dashArray%22%3A%20null%2C%20%22dashOffset%22%3A%20null%2C%20%22fill%22%3A%20true%2C%20%22fillColor%22%3A%20%22blue%22%2C%20%22fillOpacity%22%3A%200.2%2C%20%22fillRule%22%3A%20%22evenodd%22%2C%20%22lineCap%22%3A%20%22round%22%2C%20%22lineJoin%22%3A%20%22round%22%2C%20%22opacity%22%3A%201.0%2C%20%22radius%22%3A%202.6075%2C%20%22stroke%22%3A%20true%2C%20%22weight%22%3A%201.5%7D%0A%20%20%20%20%20%20%20%20%20%20%20%20%29.addTo%28map_0bfc8f5829ca4ec7bb17c0ebb5789065%29%3B%0A%20%20%20%20%20%20%20%20%0A%20%20%20%20%0A%20%20%20%20%20%20%20%20%20%20%20%20circle_marker_74c1a08563d744a3b51320f03d94a2cd.bindTooltip%28%0A%20%20%20%20%20%20%20%20%20%20%20%20%20%20%20%20%60%3Cdiv%3E%0A%20%20%20%20%20%20%20%20%20%20%20%20%20%20%20%20%20%20%20%20%20Howard%20at%202nd%20%3Cbr%3E%20Number%20of%20Trips%3A%202086%0A%20%20%20%20%20%20%20%20%20%20%20%20%20%20%20%20%20%3C/div%3E%60%2C%0A%20%20%20%20%20%20%20%20%20%20%20%20%20%20%20%20%7B%22sticky%22%3A%20true%7D%0A%20%20%20%20%20%20%20%20%20%20%20%20%29%3B%0A%20%20%20%20%20%20%20%20%0A%20%20%20%20%0A%20%20%20%20%20%20%20%20%20%20%20%20var%20circle_marker_029c2062522e46eaaa9966847e3a9728%20%3D%20L.circleMarker%28%0A%20%20%20%20%20%20%20%20%20%20%20%20%20%20%20%20%5B37.786305%2C%20-122.404966%5D%2C%0A%20%20%20%20%20%20%20%20%20%20%20%20%20%20%20%20%7B%22bubblingMouseEvents%22%3A%20true%2C%20%22color%22%3A%20%22blue%22%2C%20%22dashArray%22%3A%20null%2C%20%22dashOffset%22%3A%20null%2C%20%22fill%22%3A%20true%2C%20%22fillColor%22%3A%20%22blue%22%2C%20%22fillOpacity%22%3A%200.2%2C%20%22fillRule%22%3A%20%22evenodd%22%2C%20%22lineCap%22%3A%20%22round%22%2C%20%22lineJoin%22%3A%20%22round%22%2C%20%22opacity%22%3A%201.0%2C%20%22radius%22%3A%202.68125%2C%20%22stroke%22%3A%20true%2C%20%22weight%22%3A%201.5%7D%0A%20%20%20%20%20%20%20%20%20%20%20%20%29.addTo%28map_0bfc8f5829ca4ec7bb17c0ebb5789065%29%3B%0A%20%20%20%20%20%20%20%20%0A%20%20%20%20%0A%20%20%20%20%20%20%20%20%20%20%20%20circle_marker_029c2062522e46eaaa9966847e3a9728.bindTooltip%28%0A%20%20%20%20%20%20%20%20%20%20%20%20%20%20%20%20%60%3Cdiv%3E%0A%20%20%20%20%20%20%20%20%20%20%20%20%20%20%20%20%20%20%20%20%20Market%20at%204th%20%3Cbr%3E%20Number%20of%20Trips%3A%202145%0A%20%20%20%20%20%20%20%20%20%20%20%20%20%20%20%20%20%3C/div%3E%60%2C%0A%20%20%20%20%20%20%20%20%20%20%20%20%20%20%20%20%7B%22sticky%22%3A%20true%7D%0A%20%20%20%20%20%20%20%20%20%20%20%20%29%3B%0A%20%20%20%20%20%20%20%20%0A%20%20%20%20%0A%20%20%20%20%20%20%20%20%20%20%20%20var%20circle_marker_8a3f596c2135419c9b102dd7ab0948dd%20%3D%20L.circleMarker%28%0A%20%20%20%20%20%20%20%20%20%20%20%20%20%20%20%20%5B37.776619%2C%20-122.417385%5D%2C%0A%20%20%20%20%20%20%20%20%20%20%20%20%20%20%20%20%7B%22bubblingMouseEvents%22%3A%20true%2C%20%22color%22%3A%20%22blue%22%2C%20%22dashArray%22%3A%20null%2C%20%22dashOffset%22%3A%20null%2C%20%22fill%22%3A%20true%2C%20%22fillColor%22%3A%20%22blue%22%2C%20%22fillOpacity%22%3A%200.2%2C%20%22fillRule%22%3A%20%22evenodd%22%2C%20%22lineCap%22%3A%20%22round%22%2C%20%22lineJoin%22%3A%20%22round%22%2C%20%22opacity%22%3A%201.0%2C%20%22radius%22%3A%209.23875%2C%20%22stroke%22%3A%20true%2C%20%22weight%22%3A%201.5%7D%0A%20%20%20%20%20%20%20%20%20%20%20%20%29.addTo%28map_0bfc8f5829ca4ec7bb17c0ebb5789065%29%3B%0A%20%20%20%20%20%20%20%20%0A%20%20%20%20%0A%20%20%20%20%20%20%20%20%20%20%20%20circle_marker_8a3f596c2135419c9b102dd7ab0948dd.bindTooltip%28%0A%20%20%20%20%20%20%20%20%20%20%20%20%20%20%20%20%60%3Cdiv%3E%0A%20%20%20%20%20%20%20%20%20%20%20%20%20%20%20%20%20%20%20%20%20Market%20at%2010th%20%3Cbr%3E%20Number%20of%20Trips%3A%207391%0A%20%20%20%20%20%20%20%20%20%20%20%20%20%20%20%20%20%3C/div%3E%60%2C%0A%20%20%20%20%20%20%20%20%20%20%20%20%20%20%20%20%7B%22sticky%22%3A%20true%7D%0A%20%20%20%20%20%20%20%20%20%20%20%20%29%3B%0A%20%20%20%20%20%20%20%20%0A%20%20%20%20%0A%20%20%20%20%20%20%20%20%20%20%20%20var%20circle_marker_80ed6cee5a3c49cd80f0716821389c96%20%3D%20L.circleMarker%28%0A%20%20%20%20%20%20%20%20%20%20%20%20%20%20%20%20%5B37.788975%2C%20-122.403452%5D%2C%0A%20%20%20%20%20%20%20%20%20%20%20%20%20%20%20%20%7B%22bubblingMouseEvents%22%3A%20true%2C%20%22color%22%3A%20%22blue%22%2C%20%22dashArray%22%3A%20null%2C%20%22dashOffset%22%3A%20null%2C%20%22fill%22%3A%20true%2C%20%22fillColor%22%3A%20%22blue%22%2C%20%22fillOpacity%22%3A%200.2%2C%20%22fillRule%22%3A%20%22evenodd%22%2C%20%22lineCap%22%3A%20%22round%22%2C%20%22lineJoin%22%3A%20%22round%22%2C%20%22opacity%22%3A%201.0%2C%20%22radius%22%3A%202.0775%2C%20%22stroke%22%3A%20true%2C%20%22weight%22%3A%201.5%7D%0A%20%20%20%20%20%20%20%20%20%20%20%20%29.addTo%28map_0bfc8f5829ca4ec7bb17c0ebb5789065%29%3B%0A%20%20%20%20%20%20%20%20%0A%20%20%20%20%0A%20%20%20%20%20%20%20%20%20%20%20%20circle_marker_80ed6cee5a3c49cd80f0716821389c96.bindTooltip%28%0A%20%20%20%20%20%20%20%20%20%20%20%20%20%20%20%20%60%3Cdiv%3E%0A%20%20%20%20%20%20%20%20%20%20%20%20%20%20%20%20%20%20%20%20%20Post%20at%20Kearny%20%3Cbr%3E%20Number%20of%20Trips%3A%201662%0A%20%20%20%20%20%20%20%20%20%20%20%20%20%20%20%20%20%3C/div%3E%60%2C%0A%20%20%20%20%20%20%20%20%20%20%20%20%20%20%20%20%7B%22sticky%22%3A%20true%7D%0A%20%20%20%20%20%20%20%20%20%20%20%20%29%3B%0A%20%20%20%20%20%20%20%20%0A%20%20%20%20%0A%20%20%20%20%20%20%20%20%20%20%20%20var%20circle_marker_71cceb4040d04080ae5886029a0978e8%20%3D%20L.circleMarker%28%0A%20%20%20%20%20%20%20%20%20%20%20%20%20%20%20%20%5B37.780526%2C%20-122.390288%5D%2C%0A%20%20%20%20%20%20%20%20%20%20%20%20%20%20%20%20%7B%22bubblingMouseEvents%22%3A%20true%2C%20%22color%22%3A%20%22blue%22%2C%20%22dashArray%22%3A%20null%2C%20%22dashOffset%22%3A%20null%2C%20%22fill%22%3A%20true%2C%20%22fillColor%22%3A%20%22blue%22%2C%20%22fillOpacity%22%3A%200.2%2C%20%22fillRule%22%3A%20%22evenodd%22%2C%20%22lineCap%22%3A%20%22round%22%2C%20%22lineJoin%22%3A%20%22round%22%2C%20%22opacity%22%3A%201.0%2C%20%22radius%22%3A%207.43%2C%20%22stroke%22%3A%20true%2C%20%22weight%22%3A%201.5%7D%0A%20%20%20%20%20%20%20%20%20%20%20%20%29.addTo%28map_0bfc8f5829ca4ec7bb17c0ebb5789065%29%3B%0A%20%20%20%20%20%20%20%20%0A%20%20%20%20%0A%20%20%20%20%20%20%20%20%20%20%20%20circle_marker_71cceb4040d04080ae5886029a0978e8.bindTooltip%28%0A%20%20%20%20%20%20%20%20%20%20%20%20%20%20%20%20%60%3Cdiv%3E%0A%20%20%20%20%20%20%20%20%20%20%20%20%20%20%20%20%20%20%20%20%202nd%20at%20Townsend%20%3Cbr%3E%20Number%20of%20Trips%3A%205944%0A%20%20%20%20%20%20%20%20%20%20%20%20%20%20%20%20%20%3C/div%3E%60%2C%0A%20%20%20%20%20%20%20%20%20%20%20%20%20%20%20%20%7B%22sticky%22%3A%20true%7D%0A%20%20%20%20%20%20%20%20%20%20%20%20%29%3B%0A%20%20%20%20%20%20%20%20%0A%20%20%20%20%0A%20%20%20%20%20%20%20%20%20%20%20%20var%20circle_marker_546567775c1446bab33f48545482af89%20%3D%20L.circleMarker%28%0A%20%20%20%20%20%20%20%20%20%20%20%20%20%20%20%20%5B37.792251%2C%20-122.397086%5D%2C%0A%20%20%20%20%20%20%20%20%20%20%20%20%20%20%20%20%7B%22bubblingMouseEvents%22%3A%20true%2C%20%22color%22%3A%20%22blue%22%2C%20%22dashArray%22%3A%20null%2C%20%22dashOffset%22%3A%20null%2C%20%22fill%22%3A%20true%2C%20%22fillColor%22%3A%20%22blue%22%2C%20%22fillOpacity%22%3A%200.2%2C%20%22fillRule%22%3A%20%22evenodd%22%2C%20%22lineCap%22%3A%20%22round%22%2C%20%22lineJoin%22%3A%20%22round%22%2C%20%22opacity%22%3A%201.0%2C%20%22radius%22%3A%205.3325%2C%20%22stroke%22%3A%20true%2C%20%22weight%22%3A%201.5%7D%0A%20%20%20%20%20%20%20%20%20%20%20%20%29.addTo%28map_0bfc8f5829ca4ec7bb17c0ebb5789065%29%3B%0A%20%20%20%20%20%20%20%20%0A%20%20%20%20%0A%20%20%20%20%20%20%20%20%20%20%20%20circle_marker_546567775c1446bab33f48545482af89.bindTooltip%28%0A%20%20%20%20%20%20%20%20%20%20%20%20%20%20%20%20%60%3Cdiv%3E%0A%20%20%20%20%20%20%20%20%20%20%20%20%20%20%20%20%20%20%20%20%20Beale%20at%20Market%20%3Cbr%3E%20Number%20of%20Trips%3A%204266%0A%20%20%20%20%20%20%20%20%20%20%20%20%20%20%20%20%20%3C/div%3E%60%2C%0A%20%20%20%20%20%20%20%20%20%20%20%20%20%20%20%20%7B%22sticky%22%3A%20true%7D%0A%20%20%20%20%20%20%20%20%20%20%20%20%29%3B%0A%20%20%20%20%20%20%20%20%0A%20%20%20%20%0A%20%20%20%20%20%20%20%20%20%20%20%20var%20circle_marker_bd2bc15600b34b699554e7af32435406%20%3D%20L.circleMarker%28%0A%20%20%20%20%20%20%20%20%20%20%20%20%20%20%20%20%5B37.795001%2C%20-122.39997%5D%2C%0A%20%20%20%20%20%20%20%20%20%20%20%20%20%20%20%20%7B%22bubblingMouseEvents%22%3A%20true%2C%20%22color%22%3A%20%22blue%22%2C%20%22dashArray%22%3A%20null%2C%20%22dashOffset%22%3A%20null%2C%20%22fill%22%3A%20true%2C%20%22fillColor%22%3A%20%22blue%22%2C%20%22fillOpacity%22%3A%200.2%2C%20%22fillRule%22%3A%20%22evenodd%22%2C%20%22lineCap%22%3A%20%22round%22%2C%20%22lineJoin%22%3A%20%22round%22%2C%20%22opacity%22%3A%201.0%2C%20%22radius%22%3A%204.90125%2C%20%22stroke%22%3A%20true%2C%20%22weight%22%3A%201.5%7D%0A%20%20%20%20%20%20%20%20%20%20%20%20%29.addTo%28map_0bfc8f5829ca4ec7bb17c0ebb5789065%29%3B%0A%20%20%20%20%20%20%20%20%0A%20%20%20%20%0A%20%20%20%20%20%20%20%20%20%20%20%20circle_marker_bd2bc15600b34b699554e7af32435406.bindTooltip%28%0A%20%20%20%20%20%20%20%20%20%20%20%20%20%20%20%20%60%3Cdiv%3E%0A%20%20%20%20%20%20%20%20%20%20%20%20%20%20%20%20%20%20%20%20%20Clay%20at%20Battery%20%3Cbr%3E%20Number%20of%20Trips%3A%203921%0A%20%20%20%20%20%20%20%20%20%20%20%20%20%20%20%20%20%3C/div%3E%60%2C%0A%20%20%20%20%20%20%20%20%20%20%20%20%20%20%20%20%7B%22sticky%22%3A%20true%7D%0A%20%20%20%20%20%20%20%20%20%20%20%20%29%3B%0A%20%20%20%20%20%20%20%20%0A%20%20%20%20%0A%20%20%20%20%20%20%20%20%20%20%20%20var%20circle_marker_6c057e1393e5479baabf787a0e7f7e80%20%3D%20L.circleMarker%28%0A%20%20%20%20%20%20%20%20%20%20%20%20%20%20%20%20%5B37.790302%2C%20-122.390637%5D%2C%0A%20%20%20%20%20%20%20%20%20%20%20%20%20%20%20%20%7B%22bubblingMouseEvents%22%3A%20true%2C%20%22color%22%3A%20%22blue%22%2C%20%22dashArray%22%3A%20null%2C%20%22dashOffset%22%3A%20null%2C%20%22fill%22%3A%20true%2C%20%22fillColor%22%3A%20%22blue%22%2C%20%22fillOpacity%22%3A%200.2%2C%20%22fillRule%22%3A%20%22evenodd%22%2C%20%22lineCap%22%3A%20%22round%22%2C%20%22lineJoin%22%3A%20%22round%22%2C%20%22opacity%22%3A%201.0%2C%20%22radius%22%3A%203.36625%2C%20%22stroke%22%3A%20true%2C%20%22weight%22%3A%201.5%7D%0A%20%20%20%20%20%20%20%20%20%20%20%20%29.addTo%28map_0bfc8f5829ca4ec7bb17c0ebb5789065%29%3B%0A%20%20%20%20%20%20%20%20%0A%20%20%20%20%0A%20%20%20%20%20%20%20%20%20%20%20%20circle_marker_6c057e1393e5479baabf787a0e7f7e80.bindTooltip%28%0A%20%20%20%20%20%20%20%20%20%20%20%20%20%20%20%20%60%3Cdiv%3E%0A%20%20%20%20%20%20%20%20%20%20%20%20%20%20%20%20%20%20%20%20%20Spear%20at%20Folsom%20%3Cbr%3E%20Number%20of%20Trips%3A%202693%0A%20%20%20%20%20%20%20%20%20%20%20%20%20%20%20%20%20%3C/div%3E%60%2C%0A%20%20%20%20%20%20%20%20%20%20%20%20%20%20%20%20%7B%22sticky%22%3A%20true%7D%0A%20%20%20%20%20%20%20%20%20%20%20%20%29%3B%0A%20%20%20%20%20%20%20%20%0A%20%20%20%20%0A%20%20%20%20%20%20%20%20%20%20%20%20var%20circle_marker_43de4c01785d4514bc9f66c7c84e7f04%20%3D%20L.circleMarker%28%0A%20%20%20%20%20%20%20%20%20%20%20%20%20%20%20%20%5B37.771058%2C%20-122.402717%5D%2C%0A%20%20%20%20%20%20%20%20%20%20%20%20%20%20%20%20%7B%22bubblingMouseEvents%22%3A%20true%2C%20%22color%22%3A%20%22blue%22%2C%20%22dashArray%22%3A%20null%2C%20%22dashOffset%22%3A%20null%2C%20%22fill%22%3A%20true%2C%20%22fillColor%22%3A%20%22blue%22%2C%20%22fillOpacity%22%3A%200.2%2C%20%22fillRule%22%3A%20%22evenodd%22%2C%20%22lineCap%22%3A%20%22round%22%2C%20%22lineJoin%22%3A%20%22round%22%2C%20%22opacity%22%3A%201.0%2C%20%22radius%22%3A%2010.3275%2C%20%22stroke%22%3A%20true%2C%20%22weight%22%3A%201.5%7D%0A%20%20%20%20%20%20%20%20%20%20%20%20%29.addTo%28map_0bfc8f5829ca4ec7bb17c0ebb5789065%29%3B%0A%20%20%20%20%20%20%20%20%0A%20%20%20%20%0A%20%20%20%20%20%20%20%20%20%20%20%20circle_marker_43de4c01785d4514bc9f66c7c84e7f04.bindTooltip%28%0A%20%20%20%20%20%20%20%20%20%20%20%20%20%20%20%20%60%3Cdiv%3E%0A%20%20%20%20%20%20%20%20%20%20%20%20%20%20%20%20%20%20%20%20%20Townsend%20at%207th%20%3Cbr%3E%20Number%20of%20Trips%3A%208262%0A%20%20%20%20%20%20%20%20%20%20%20%20%20%20%20%20%20%3C/div%3E%60%2C%0A%20%20%20%20%20%20%20%20%20%20%20%20%20%20%20%20%7B%22sticky%22%3A%20true%7D%0A%20%20%20%20%20%20%20%20%20%20%20%20%29%3B%0A%20%20%20%20%20%20%20%20%0A%20%20%20%20%0A%20%20%20%20%20%20%20%20%20%20%20%20var%20circle_marker_2e00f1c44fe948428f994297ec0db6f5%20%3D%20L.circleMarker%28%0A%20%20%20%20%20%20%20%20%20%20%20%20%20%20%20%20%5B37.79728%2C%20-122.398436%5D%2C%0A%20%20%20%20%20%20%20%20%20%20%20%20%20%20%20%20%7B%22bubblingMouseEvents%22%3A%20true%2C%20%22color%22%3A%20%22blue%22%2C%20%22dashArray%22%3A%20null%2C%20%22dashOffset%22%3A%20null%2C%20%22fill%22%3A%20true%2C%20%22fillColor%22%3A%20%22blue%22%2C%20%22fillOpacity%22%3A%200.2%2C%20%22fillRule%22%3A%20%22evenodd%22%2C%20%22lineCap%22%3A%20%22round%22%2C%20%22lineJoin%22%3A%20%22round%22%2C%20%22opacity%22%3A%201.0%2C%20%22radius%22%3A%205.23375%2C%20%22stroke%22%3A%20true%2C%20%22weight%22%3A%201.5%7D%0A%20%20%20%20%20%20%20%20%20%20%20%20%29.addTo%28map_0bfc8f5829ca4ec7bb17c0ebb5789065%29%3B%0A%20%20%20%20%20%20%20%20%0A%20%20%20%20%0A%20%20%20%20%20%20%20%20%20%20%20%20circle_marker_2e00f1c44fe948428f994297ec0db6f5.bindTooltip%28%0A%20%20%20%20%20%20%20%20%20%20%20%20%20%20%20%20%60%3Cdiv%3E%0A%20%20%20%20%20%20%20%20%20%20%20%20%20%20%20%20%20%20%20%20%20Davis%20at%20Jackson%20%3Cbr%3E%20Number%20of%20Trips%3A%204187%0A%20%20%20%20%20%20%20%20%20%20%20%20%20%20%20%20%20%3C/div%3E%60%2C%0A%20%20%20%20%20%20%20%20%20%20%20%20%20%20%20%20%7B%22sticky%22%3A%20true%7D%0A%20%20%20%20%20%20%20%20%20%20%20%20%29%3B%0A%20%20%20%20%20%20%20%20%0A%20%20%20%20%0A%20%20%20%20%20%20%20%20%20%20%20%20var%20circle_marker_97567bb1878949448d39c4795a8d3f8d%20%3D%20L.circleMarker%28%0A%20%20%20%20%20%20%20%20%20%20%20%20%20%20%20%20%5B37.782259%2C%20-122.392738%5D%2C%0A%20%20%20%20%20%20%20%20%20%20%20%20%20%20%20%20%7B%22bubblingMouseEvents%22%3A%20true%2C%20%22color%22%3A%20%22blue%22%2C%20%22dashArray%22%3A%20null%2C%20%22dashOffset%22%3A%20null%2C%20%22fill%22%3A%20true%2C%20%22fillColor%22%3A%20%22blue%22%2C%20%22fillOpacity%22%3A%200.2%2C%20%22fillRule%22%3A%20%22evenodd%22%2C%20%22lineCap%22%3A%20%22round%22%2C%20%22lineJoin%22%3A%20%22round%22%2C%20%22opacity%22%3A%201.0%2C%20%22radius%22%3A%203.94375%2C%20%22stroke%22%3A%20true%2C%20%22weight%22%3A%201.5%7D%0A%20%20%20%20%20%20%20%20%20%20%20%20%29.addTo%28map_0bfc8f5829ca4ec7bb17c0ebb5789065%29%3B%0A%20%20%20%20%20%20%20%20%0A%20%20%20%20%0A%20%20%20%20%20%20%20%20%20%20%20%20circle_marker_97567bb1878949448d39c4795a8d3f8d.bindTooltip%28%0A%20%20%20%20%20%20%20%20%20%20%20%20%20%20%20%20%60%3Cdiv%3E%0A%20%20%20%20%20%20%20%20%20%20%20%20%20%20%20%20%20%20%20%20%202nd%20at%20South%20Park%20%3Cbr%3E%20Number%20of%20Trips%3A%203155%0A%20%20%20%20%20%20%20%20%20%20%20%20%20%20%20%20%20%3C/div%3E%60%2C%0A%20%20%20%20%20%20%20%20%20%20%20%20%20%20%20%20%7B%22sticky%22%3A%20true%7D%0A%20%20%20%20%20%20%20%20%20%20%20%20%29%3B%0A%20%20%20%20%20%20%20%20%0A%20%20%20%20%0A%20%20%20%20%20%20%20%20%20%20%20%20var%20circle_marker_cef5d8387db1418c8b09038f43e70a2f%20%3D%20L.circleMarker%28%0A%20%20%20%20%20%20%20%20%20%20%20%20%20%20%20%20%5B37.789625%2C%20-122.400811%5D%2C%0A%20%20%20%20%20%20%20%20%20%20%20%20%20%20%20%20%7B%22bubblingMouseEvents%22%3A%20true%2C%20%22color%22%3A%20%22blue%22%2C%20%22dashArray%22%3A%20null%2C%20%22dashOffset%22%3A%20null%2C%20%22fill%22%3A%20true%2C%20%22fillColor%22%3A%20%22blue%22%2C%20%22fillOpacity%22%3A%200.2%2C%20%22fillRule%22%3A%20%22evenodd%22%2C%20%22lineCap%22%3A%20%22round%22%2C%20%22lineJoin%22%3A%20%22round%22%2C%20%22opacity%22%3A%201.0%2C%20%22radius%22%3A%205.74375%2C%20%22stroke%22%3A%20true%2C%20%22weight%22%3A%201.5%7D%0A%20%20%20%20%20%20%20%20%20%20%20%20%29.addTo%28map_0bfc8f5829ca4ec7bb17c0ebb5789065%29%3B%0A%20%20%20%20%20%20%20%20%0A%20%20%20%20%0A%20%20%20%20%20%20%20%20%20%20%20%20circle_marker_cef5d8387db1418c8b09038f43e70a2f.bindTooltip%28%0A%20%20%20%20%20%20%20%20%20%20%20%20%20%20%20%20%60%3Cdiv%3E%0A%20%20%20%20%20%20%20%20%20%20%20%20%20%20%20%20%20%20%20%20%20Market%20at%20Sansome%20%3Cbr%3E%20Number%20of%20Trips%3A%204595%0A%20%20%20%20%20%20%20%20%20%20%20%20%20%20%20%20%20%3C/div%3E%60%2C%0A%20%20%20%20%20%20%20%20%20%20%20%20%20%20%20%20%7B%22sticky%22%3A%20true%7D%0A%20%20%20%20%20%20%20%20%20%20%20%20%29%3B%0A%20%20%20%20%20%20%20%20%0A%20%20%20%20%0A%20%20%20%20%20%20%20%20%20%20%20%20var%20circle_marker_527360c98964426086511aa24d642292%20%3D%20L.circleMarker%28%0A%20%20%20%20%20%20%20%20%20%20%20%20%20%20%20%20%5B37.794139%2C%20-122.394434%5D%2C%0A%20%20%20%20%20%20%20%20%20%20%20%20%20%20%20%20%7B%22bubblingMouseEvents%22%3A%20true%2C%20%22color%22%3A%20%22blue%22%2C%20%22dashArray%22%3A%20null%2C%20%22dashOffset%22%3A%20null%2C%20%22fill%22%3A%20true%2C%20%22fillColor%22%3A%20%22blue%22%2C%20%22fillOpacity%22%3A%200.2%2C%20%22fillRule%22%3A%20%22evenodd%22%2C%20%22lineCap%22%3A%20%22round%22%2C%20%22lineJoin%22%3A%20%22round%22%2C%20%22opacity%22%3A%201.0%2C%20%22radius%22%3A%2011.5325%2C%20%22stroke%22%3A%20true%2C%20%22weight%22%3A%201.5%7D%0A%20%20%20%20%20%20%20%20%20%20%20%20%29.addTo%28map_0bfc8f5829ca4ec7bb17c0ebb5789065%29%3B%0A%20%20%20%20%20%20%20%20%0A%20%20%20%20%0A%20%20%20%20%20%20%20%20%20%20%20%20circle_marker_527360c98964426086511aa24d642292.bindTooltip%28%0A%20%20%20%20%20%20%20%20%20%20%20%20%20%20%20%20%60%3Cdiv%3E%0A%20%20%20%20%20%20%20%20%20%20%20%20%20%20%20%20%20%20%20%20%20Steuart%20at%20Market%20%3Cbr%3E%20Number%20of%20Trips%3A%209226%0A%20%20%20%20%20%20%20%20%20%20%20%20%20%20%20%20%20%3C/div%3E%60%2C%0A%20%20%20%20%20%20%20%20%20%20%20%20%20%20%20%20%7B%22sticky%22%3A%20true%7D%0A%20%20%20%20%20%20%20%20%20%20%20%20%29%3B%0A%20%20%20%20%20%20%20%20%0A%20%20%20%20%0A%20%20%20%20%20%20%20%20%20%20%20%20var%20circle_marker_f255a08a2f944db6a055fce1efe83121%20%3D%20L.circleMarker%28%0A%20%20%20%20%20%20%20%20%20%20%20%20%20%20%20%20%5B37.783871%2C%20-122.408433%5D%2C%0A%20%20%20%20%20%20%20%20%20%20%20%20%20%20%20%20%7B%22bubblingMouseEvents%22%3A%20true%2C%20%22color%22%3A%20%22blue%22%2C%20%22dashArray%22%3A%20null%2C%20%22dashOffset%22%3A%20null%2C%20%22fill%22%3A%20true%2C%20%22fillColor%22%3A%20%22blue%22%2C%20%22fillOpacity%22%3A%200.2%2C%20%22fillRule%22%3A%20%22evenodd%22%2C%20%22lineCap%22%3A%20%22round%22%2C%20%22lineJoin%22%3A%20%22round%22%2C%20%22opacity%22%3A%201.0%2C%20%22radius%22%3A%202.30625%2C%20%22stroke%22%3A%20true%2C%20%22weight%22%3A%201.5%7D%0A%20%20%20%20%20%20%20%20%20%20%20%20%29.addTo%28map_0bfc8f5829ca4ec7bb17c0ebb5789065%29%3B%0A%20%20%20%20%20%20%20%20%0A%20%20%20%20%0A%20%20%20%20%20%20%20%20%20%20%20%20circle_marker_f255a08a2f944db6a055fce1efe83121.bindTooltip%28%0A%20%20%20%20%20%20%20%20%20%20%20%20%20%20%20%20%60%3Cdiv%3E%0A%20%20%20%20%20%20%20%20%20%20%20%20%20%20%20%20%20%20%20%20%20Powell%20Street%20BART%20%3Cbr%3E%20Number%20of%20Trips%3A%201845%0A%20%20%20%20%20%20%20%20%20%20%20%20%20%20%20%20%20%3C/div%3E%60%2C%0A%20%20%20%20%20%20%20%20%20%20%20%20%20%20%20%20%7B%22sticky%22%3A%20true%7D%0A%20%20%20%20%20%20%20%20%20%20%20%20%29%3B%0A%20%20%20%20%20%20%20%20%0A%20%20%20%20%0A%20%20%20%20%20%20%20%20%20%20%20%20var%20circle_marker_dcb30dfbf2004e9eb1869625b6e9d11b%20%3D%20L.circleMarker%28%0A%20%20%20%20%20%20%20%20%20%20%20%20%20%20%20%20%5B37.781332%2C%20-122.418603%5D%2C%0A%20%20%20%20%20%20%20%20%20%20%20%20%20%20%20%20%7B%22bubblingMouseEvents%22%3A%20true%2C%20%22color%22%3A%20%22blue%22%2C%20%22dashArray%22%3A%20null%2C%20%22dashOffset%22%3A%20null%2C%20%22fill%22%3A%20true%2C%20%22fillColor%22%3A%20%22blue%22%2C%20%22fillOpacity%22%3A%200.2%2C%20%22fillRule%22%3A%20%22evenodd%22%2C%20%22lineCap%22%3A%20%22round%22%2C%20%22lineJoin%22%3A%20%22round%22%2C%20%22opacity%22%3A%201.0%2C%20%22radius%22%3A%204.375%2C%20%22stroke%22%3A%20true%2C%20%22weight%22%3A%201.5%7D%0A%20%20%20%20%20%20%20%20%20%20%20%20%29.addTo%28map_0bfc8f5829ca4ec7bb17c0ebb5789065%29%3B%0A%20%20%20%20%20%20%20%20%0A%20%20%20%20%0A%20%20%20%20%20%20%20%20%20%20%20%20circle_marker_dcb30dfbf2004e9eb1869625b6e9d11b.bindTooltip%28%0A%20%20%20%20%20%20%20%20%20%20%20%20%20%20%20%20%60%3Cdiv%3E%0A%20%20%20%20%20%20%20%20%20%20%20%20%20%20%20%20%20%20%20%20%20Golden%20Gate%20at%20Polk%20%3Cbr%3E%20Number%20of%20Trips%3A%203500%0A%20%20%20%20%20%20%20%20%20%20%20%20%20%20%20%20%20%3C/div%3E%60%2C%0A%20%20%20%20%20%20%20%20%20%20%20%20%20%20%20%20%7B%22sticky%22%3A%20true%7D%0A%20%20%20%20%20%20%20%20%20%20%20%20%29%3B%0A%20%20%20%20%20%20%20%20%0A%20%20%20%20%0A%20%20%20%20%20%20%20%20%20%20%20%20var%20circle_marker_62fb0c3985d64c45ac06a5a9cec97841%20%3D%20L.circleMarker%28%0A%20%20%20%20%20%20%20%20%20%20%20%20%20%20%20%20%5B37.795425%2C%20-122.404767%5D%2C%0A%20%20%20%20%20%20%20%20%20%20%20%20%20%20%20%20%7B%22bubblingMouseEvents%22%3A%20true%2C%20%22color%22%3A%20%22blue%22%2C%20%22dashArray%22%3A%20null%2C%20%22dashOffset%22%3A%20null%2C%20%22fill%22%3A%20true%2C%20%22fillColor%22%3A%20%22blue%22%2C%20%22fillOpacity%22%3A%200.2%2C%20%22fillRule%22%3A%20%22evenodd%22%2C%20%22lineCap%22%3A%20%22round%22%2C%20%22lineJoin%22%3A%20%22round%22%2C%20%22opacity%22%3A%201.0%2C%20%22radius%22%3A%201.68875%2C%20%22stroke%22%3A%20true%2C%20%22weight%22%3A%201.5%7D%0A%20%20%20%20%20%20%20%20%20%20%20%20%29.addTo%28map_0bfc8f5829ca4ec7bb17c0ebb5789065%29%3B%0A%20%20%20%20%20%20%20%20%0A%20%20%20%20%0A%20%20%20%20%20%20%20%20%20%20%20%20circle_marker_62fb0c3985d64c45ac06a5a9cec97841.bindTooltip%28%0A%20%20%20%20%20%20%20%20%20%20%20%20%20%20%20%20%60%3Cdiv%3E%0A%20%20%20%20%20%20%20%20%20%20%20%20%20%20%20%20%20%20%20%20%20Washington%20at%20Kearny%20%3Cbr%3E%20Number%20of%20Trips%3A%201351%0A%20%20%20%20%20%20%20%20%20%20%20%20%20%20%20%20%20%3C/div%3E%60%2C%0A%20%20%20%20%20%20%20%20%20%20%20%20%20%20%20%20%7B%22sticky%22%3A%20true%7D%0A%20%20%20%20%20%20%20%20%20%20%20%20%29%3B%0A%20%20%20%20%20%20%20%20%0A%20%20%20%20%0A%20%20%20%20%20%20%20%20%20%20%20%20var%20circle_marker_c2f1e3179eaa4a93bee641d51750be9a%20%3D%20L.circleMarker%28%0A%20%20%20%20%20%20%20%20%20%20%20%20%20%20%20%20%5B37.787152%2C%20-122.388013%5D%2C%0A%20%20%20%20%20%20%20%20%20%20%20%20%20%20%20%20%7B%22bubblingMouseEvents%22%3A%20true%2C%20%22color%22%3A%20%22blue%22%2C%20%22dashArray%22%3A%20null%2C%20%22dashOffset%22%3A%20null%2C%20%22fill%22%3A%20true%2C%20%22fillColor%22%3A%20%22blue%22%2C%20%22fillOpacity%22%3A%200.2%2C%20%22fillRule%22%3A%20%22evenodd%22%2C%20%22lineCap%22%3A%20%22round%22%2C%20%22lineJoin%22%3A%20%22round%22%2C%20%22opacity%22%3A%201.0%2C%20%22radius%22%3A%202.59125%2C%20%22stroke%22%3A%20true%2C%20%22weight%22%3A%201.5%7D%0A%20%20%20%20%20%20%20%20%20%20%20%20%29.addTo%28map_0bfc8f5829ca4ec7bb17c0ebb5789065%29%3B%0A%20%20%20%20%20%20%20%20%0A%20%20%20%20%0A%20%20%20%20%20%20%20%20%20%20%20%20circle_marker_c2f1e3179eaa4a93bee641d51750be9a.bindTooltip%28%0A%20%20%20%20%20%20%20%20%20%20%20%20%20%20%20%20%60%3Cdiv%3E%0A%20%20%20%20%20%20%20%20%20%20%20%20%20%20%20%20%20%20%20%20%20Embarcadero%20at%20Bryant%20%3Cbr%3E%20Number%20of%20Trips%3A%202073%0A%20%20%20%20%20%20%20%20%20%20%20%20%20%20%20%20%20%3C/div%3E%60%2C%0A%20%20%20%20%20%20%20%20%20%20%20%20%20%20%20%20%7B%22sticky%22%3A%20true%7D%0A%20%20%20%20%20%20%20%20%20%20%20%20%29%3B%0A%20%20%20%20%20%20%20%20%0A%20%20%20%20%0A%20%20%20%20%20%20%20%20%20%20%20%20var%20circle_marker_0ee4a610753f47ff910a92263d1a91d9%20%3D%20L.circleMarker%28%0A%20%20%20%20%20%20%20%20%20%20%20%20%20%20%20%20%5B37.791464%2C%20-122.391034%5D%2C%0A%20%20%20%20%20%20%20%20%20%20%20%20%20%20%20%20%7B%22bubblingMouseEvents%22%3A%20true%2C%20%22color%22%3A%20%22blue%22%2C%20%22dashArray%22%3A%20null%2C%20%22dashOffset%22%3A%20null%2C%20%22fill%22%3A%20true%2C%20%22fillColor%22%3A%20%22blue%22%2C%20%22fillOpacity%22%3A%200.2%2C%20%22fillRule%22%3A%20%22evenodd%22%2C%20%22lineCap%22%3A%20%22round%22%2C%20%22lineJoin%22%3A%20%22round%22%2C%20%22opacity%22%3A%201.0%2C%20%22radius%22%3A%205.81625%2C%20%22stroke%22%3A%20true%2C%20%22weight%22%3A%201.5%7D%0A%20%20%20%20%20%20%20%20%20%20%20%20%29.addTo%28map_0bfc8f5829ca4ec7bb17c0ebb5789065%29%3B%0A%20%20%20%20%20%20%20%20%0A%20%20%20%20%0A%20%20%20%20%20%20%20%20%20%20%20%20circle_marker_0ee4a610753f47ff910a92263d1a91d9.bindTooltip%28%0A%20%20%20%20%20%20%20%20%20%20%20%20%20%20%20%20%60%3Cdiv%3E%0A%20%20%20%20%20%20%20%20%20%20%20%20%20%20%20%20%20%20%20%20%20Embarcadero%20at%20Folsom%20%3Cbr%3E%20Number%20of%20Trips%3A%204653%0A%20%20%20%20%20%20%20%20%20%20%20%20%20%20%20%20%20%3C/div%3E%60%2C%0A%20%20%20%20%20%20%20%20%20%20%20%20%20%20%20%20%7B%22sticky%22%3A%20true%7D%0A%20%20%20%20%20%20%20%20%20%20%20%20%29%3B%0A%20%20%20%20%20%20%20%20%0A%20%20%20%20%0A%20%20%20%20%20%20%20%20%20%20%20%20var%20circle_marker_1c8938b0cbb14e88a45bd355e92e3966%20%3D%20L.circleMarker%28%0A%20%20%20%20%20%20%20%20%20%20%20%20%20%20%20%20%5B37.795425%2C%20-122.404767%5D%2C%0A%20%20%20%20%20%20%20%20%20%20%20%20%20%20%20%20%7B%22bubblingMouseEvents%22%3A%20true%2C%20%22color%22%3A%20%22blue%22%2C%20%22dashArray%22%3A%20null%2C%20%22dashOffset%22%3A%20null%2C%20%22fill%22%3A%20true%2C%20%22fillColor%22%3A%20%22blue%22%2C%20%22fillOpacity%22%3A%200.2%2C%20%22fillRule%22%3A%20%22evenodd%22%2C%20%22lineCap%22%3A%20%22round%22%2C%20%22lineJoin%22%3A%20%22round%22%2C%20%22opacity%22%3A%201.0%2C%20%22radius%22%3A%200.28375%2C%20%22stroke%22%3A%20true%2C%20%22weight%22%3A%201.5%7D%0A%20%20%20%20%20%20%20%20%20%20%20%20%29.addTo%28map_0bfc8f5829ca4ec7bb17c0ebb5789065%29%3B%0A%20%20%20%20%20%20%20%20%0A%20%20%20%20%0A%20%20%20%20%20%20%20%20%20%20%20%20circle_marker_1c8938b0cbb14e88a45bd355e92e3966.bindTooltip%28%0A%20%20%20%20%20%20%20%20%20%20%20%20%20%20%20%20%60%3Cdiv%3E%0A%20%20%20%20%20%20%20%20%20%20%20%20%20%20%20%20%20%20%20%20%20Washington%20at%20Kearney%20%3Cbr%3E%20Number%20of%20Trips%3A%20227%0A%20%20%20%20%20%20%20%20%20%20%20%20%20%20%20%20%20%3C/div%3E%60%2C%0A%20%20%20%20%20%20%20%20%20%20%20%20%20%20%20%20%7B%22sticky%22%3A%20true%7D%0A%20%20%20%20%20%20%20%20%20%20%20%20%29%3B%0A%20%20%20%20%20%20%20%20%0A%20%20%20%20%0A%20%20%20%20%20%20%20%20%20%20%20%20var%20circle_marker_bda4ccad2d17469e971518374812a212%20%3D%20L.circleMarker%28%0A%20%20%20%20%20%20%20%20%20%20%20%20%20%20%20%20%5B37.80477%2C%20-122.403234%5D%2C%0A%20%20%20%20%20%20%20%20%20%20%20%20%20%20%20%20%7B%22bubblingMouseEvents%22%3A%20true%2C%20%22color%22%3A%20%22blue%22%2C%20%22dashArray%22%3A%20null%2C%20%22dashOffset%22%3A%20null%2C%20%22fill%22%3A%20true%2C%20%22fillColor%22%3A%20%22blue%22%2C%20%22fillOpacity%22%3A%200.2%2C%20%22fillRule%22%3A%20%22evenodd%22%2C%20%22lineCap%22%3A%20%22round%22%2C%20%22lineJoin%22%3A%20%22round%22%2C%20%22opacity%22%3A%201.0%2C%20%22radius%22%3A%208.3125%2C%20%22stroke%22%3A%20true%2C%20%22weight%22%3A%201.5%7D%0A%20%20%20%20%20%20%20%20%20%20%20%20%29.addTo%28map_0bfc8f5829ca4ec7bb17c0ebb5789065%29%3B%0A%20%20%20%20%20%20%20%20%0A%20%20%20%20%0A%20%20%20%20%20%20%20%20%20%20%20%20circle_marker_bda4ccad2d17469e971518374812a212.bindTooltip%28%0A%20%20%20%20%20%20%20%20%20%20%20%20%20%20%20%20%60%3Cdiv%3E%0A%20%20%20%20%20%20%20%20%20%20%20%20%20%20%20%20%20%20%20%20%20Embarcadero%20at%20Sansome%20%3Cbr%3E%20Number%20of%20Trips%3A%206650%0A%20%20%20%20%20%20%20%20%20%20%20%20%20%20%20%20%20%3C/div%3E%60%2C%0A%20%20%20%20%20%20%20%20%20%20%20%20%20%20%20%20%7B%22sticky%22%3A%20true%7D%0A%20%20%20%20%20%20%20%20%20%20%20%20%29%3B%0A%20%20%20%20%20%20%20%20%0A%20%20%20%20%0A%20%20%20%20%20%20%20%20%20%20%20%20var%20circle_marker_0fb3f788e3cd4d4b9e39917393d6ebc3%20%3D%20L.circleMarker%28%0A%20%20%20%20%20%20%20%20%20%20%20%20%20%20%20%20%5B37.799953%2C%20-122.398525%5D%2C%0A%20%20%20%20%20%20%20%20%20%20%20%20%20%20%20%20%7B%22bubblingMouseEvents%22%3A%20true%2C%20%22color%22%3A%20%22blue%22%2C%20%22dashArray%22%3A%20null%2C%20%22dashOffset%22%3A%20null%2C%20%22fill%22%3A%20true%2C%20%22fillColor%22%3A%20%22blue%22%2C%20%22fillOpacity%22%3A%200.2%2C%20%22fillRule%22%3A%20%22evenodd%22%2C%20%22lineCap%22%3A%20%22round%22%2C%20%22lineJoin%22%3A%20%22round%22%2C%20%22opacity%22%3A%201.0%2C%20%22radius%22%3A%203.88125%2C%20%22stroke%22%3A%20true%2C%20%22weight%22%3A%201.5%7D%0A%20%20%20%20%20%20%20%20%20%20%20%20%29.addTo%28map_0bfc8f5829ca4ec7bb17c0ebb5789065%29%3B%0A%20%20%20%20%20%20%20%20%0A%20%20%20%20%0A%20%20%20%20%20%20%20%20%20%20%20%20circle_marker_0fb3f788e3cd4d4b9e39917393d6ebc3.bindTooltip%28%0A%20%20%20%20%20%20%20%20%20%20%20%20%20%20%20%20%60%3Cdiv%3E%0A%20%20%20%20%20%20%20%20%20%20%20%20%20%20%20%20%20%20%20%20%20Embarcadero%20at%20Vallejo%20%3Cbr%3E%20Number%20of%20Trips%3A%203105%0A%20%20%20%20%20%20%20%20%20%20%20%20%20%20%20%20%20%3C/div%3E%60%2C%0A%20%20%20%20%20%20%20%20%20%20%20%20%20%20%20%20%7B%22sticky%22%3A%20true%7D%0A%20%20%20%20%20%20%20%20%20%20%20%20%29%3B%0A%20%20%20%20%20%20%20%20%0A%20%20%20%20%0A%20%20%20%20%20%20%20%20%20%20%20%20var%20circle_marker_ff66e2114c65476698579729f8a7e098%20%3D%20L.circleMarker%28%0A%20%20%20%20%20%20%20%20%20%20%20%20%20%20%20%20%5B37.77865%2C%20-122.418235%5D%2C%0A%20%20%20%20%20%20%20%20%20%20%20%20%20%20%20%20%7B%22bubblingMouseEvents%22%3A%20true%2C%20%22color%22%3A%20%22blue%22%2C%20%22dashArray%22%3A%20null%2C%20%22dashOffset%22%3A%20null%2C%20%22fill%22%3A%20true%2C%20%22fillColor%22%3A%20%22blue%22%2C%20%22fillOpacity%22%3A%200.2%2C%20%22fillRule%22%3A%20%22evenodd%22%2C%20%22lineCap%22%3A%20%22round%22%2C%20%22lineJoin%22%3A%20%22round%22%2C%20%22opacity%22%3A%201.0%2C%20%22radius%22%3A%201.99875%2C%20%22stroke%22%3A%20true%2C%20%22weight%22%3A%201.5%7D%0A%20%20%20%20%20%20%20%20%20%20%20%20%29.addTo%28map_0bfc8f5829ca4ec7bb17c0ebb5789065%29%3B%0A%20%20%20%20%20%20%20%20%0A%20%20%20%20%0A%20%20%20%20%20%20%20%20%20%20%20%20circle_marker_ff66e2114c65476698579729f8a7e098.bindTooltip%28%0A%20%20%20%20%20%20%20%20%20%20%20%20%20%20%20%20%60%3Cdiv%3E%0A%20%20%20%20%20%20%20%20%20%20%20%20%20%20%20%20%20%20%20%20%20San%20Francisco%20City%20Hall%20%3Cbr%3E%20Number%20of%20Trips%3A%201599%0A%20%20%20%20%20%20%20%20%20%20%20%20%20%20%20%20%20%3C/div%3E%60%2C%0A%20%20%20%20%20%20%20%20%20%20%20%20%20%20%20%20%7B%22sticky%22%3A%20true%7D%0A%20%20%20%20%20%20%20%20%20%20%20%20%29%3B%0A%20%20%20%20%20%20%20%20%0A%20%20%20%20%0A%20%20%20%20%20%20%20%20%20%20%20%20var%20circle_marker_498d60673e7940f8a2dc720bf1a72e59%20%3D%20L.circleMarker%28%0A%20%20%20%20%20%20%20%20%20%20%20%20%20%20%20%20%5B37.794231%2C%20-122.402923%5D%2C%0A%20%20%20%20%20%20%20%20%20%20%20%20%20%20%20%20%7B%22bubblingMouseEvents%22%3A%20true%2C%20%22color%22%3A%20%22blue%22%2C%20%22dashArray%22%3A%20null%2C%20%22dashOffset%22%3A%20null%2C%20%22fill%22%3A%20true%2C%20%22fillColor%22%3A%20%22blue%22%2C%20%22fillOpacity%22%3A%200.2%2C%20%22fillRule%22%3A%20%22evenodd%22%2C%20%22lineCap%22%3A%20%22round%22%2C%20%22lineJoin%22%3A%20%22round%22%2C%20%22opacity%22%3A%201.0%2C%20%22radius%22%3A%203.845%2C%20%22stroke%22%3A%20true%2C%20%22weight%22%3A%201.5%7D%0A%20%20%20%20%20%20%20%20%20%20%20%20%29.addTo%28map_0bfc8f5829ca4ec7bb17c0ebb5789065%29%3B%0A%20%20%20%20%20%20%20%20%0A%20%20%20%20%0A%20%20%20%20%20%20%20%20%20%20%20%20circle_marker_498d60673e7940f8a2dc720bf1a72e59.bindTooltip%28%0A%20%20%20%20%20%20%20%20%20%20%20%20%20%20%20%20%60%3Cdiv%3E%0A%20%20%20%20%20%20%20%20%20%20%20%20%20%20%20%20%20%20%20%20%20Commercial%20at%20Montgomery%20%3Cbr%3E%20Number%20of%20Trips%3A%203076%0A%20%20%20%20%20%20%20%20%20%20%20%20%20%20%20%20%20%3C/div%3E%60%2C%0A%20%20%20%20%20%20%20%20%20%20%20%20%20%20%20%20%7B%22sticky%22%3A%20true%7D%0A%20%20%20%20%20%20%20%20%20%20%20%20%29%3B%0A%20%20%20%20%20%20%20%20%0A%20%20%20%20%0A%20%20%20%20%20%20%20%20%20%20%20%20var%20circle_marker_5bf87df43cbe4b0ebaa334ff36e97862%20%3D%20L.circleMarker%28%0A%20%20%20%20%20%20%20%20%20%20%20%20%20%20%20%20%5B37.774814%2C%20-122.418954%5D%2C%0A%20%20%20%20%20%20%20%20%20%20%20%20%20%20%20%20%7B%22bubblingMouseEvents%22%3A%20true%2C%20%22color%22%3A%20%22blue%22%2C%20%22dashArray%22%3A%20null%2C%20%22dashOffset%22%3A%20null%2C%20%22fill%22%3A%20true%2C%20%22fillColor%22%3A%20%22blue%22%2C%20%22fillOpacity%22%3A%200.2%2C%20%22fillRule%22%3A%20%22evenodd%22%2C%20%22lineCap%22%3A%20%22round%22%2C%20%22lineJoin%22%3A%20%22round%22%2C%20%22opacity%22%3A%201.0%2C%20%22radius%22%3A%208.30875%2C%20%22stroke%22%3A%20true%2C%20%22weight%22%3A%201.5%7D%0A%20%20%20%20%20%20%20%20%20%20%20%20%29.addTo%28map_0bfc8f5829ca4ec7bb17c0ebb5789065%29%3B%0A%20%20%20%20%20%20%20%20%0A%20%20%20%20%0A%20%20%20%20%20%20%20%20%20%20%20%20circle_marker_5bf87df43cbe4b0ebaa334ff36e97862.bindTooltip%28%0A%20%20%20%20%20%20%20%20%20%20%20%20%20%20%20%20%60%3Cdiv%3E%0A%20%20%20%20%20%20%20%20%20%20%20%20%20%20%20%20%20%20%20%20%20South%20Van%20Ness%20at%20Market%20%3Cbr%3E%20Number%20of%20Trips%3A%206647%0A%20%20%20%20%20%20%20%20%20%20%20%20%20%20%20%20%20%3C/div%3E%60%2C%0A%20%20%20%20%20%20%20%20%20%20%20%20%20%20%20%20%7B%22sticky%22%3A%20true%7D%0A%20%20%20%20%20%20%20%20%20%20%20%20%29%3B%0A%20%20%20%20%20%20%20%20%0A%20%20%20%20%0A%20%20%20%20%20%20%20%20%20%20%20%20var%20circle_marker_6b5a0e09636e4a1d83ef84a5c5ffa81b%20%3D%20L.circleMarker%28%0A%20%20%20%20%20%20%20%20%20%20%20%20%20%20%20%20%5B37.798541%2C%20-122.400862%5D%2C%0A%20%20%20%20%20%20%20%20%20%20%20%20%20%20%20%20%7B%22bubblingMouseEvents%22%3A%20true%2C%20%22color%22%3A%20%22blue%22%2C%20%22dashArray%22%3A%20null%2C%20%22dashOffset%22%3A%20null%2C%20%22fill%22%3A%20true%2C%20%22fillColor%22%3A%20%22blue%22%2C%20%22fillOpacity%22%3A%200.2%2C%20%22fillRule%22%3A%20%22evenodd%22%2C%20%22lineCap%22%3A%20%22round%22%2C%20%22lineJoin%22%3A%20%22round%22%2C%20%22opacity%22%3A%201.0%2C%20%22radius%22%3A%205.1575%2C%20%22stroke%22%3A%20true%2C%20%22weight%22%3A%201.5%7D%0A%20%20%20%20%20%20%20%20%20%20%20%20%29.addTo%28map_0bfc8f5829ca4ec7bb17c0ebb5789065%29%3B%0A%20%20%20%20%20%20%20%20%0A%20%20%20%20%0A%20%20%20%20%20%20%20%20%20%20%20%20circle_marker_6b5a0e09636e4a1d83ef84a5c5ffa81b.bindTooltip%28%0A%20%20%20%20%20%20%20%20%20%20%20%20%20%20%20%20%60%3Cdiv%3E%0A%20%20%20%20%20%20%20%20%20%20%20%20%20%20%20%20%20%20%20%20%20Broadway%20St%20at%20Battery%20St%20%3Cbr%3E%20Number%20of%20Trips%3A%204126%0A%20%20%20%20%20%20%20%20%20%20%20%20%20%20%20%20%20%3C/div%3E%60%2C%0A%20%20%20%20%20%20%20%20%20%20%20%20%20%20%20%20%7B%22sticky%22%3A%20true%7D%0A%20%20%20%20%20%20%20%20%20%20%20%20%29%3B%0A%20%20%20%20%20%20%20%20%0A%20%20%20%20%0A%20%20%20%20%20%20%20%20%20%20%20%20var%20circle_marker_ce1f97341a7241379d2ef9548592058c%20%3D%20L.circleMarker%28%0A%20%20%20%20%20%20%20%20%20%20%20%20%20%20%20%20%5B37.788446%2C%20-122.408499%5D%2C%0A%20%20%20%20%20%20%20%20%20%20%20%20%20%20%20%20%7B%22bubblingMouseEvents%22%3A%20true%2C%20%22color%22%3A%20%22blue%22%2C%20%22dashArray%22%3A%20null%2C%20%22dashOffset%22%3A%20null%2C%20%22fill%22%3A%20true%2C%20%22fillColor%22%3A%20%22blue%22%2C%20%22fillOpacity%22%3A%200.2%2C%20%22fillRule%22%3A%20%22evenodd%22%2C%20%22lineCap%22%3A%20%22round%22%2C%20%22lineJoin%22%3A%20%22round%22%2C%20%22opacity%22%3A%201.0%2C%20%22radius%22%3A%202.56375%2C%20%22stroke%22%3A%20true%2C%20%22weight%22%3A%201.5%7D%0A%20%20%20%20%20%20%20%20%20%20%20%20%29.addTo%28map_0bfc8f5829ca4ec7bb17c0ebb5789065%29%3B%0A%20%20%20%20%20%20%20%20%0A%20%20%20%20%0A%20%20%20%20%20%20%20%20%20%20%20%20circle_marker_ce1f97341a7241379d2ef9548592058c.bindTooltip%28%0A%20%20%20%20%20%20%20%20%20%20%20%20%20%20%20%20%60%3Cdiv%3E%0A%20%20%20%20%20%20%20%20%20%20%20%20%20%20%20%20%20%20%20%20%20Powell%20at%20Post%20%28Union%20Square%29%20%3Cbr%3E%20Number%20of%20Trips%3A%202051%0A%20%20%20%20%20%20%20%20%20%20%20%20%20%20%20%20%20%3C/div%3E%60%2C%0A%20%20%20%20%20%20%20%20%20%20%20%20%20%20%20%20%7B%22sticky%22%3A%20true%7D%0A%20%20%20%20%20%20%20%20%20%20%20%20%29%3B%0A%20%20%20%20%20%20%20%20%0A%20%20%20%20%0A%20%20%20%20%20%20%20%20%20%20%20%20var%20circle_marker_87304fb69a5c48739a724b2d14b6ca3d%20%3D%20L.circleMarker%28%0A%20%20%20%20%20%20%20%20%20%20%20%20%20%20%20%20%5B37.7979%2C%20-122.405942%5D%2C%0A%20%20%20%20%20%20%20%20%20%20%20%20%20%20%20%20%7B%22bubblingMouseEvents%22%3A%20true%2C%20%22color%22%3A%20%22blue%22%2C%20%22dashArray%22%3A%20null%2C%20%22dashOffset%22%3A%20null%2C%20%22fill%22%3A%20true%2C%20%22fillColor%22%3A%20%22blue%22%2C%20%22fillOpacity%22%3A%200.2%2C%20%22fillRule%22%3A%20%22evenodd%22%2C%20%22lineCap%22%3A%20%22round%22%2C%20%22lineJoin%22%3A%20%22round%22%2C%20%22opacity%22%3A%201.0%2C%20%22radius%22%3A%205.305%2C%20%22stroke%22%3A%20true%2C%20%22weight%22%3A%201.5%7D%0A%20%20%20%20%20%20%20%20%20%20%20%20%29.addTo%28map_0bfc8f5829ca4ec7bb17c0ebb5789065%29%3B%0A%20%20%20%20%20%20%20%20%0A%20%20%20%20%0A%20%20%20%20%20%20%20%20%20%20%20%20circle_marker_87304fb69a5c48739a724b2d14b6ca3d.bindTooltip%28%0A%20%20%20%20%20%20%20%20%20%20%20%20%20%20%20%20%60%3Cdiv%3E%0A%20%20%20%20%20%20%20%20%20%20%20%20%20%20%20%20%20%20%20%20%20Grant%20Avenue%20at%20Columbus%20Avenue%20%3Cbr%3E%20Number%20of%20Trips%3A%204244%0A%20%20%20%20%20%20%20%20%20%20%20%20%20%20%20%20%20%3C/div%3E%60%2C%0A%20%20%20%20%20%20%20%20%20%20%20%20%20%20%20%20%7B%22sticky%22%3A%20true%7D%0A%20%20%20%20%20%20%20%20%20%20%20%20%29%3B%0A%20%20%20%20%20%20%20%20%0A%20%20%20%20%0A%20%20%20%20%20%20%20%20%20%20%20%20var%20circle_marker_8b8a323de01547a3af382985d0aeac61%20%3D%20L.circleMarker%28%0A%20%20%20%20%20%20%20%20%20%20%20%20%20%20%20%20%5B37.781039%2C%20-122.411748%5D%2C%0A%20%20%20%20%20%20%20%20%20%20%20%20%20%20%20%20%7B%22bubblingMouseEvents%22%3A%20true%2C%20%22color%22%3A%20%22blue%22%2C%20%22dashArray%22%3A%20null%2C%20%22dashOffset%22%3A%20null%2C%20%22fill%22%3A%20true%2C%20%22fillColor%22%3A%20%22blue%22%2C%20%22fillOpacity%22%3A%200.2%2C%20%22fillRule%22%3A%20%22evenodd%22%2C%20%22lineCap%22%3A%20%22round%22%2C%20%22lineJoin%22%3A%20%22round%22%2C%20%22opacity%22%3A%201.0%2C%20%22radius%22%3A%203.53875%2C%20%22stroke%22%3A%20true%2C%20%22weight%22%3A%201.5%7D%0A%20%20%20%20%20%20%20%20%20%20%20%20%29.addTo%28map_0bfc8f5829ca4ec7bb17c0ebb5789065%29%3B%0A%20%20%20%20%20%20%20%20%0A%20%20%20%20%0A%20%20%20%20%20%20%20%20%20%20%20%20circle_marker_8b8a323de01547a3af382985d0aeac61.bindTooltip%28%0A%20%20%20%20%20%20%20%20%20%20%20%20%20%20%20%20%60%3Cdiv%3E%0A%20%20%20%20%20%20%20%20%20%20%20%20%20%20%20%20%20%20%20%20%20Civic%20Center%20BART%20%287th%20at%20Market%29%20%3Cbr%3E%20Number%20of%20Trips%3A%202831%0A%20%20%20%20%20%20%20%20%20%20%20%20%20%20%20%20%20%3C/div%3E%60%2C%0A%20%20%20%20%20%20%20%20%20%20%20%20%20%20%20%20%7B%22sticky%22%3A%20true%7D%0A%20%20%20%20%20%20%20%20%20%20%20%20%29%3B%0A%20%20%20%20%20%20%20%20%0A%20%20%20%20%0A%20%20%20%20%20%20%20%20%20%20%20%20var%20circle_marker_21ad62249c2643c99b151da0790509cd%20%3D%20L.circleMarker%28%0A%20%20%20%20%20%20%20%20%20%20%20%20%20%20%20%20%5B37.7913%2C%20-122.399051%5D%2C%0A%20%20%20%20%20%20%20%20%20%20%20%20%20%20%20%20%7B%22bubblingMouseEvents%22%3A%20true%2C%20%22color%22%3A%20%22blue%22%2C%20%22dashArray%22%3A%20null%2C%20%22dashOffset%22%3A%20null%2C%20%22fill%22%3A%20true%2C%20%22fillColor%22%3A%20%22blue%22%2C%20%22fillOpacity%22%3A%200.2%2C%20%22fillRule%22%3A%20%22evenodd%22%2C%20%22lineCap%22%3A%20%22round%22%2C%20%22lineJoin%22%3A%20%22round%22%2C%20%22opacity%22%3A%201.0%2C%20%22radius%22%3A%204.18375%2C%20%22stroke%22%3A%20true%2C%20%22weight%22%3A%201.5%7D%0A%20%20%20%20%20%20%20%20%20%20%20%20%29.addTo%28map_0bfc8f5829ca4ec7bb17c0ebb5789065%29%3B%0A%20%20%20%20%20%20%20%20%0A%20%20%20%20%0A%20%20%20%20%20%20%20%20%20%20%20%20circle_marker_21ad62249c2643c99b151da0790509cd.bindTooltip%28%0A%20%20%20%20%20%20%20%20%20%20%20%20%20%20%20%20%60%3Cdiv%3E%0A%20%20%20%20%20%20%20%20%20%20%20%20%20%20%20%20%20%20%20%20%20Mechanics%20Plaza%20%28Market%20at%20Battery%29%20%3Cbr%3E%20Number%20of%20Trips%3A%203347%0A%20%20%20%20%20%20%20%20%20%20%20%20%20%20%20%20%20%3C/div%3E%60%2C%0A%20%20%20%20%20%20%20%20%20%20%20%20%20%20%20%20%7B%22sticky%22%3A%20true%7D%0A%20%20%20%20%20%20%20%20%20%20%20%20%29%3B%0A%20%20%20%20%20%20%20%20%0A%20%20%20%20%0A%20%20%20%20%20%20%20%20%20%20%20%20var%20circle_marker_0f0ced8e47334e84bcadfdcb1bb70f58%20%3D%20L.circleMarker%28%0A%20%20%20%20%20%20%20%20%20%20%20%20%20%20%20%20%5B37.795392%2C%20-122.394203%5D%2C%0A%20%20%20%20%20%20%20%20%20%20%20%20%20%20%20%20%7B%22bubblingMouseEvents%22%3A%20true%2C%20%22color%22%3A%20%22blue%22%2C%20%22dashArray%22%3A%20null%2C%20%22dashOffset%22%3A%20null%2C%20%22fill%22%3A%20true%2C%20%22fillColor%22%3A%20%22blue%22%2C%20%22fillOpacity%22%3A%200.2%2C%20%22fillRule%22%3A%20%22evenodd%22%2C%20%22lineCap%22%3A%20%22round%22%2C%20%22lineJoin%22%3A%20%22round%22%2C%20%22opacity%22%3A%201.0%2C%20%22radius%22%3A%2013.4625%2C%20%22stroke%22%3A%20true%2C%20%22weight%22%3A%201.5%7D%0A%20%20%20%20%20%20%20%20%20%20%20%20%29.addTo%28map_0bfc8f5829ca4ec7bb17c0ebb5789065%29%3B%0A%20%20%20%20%20%20%20%20%0A%20%20%20%20%0A%20%20%20%20%20%20%20%20%20%20%20%20circle_marker_0f0ced8e47334e84bcadfdcb1bb70f58.bindTooltip%28%0A%20%20%20%20%20%20%20%20%20%20%20%20%20%20%20%20%60%3Cdiv%3E%0A%20%20%20%20%20%20%20%20%20%20%20%20%20%20%20%20%20%20%20%20%20Harry%20Bridges%20Plaza%20%28Ferry%20Building%29%20%3Cbr%3E%20Number%20of%20Trips%3A%2010770%0A%20%20%20%20%20%20%20%20%20%20%20%20%20%20%20%20%20%3C/div%3E%60%2C%0A%20%20%20%20%20%20%20%20%20%20%20%20%20%20%20%20%7B%22sticky%22%3A%20true%7D%0A%20%20%20%20%20%20%20%20%20%20%20%20%29%3B%0A%20%20%20%20%20%20%20%20%0A%20%20%20%20%0A%20%20%20%20%20%20%20%20%20%20%20%20var%20circle_marker_c99d188689724541bdb5b24a4a8bbb27%20%3D%20L.circleMarker%28%0A%20%20%20%20%20%20%20%20%20%20%20%20%20%20%20%20%5B37.7766%2C%20-122.39547%5D%2C%0A%20%20%20%20%20%20%20%20%20%20%20%20%20%20%20%20%7B%22bubblingMouseEvents%22%3A%20true%2C%20%22color%22%3A%20%22blue%22%2C%20%22dashArray%22%3A%20null%2C%20%22dashOffset%22%3A%20null%2C%20%22fill%22%3A%20true%2C%20%22fillColor%22%3A%20%22blue%22%2C%20%22fillOpacity%22%3A%200.2%2C%20%22fillRule%22%3A%20%22evenodd%22%2C%20%22lineCap%22%3A%20%22round%22%2C%20%22lineJoin%22%3A%20%22round%22%2C%20%22opacity%22%3A%201.0%2C%20%22radius%22%3A%2024.55625%2C%20%22stroke%22%3A%20true%2C%20%22weight%22%3A%201.5%7D%0A%20%20%20%20%20%20%20%20%20%20%20%20%29.addTo%28map_0bfc8f5829ca4ec7bb17c0ebb5789065%29%3B%0A%20%20%20%20%20%20%20%20%0A%20%20%20%20%0A%20%20%20%20%20%20%20%20%20%20%20%20circle_marker_c99d188689724541bdb5b24a4a8bbb27.bindTooltip%28%0A%20%20%20%20%20%20%20%20%20%20%20%20%20%20%20%20%60%3Cdiv%3E%0A%20%20%20%20%20%20%20%20%20%20%20%20%20%20%20%20%20%20%20%20%20San%20Francisco%20Caltrain%202%20%28330%20Townsend%29%20%3Cbr%3E%20Number%20of%20Trips%3A%2019645%0A%20%20%20%20%20%20%20%20%20%20%20%20%20%20%20%20%20%3C/div%3E%60%2C%0A%20%20%20%20%20%20%20%20%20%20%20%20%20%20%20%20%7B%22sticky%22%3A%20true%7D%0A%20%20%20%20%20%20%20%20%20%20%20%20%29%3B%0A%20%20%20%20%20%20%20%20%0A%20%20%20%20%0A%20%20%20%20%20%20%20%20%20%20%20%20var%20circle_marker_933685586cba420081048ce6cb18b6e1%20%3D%20L.circleMarker%28%0A%20%20%20%20%20%20%20%20%20%20%20%20%20%20%20%20%5B37.776617%2C%20-122.39526%5D%2C%0A%20%20%20%20%20%20%20%20%20%20%20%20%20%20%20%20%7B%22bubblingMouseEvents%22%3A%20true%2C%20%22color%22%3A%20%22blue%22%2C%20%22dashArray%22%3A%20null%2C%20%22dashOffset%22%3A%20null%2C%20%22fill%22%3A%20true%2C%20%22fillColor%22%3A%20%22blue%22%2C%20%22fillOpacity%22%3A%200.2%2C%20%22fillRule%22%3A%20%22evenodd%22%2C%20%22lineCap%22%3A%20%22round%22%2C%20%22lineJoin%22%3A%20%22round%22%2C%20%22opacity%22%3A%201.0%2C%20%22radius%22%3A%2038.54625%2C%20%22stroke%22%3A%20true%2C%20%22weight%22%3A%201.5%7D%0A%20%20%20%20%20%20%20%20%20%20%20%20%29.addTo%28map_0bfc8f5829ca4ec7bb17c0ebb5789065%29%3B%0A%20%20%20%20%20%20%20%20%0A%20%20%20%20%0A%20%20%20%20%20%20%20%20%20%20%20%20circle_marker_933685586cba420081048ce6cb18b6e1.bindTooltip%28%0A%20%20%20%20%20%20%20%20%20%20%20%20%20%20%20%20%60%3Cdiv%3E%0A%20%20%20%20%20%20%20%20%20%20%20%20%20%20%20%20%20%20%20%20%20San%20Francisco%20Caltrain%20%28Townsend%20at%204th%29%20%3Cbr%3E%20Number%20of%20Trips%3A%2030837%0A%20%20%20%20%20%20%20%20%20%20%20%20%20%20%20%20%20%3C/div%3E%60%2C%0A%20%20%20%20%20%20%20%20%20%20%20%20%20%20%20%20%7B%22sticky%22%3A%20true%7D%0A%20%20%20%20%20%20%20%20%20%20%20%20%29%3B%0A%20%20%20%20%20%20%20%20%0A%20%20%20%20%0A%20%20%20%20%20%20%20%20%20%20%20%20var%20circle_marker_c0f4049789a24c90bfa07f7c62740091%20%3D%20L.circleMarker%28%0A%20%20%20%20%20%20%20%20%20%20%20%20%20%20%20%20%5B37.789756%2C%20-122.394643%5D%2C%0A%20%20%20%20%20%20%20%20%20%20%20%20%20%20%20%20%7B%22bubblingMouseEvents%22%3A%20true%2C%20%22color%22%3A%20%22blue%22%2C%20%22dashArray%22%3A%20null%2C%20%22dashOffset%22%3A%20null%2C%20%22fill%22%3A%20true%2C%20%22fillColor%22%3A%20%22blue%22%2C%20%22fillOpacity%22%3A%200.2%2C%20%22fillRule%22%3A%20%22evenodd%22%2C%20%22lineCap%22%3A%20%22round%22%2C%20%22lineJoin%22%3A%20%22round%22%2C%20%22opacity%22%3A%201.0%2C%20%22radius%22%3A%2011.7425%2C%20%22stroke%22%3A%20true%2C%20%22weight%22%3A%201.5%7D%0A%20%20%20%20%20%20%20%20%20%20%20%20%29.addTo%28map_0bfc8f5829ca4ec7bb17c0ebb5789065%29%3B%0A%20%20%20%20%20%20%20%20%0A%20%20%20%20%0A%20%20%20%20%20%20%20%20%20%20%20%20circle_marker_c0f4049789a24c90bfa07f7c62740091.bindTooltip%28%0A%20%20%20%20%20%20%20%20%20%20%20%20%20%20%20%20%60%3Cdiv%3E%0A%20%20%20%20%20%20%20%20%20%20%20%20%20%20%20%20%20%20%20%20%20Temporary%20Transbay%20Terminal%20%28Howard%20at%20Beale%29%20%3Cbr%3E%20Number%20of%20Trips%3A%209394%0A%20%20%20%20%20%20%20%20%20%20%20%20%20%20%20%20%20%3C/div%3E%60%2C%0A%20%20%20%20%20%20%20%20%20%20%20%20%20%20%20%20%7B%22sticky%22%3A%20true%7D%0A%20%20%20%20%20%20%20%20%20%20%20%20%29%3B%0A%20%20%20%20%20%20%20%20%0A%20%20%20%20%0A%20%20%20%20%20%20%20%20%20%20%20%20var%20circle_marker_28d07d4d671e46ed8bd9e615f3c76e31%20%3D%20L.circleMarker%28%0A%20%20%20%20%20%20%20%20%20%20%20%20%20%20%20%20%5B37.784878%2C%20-122.401014%5D%2C%0A%20%20%20%20%20%20%20%20%20%20%20%20%20%20%20%20%7B%22bubblingMouseEvents%22%3A%20true%2C%20%22color%22%3A%20%22blue%22%2C%20%22dashArray%22%3A%20null%2C%20%22dashOffset%22%3A%20null%2C%20%22fill%22%3A%20true%2C%20%22fillColor%22%3A%20%22blue%22%2C%20%22fillOpacity%22%3A%200.2%2C%20%22fillRule%22%3A%20%22evenodd%22%2C%20%22lineCap%22%3A%20%22round%22%2C%20%22lineJoin%22%3A%20%22round%22%2C%20%22opacity%22%3A%201.0%2C%20%22radius%22%3A%201.65625%2C%20%22stroke%22%3A%20true%2C%20%22weight%22%3A%201.5%7D%0A%20%20%20%20%20%20%20%20%20%20%20%20%29.addTo%28map_0bfc8f5829ca4ec7bb17c0ebb5789065%29%3B%0A%20%20%20%20%20%20%20%20%0A%20%20%20%20%0A%20%20%20%20%20%20%20%20%20%20%20%20circle_marker_28d07d4d671e46ed8bd9e615f3c76e31.bindTooltip%28%0A%20%20%20%20%20%20%20%20%20%20%20%20%20%20%20%20%60%3Cdiv%3E%0A%20%20%20%20%20%20%20%20%20%20%20%20%20%20%20%20%20%20%20%20%20Yerba%20Buena%20Center%20of%20the%20Arts%20%283rd%20%40%20Howard%29%20%3Cbr%3E%20Number%20of%20Trips%3A%201325%0A%20%20%20%20%20%20%20%20%20%20%20%20%20%20%20%20%20%3C/div%3E%60%2C%0A%20%20%20%20%20%20%20%20%20%20%20%20%20%20%20%20%7B%22sticky%22%3A%20true%7D%0A%20%20%20%20%20%20%20%20%20%20%20%20%29%3B%0A%20%20%20%20%20%20%20%20%0A%20%20%20%20%0A%20%20%20%20%20%20%20%20%20%20%20%20var%20circle_marker_2e1ce23c6bd84983b0c789a84ad47e45%20%3D%20L.circleMarker%28%0A%20%20%20%20%20%20%20%20%20%20%20%20%20%20%20%20%5B37.785299%2C%20-122.396236%5D%2C%0A%20%20%20%20%20%20%20%20%20%20%20%20%20%20%20%20%7B%22bubblingMouseEvents%22%3A%20true%2C%20%22color%22%3A%20%22blue%22%2C%20%22dashArray%22%3A%20null%2C%20%22dashOffset%22%3A%20null%2C%20%22fill%22%3A%20true%2C%20%22fillColor%22%3A%20%22blue%22%2C%20%22fillOpacity%22%3A%200.2%2C%20%22fillRule%22%3A%20%22evenodd%22%2C%20%22lineCap%22%3A%20%22round%22%2C%20%22lineJoin%22%3A%20%22round%22%2C%20%22opacity%22%3A%201.0%2C%20%22radius%22%3A%201.9425%2C%20%22stroke%22%3A%20true%2C%20%22weight%22%3A%201.5%7D%0A%20%20%20%20%20%20%20%20%20%20%20%20%29.addTo%28map_0bfc8f5829ca4ec7bb17c0ebb5789065%29%3B%0A%20%20%20%20%20%20%20%20%0A%20%20%20%20%0A%20%20%20%20%20%20%20%20%20%20%20%20circle_marker_2e1ce23c6bd84983b0c789a84ad47e45.bindTooltip%28%0A%20%20%20%20%20%20%20%20%20%20%20%20%20%20%20%20%60%3Cdiv%3E%0A%20%20%20%20%20%20%20%20%20%20%20%20%20%20%20%20%20%20%20%20%202nd%20at%20Folsom%20%3Cbr%3E%20Number%20of%20Trips%3A%201554%0A%20%20%20%20%20%20%20%20%20%20%20%20%20%20%20%20%20%3C/div%3E%60%2C%0A%20%20%20%20%20%20%20%20%20%20%20%20%20%20%20%20%7B%22sticky%22%3A%20true%7D%0A%20%20%20%20%20%20%20%20%20%20%20%20%29%3B%0A%20%20%20%20%20%20%20%20%0A%20%20%20%20%0A%20%20%20%20%20%20%20%20%20%20%20%20var%20circle_marker_d14db76177ae40d396e329025d6b1725%20%3D%20L.circleMarker%28%0A%20%20%20%20%20%20%20%20%20%20%20%20%20%20%20%20%5B37.788975%2C%20-122.403452%5D%2C%0A%20%20%20%20%20%20%20%20%20%20%20%20%20%20%20%20%7B%22bubblingMouseEvents%22%3A%20true%2C%20%22color%22%3A%20%22blue%22%2C%20%22dashArray%22%3A%20null%2C%20%22dashOffset%22%3A%20null%2C%20%22fill%22%3A%20true%2C%20%22fillColor%22%3A%20%22blue%22%2C%20%22fillOpacity%22%3A%200.2%2C%20%22fillRule%22%3A%20%22evenodd%22%2C%20%22lineCap%22%3A%20%22round%22%2C%20%22lineJoin%22%3A%20%22round%22%2C%20%22opacity%22%3A%201.0%2C%20%22radius%22%3A%200.38%2C%20%22stroke%22%3A%20true%2C%20%22weight%22%3A%201.5%7D%0A%20%20%20%20%20%20%20%20%20%20%20%20%29.addTo%28map_0bfc8f5829ca4ec7bb17c0ebb5789065%29%3B%0A%20%20%20%20%20%20%20%20%0A%20%20%20%20%0A%20%20%20%20%20%20%20%20%20%20%20%20circle_marker_d14db76177ae40d396e329025d6b1725.bindTooltip%28%0A%20%20%20%20%20%20%20%20%20%20%20%20%20%20%20%20%60%3Cdiv%3E%0A%20%20%20%20%20%20%20%20%20%20%20%20%20%20%20%20%20%20%20%20%20Post%20at%20Kearney%20%3Cbr%3E%20Number%20of%20Trips%3A%20304%0A%20%20%20%20%20%20%20%20%20%20%20%20%20%20%20%20%20%3C/div%3E%60%2C%0A%20%20%20%20%20%20%20%20%20%20%20%20%20%20%20%20%7B%22sticky%22%3A%20true%7D%0A%20%20%20%20%20%20%20%20%20%20%20%20%29%3B%0A%20%20%20%20%20%20%20%20%0A%20%20%20%20%0A%20%20%20%20%20%20%20%20%20%20%20%20var%20circle_marker_412855470c5b44be8d2d58ac6f202630%20%3D%20L.circleMarker%28%0A%20%20%20%20%20%20%20%20%20%20%20%20%20%20%20%20%5B37.785908%2C%20-122.408891%5D%2C%0A%20%20%20%20%20%20%20%20%20%20%20%20%20%20%20%20%7B%22bubblingMouseEvents%22%3A%20true%2C%20%22color%22%3A%20%22blue%22%2C%20%22dashArray%22%3A%20null%2C%20%22dashOffset%22%3A%20null%2C%20%22fill%22%3A%20true%2C%20%22fillColor%22%3A%20%22blue%22%2C%20%22fillOpacity%22%3A%200.2%2C%20%22fillRule%22%3A%20%22evenodd%22%2C%20%22lineCap%22%3A%20%22round%22%2C%20%22lineJoin%22%3A%20%22round%22%2C%20%22opacity%22%3A%201.0%2C%20%22radius%22%3A%200.015%2C%20%22stroke%22%3A%20true%2C%20%22weight%22%3A%201.5%7D%0A%20%20%20%20%20%20%20%20%20%20%20%20%29.addTo%28map_0bfc8f5829ca4ec7bb17c0ebb5789065%29%3B%0A%20%20%20%20%20%20%20%20%0A%20%20%20%20%0A%20%20%20%20%20%20%20%20%20%20%20%20circle_marker_412855470c5b44be8d2d58ac6f202630.bindTooltip%28%0A%20%20%20%20%20%20%20%20%20%20%20%20%20%20%20%20%60%3Cdiv%3E%0A%20%20%20%20%20%20%20%20%20%20%20%20%20%20%20%20%20%20%20%20%20Cyril%20Magnin%20St%20at%20Ellis%20St%20%3Cbr%3E%20Number%20of%20Trips%3A%2012%0A%20%20%20%20%20%20%20%20%20%20%20%20%20%20%20%20%20%3C/div%3E%60%2C%0A%20%20%20%20%20%20%20%20%20%20%20%20%20%20%20%20%7B%22sticky%22%3A%20true%7D%0A%20%20%20%20%20%20%20%20%20%20%20%20%29%3B%0A%20%20%20%20%20%20%20%20%0A%20%20%20%20%0A%20%20%20%20%20%20%20%20%20%20%20%20var%20circle_marker_d203546f20fe4756a12b89de021ba0ed%20%3D%20L.circleMarker%28%0A%20%20%20%20%20%20%20%20%20%20%20%20%20%20%20%20%5B37.780148%2C%20-122.403158%5D%2C%0A%20%20%20%20%20%20%20%20%20%20%20%20%20%20%20%20%7B%22bubblingMouseEvents%22%3A%20true%2C%20%22color%22%3A%20%22blue%22%2C%20%22dashArray%22%3A%20null%2C%20%22dashOffset%22%3A%20null%2C%20%22fill%22%3A%20true%2C%20%22fillColor%22%3A%20%22blue%22%2C%20%22fillOpacity%22%3A%200.2%2C%20%22fillRule%22%3A%20%22evenodd%22%2C%20%22lineCap%22%3A%20%22round%22%2C%20%22lineJoin%22%3A%20%22round%22%2C%20%22opacity%22%3A%201.0%2C%20%22radius%22%3A%200.015%2C%20%22stroke%22%3A%20true%2C%20%22weight%22%3A%201.5%7D%0A%20%20%20%20%20%20%20%20%20%20%20%20%29.addTo%28map_0bfc8f5829ca4ec7bb17c0ebb5789065%29%3B%0A%20%20%20%20%20%20%20%20%0A%20%20%20%20%0A%20%20%20%20%20%20%20%20%20%20%20%20circle_marker_d203546f20fe4756a12b89de021ba0ed.bindTooltip%28%0A%20%20%20%20%20%20%20%20%20%20%20%20%20%20%20%20%60%3Cdiv%3E%0A%20%20%20%20%20%20%20%20%20%20%20%20%20%20%20%20%20%20%20%20%205th%20St%20at%20Folsom%20St%20%3Cbr%3E%20Number%20of%20Trips%3A%2012%0A%20%20%20%20%20%20%20%20%20%20%20%20%20%20%20%20%20%3C/div%3E%60%2C%0A%20%20%20%20%20%20%20%20%20%20%20%20%20%20%20%20%7B%22sticky%22%3A%20true%7D%0A%20%20%20%20%20%20%20%20%20%20%20%20%29%3B%0A%20%20%20%20%20%20%20%20%0A%20%20%20%20%0A%20%20%20%20%20%20%20%20%20%20%20%20var%20circle_marker_d727ddb264384dadb94661d4cdc92558%20%3D%20L.circleMarker%28%0A%20%20%20%20%20%20%20%20%20%20%20%20%20%20%20%20%5B37.785299%2C%20-122.396236%5D%2C%0A%20%20%20%20%20%20%20%20%20%20%20%20%20%20%20%20%7B%22bubblingMouseEvents%22%3A%20true%2C%20%22color%22%3A%20%22crimson%22%2C%20%22dashArray%22%3A%20null%2C%20%22dashOffset%22%3A%20null%2C%20%22fill%22%3A%20true%2C%20%22fillColor%22%3A%20%22crimson%22%2C%20%22fillOpacity%22%3A%200.2%2C%20%22fillRule%22%3A%20%22evenodd%22%2C%20%22lineCap%22%3A%20%22round%22%2C%20%22lineJoin%22%3A%20%22round%22%2C%20%22opacity%22%3A%201.0%2C%20%22radius%22%3A%201.8075%2C%20%22stroke%22%3A%20true%2C%20%22weight%22%3A%201.5%7D%0A%20%20%20%20%20%20%20%20%20%20%20%20%29.addTo%28map_0bfc8f5829ca4ec7bb17c0ebb5789065%29%3B%0A%20%20%20%20%20%20%20%20%0A%20%20%20%20%0A%20%20%20%20%20%20%20%20%20%20%20%20circle_marker_d727ddb264384dadb94661d4cdc92558.bindTooltip%28%0A%20%20%20%20%20%20%20%20%20%20%20%20%20%20%20%20%60%3Cdiv%3E%0A%20%20%20%20%20%20%20%20%20%20%20%20%20%20%20%20%20%20%20%20%202nd%20at%20Folsom%20%3Cbr%3E%20Number%20of%20Trips%3A%201446%0A%20%20%20%20%20%20%20%20%20%20%20%20%20%20%20%20%20%3C/div%3E%60%2C%0A%20%20%20%20%20%20%20%20%20%20%20%20%20%20%20%20%7B%22sticky%22%3A%20true%7D%0A%20%20%20%20%20%20%20%20%20%20%20%20%29%3B%0A%20%20%20%20%20%20%20%20%0A%20%20%20%20%0A%20%20%20%20%20%20%20%20%20%20%20%20var%20circle_marker_0d4d82836ca24c90b21571cc66132491%20%3D%20L.circleMarker%28%0A%20%20%20%20%20%20%20%20%20%20%20%20%20%20%20%20%5B37.781752%2C%20-122.405127%5D%2C%0A%20%20%20%20%20%20%20%20%20%20%20%20%20%20%20%20%7B%22bubblingMouseEvents%22%3A%20true%2C%20%22color%22%3A%20%22crimson%22%2C%20%22dashArray%22%3A%20null%2C%20%22dashOffset%22%3A%20null%2C%20%22fill%22%3A%20true%2C%20%22fillColor%22%3A%20%22crimson%22%2C%20%22fillOpacity%22%3A%200.2%2C%20%22fillRule%22%3A%20%22evenodd%22%2C%20%22lineCap%22%3A%20%22round%22%2C%20%22lineJoin%22%3A%20%22round%22%2C%20%22opacity%22%3A%201.0%2C%20%22radius%22%3A%202.05%2C%20%22stroke%22%3A%20true%2C%20%22weight%22%3A%201.5%7D%0A%20%20%20%20%20%20%20%20%20%20%20%20%29.addTo%28map_0bfc8f5829ca4ec7bb17c0ebb5789065%29%3B%0A%20%20%20%20%20%20%20%20%0A%20%20%20%20%0A%20%20%20%20%20%20%20%20%20%20%20%20circle_marker_0d4d82836ca24c90b21571cc66132491.bindTooltip%28%0A%20%20%20%20%20%20%20%20%20%20%20%20%20%20%20%20%60%3Cdiv%3E%0A%20%20%20%20%20%20%20%20%20%20%20%20%20%20%20%20%20%20%20%20%205th%20at%20Howard%20%3Cbr%3E%20Number%20of%20Trips%3A%201640%0A%20%20%20%20%20%20%20%20%20%20%20%20%20%20%20%20%20%3C/div%3E%60%2C%0A%20%20%20%20%20%20%20%20%20%20%20%20%20%20%20%20%7B%22sticky%22%3A%20true%7D%0A%20%20%20%20%20%20%20%20%20%20%20%20%29%3B%0A%20%20%20%20%20%20%20%20%0A%20%20%20%20%0A%20%20%20%20%20%20%20%20%20%20%20%20var%20circle_marker_871aca1f13d24c809d713d9070066c37%20%3D%20L.circleMarker%28%0A%20%20%20%20%20%20%20%20%20%20%20%20%20%20%20%20%5B37.786978%2C%20-122.398108%5D%2C%0A%20%20%20%20%20%20%20%20%20%20%20%20%20%20%20%20%7B%22bubblingMouseEvents%22%3A%20true%2C%20%22color%22%3A%20%22crimson%22%2C%20%22dashArray%22%3A%20null%2C%20%22dashOffset%22%3A%20null%2C%20%22fill%22%3A%20true%2C%20%22fillColor%22%3A%20%22crimson%22%2C%20%22fillOpacity%22%3A%200.2%2C%20%22fillRule%22%3A%20%22evenodd%22%2C%20%22lineCap%22%3A%20%22round%22%2C%20%22lineJoin%22%3A%20%22round%22%2C%20%22opacity%22%3A%201.0%2C%20%22radius%22%3A%202.52875%2C%20%22stroke%22%3A%20true%2C%20%22weight%22%3A%201.5%7D%0A%20%20%20%20%20%20%20%20%20%20%20%20%29.addTo%28map_0bfc8f5829ca4ec7bb17c0ebb5789065%29%3B%0A%20%20%20%20%20%20%20%20%0A%20%20%20%20%0A%20%20%20%20%20%20%20%20%20%20%20%20circle_marker_871aca1f13d24c809d713d9070066c37.bindTooltip%28%0A%20%20%20%20%20%20%20%20%20%20%20%20%20%20%20%20%60%3Cdiv%3E%0A%20%20%20%20%20%20%20%20%20%20%20%20%20%20%20%20%20%20%20%20%20Howard%20at%202nd%20%3Cbr%3E%20Number%20of%20Trips%3A%202023%0A%20%20%20%20%20%20%20%20%20%20%20%20%20%20%20%20%20%3C/div%3E%60%2C%0A%20%20%20%20%20%20%20%20%20%20%20%20%20%20%20%20%7B%22sticky%22%3A%20true%7D%0A%20%20%20%20%20%20%20%20%20%20%20%20%29%3B%0A%20%20%20%20%20%20%20%20%0A%20%20%20%20%0A%20%20%20%20%20%20%20%20%20%20%20%20var%20circle_marker_3626cf1cfaa34b9abd9c8dab4109806a%20%3D%20L.circleMarker%28%0A%20%20%20%20%20%20%20%20%20%20%20%20%20%20%20%20%5B37.786305%2C%20-122.404966%5D%2C%0A%20%20%20%20%20%20%20%20%20%20%20%20%20%20%20%20%7B%22bubblingMouseEvents%22%3A%20true%2C%20%22color%22%3A%20%22crimson%22%2C%20%22dashArray%22%3A%20null%2C%20%22dashOffset%22%3A%20null%2C%20%22fill%22%3A%20true%2C%20%22fillColor%22%3A%20%22crimson%22%2C%20%22fillOpacity%22%3A%200.2%2C%20%22fillRule%22%3A%20%22evenodd%22%2C%20%22lineCap%22%3A%20%22round%22%2C%20%22lineJoin%22%3A%20%22round%22%2C%20%22opacity%22%3A%201.0%2C%20%22radius%22%3A%203.58125%2C%20%22stroke%22%3A%20true%2C%20%22weight%22%3A%201.5%7D%0A%20%20%20%20%20%20%20%20%20%20%20%20%29.addTo%28map_0bfc8f5829ca4ec7bb17c0ebb5789065%29%3B%0A%20%20%20%20%20%20%20%20%0A%20%20%20%20%0A%20%20%20%20%20%20%20%20%20%20%20%20circle_marker_3626cf1cfaa34b9abd9c8dab4109806a.bindTooltip%28%0A%20%20%20%20%20%20%20%20%20%20%20%20%20%20%20%20%60%3Cdiv%3E%0A%20%20%20%20%20%20%20%20%20%20%20%20%20%20%20%20%20%20%20%20%20Market%20at%204th%20%3Cbr%3E%20Number%20of%20Trips%3A%202865%0A%20%20%20%20%20%20%20%20%20%20%20%20%20%20%20%20%20%3C/div%3E%60%2C%0A%20%20%20%20%20%20%20%20%20%20%20%20%20%20%20%20%7B%22sticky%22%3A%20true%7D%0A%20%20%20%20%20%20%20%20%20%20%20%20%29%3B%0A%20%20%20%20%20%20%20%20%0A%20%20%20%20%0A%20%20%20%20%20%20%20%20%20%20%20%20var%20circle_marker_9cbb3d7ffbd24e37a5b32c3f88be19f7%20%3D%20L.circleMarker%28%0A%20%20%20%20%20%20%20%20%20%20%20%20%20%20%20%20%5B37.776619%2C%20-122.417385%5D%2C%0A%20%20%20%20%20%20%20%20%20%20%20%20%20%20%20%20%7B%22bubblingMouseEvents%22%3A%20true%2C%20%22color%22%3A%20%22crimson%22%2C%20%22dashArray%22%3A%20null%2C%20%22dashOffset%22%3A%20null%2C%20%22fill%22%3A%20true%2C%20%22fillColor%22%3A%20%22crimson%22%2C%20%22fillOpacity%22%3A%200.2%2C%20%22fillRule%22%3A%20%22evenodd%22%2C%20%22lineCap%22%3A%20%22round%22%2C%20%22lineJoin%22%3A%20%22round%22%2C%20%22opacity%22%3A%201.0%2C%20%22radius%22%3A%2011.99625%2C%20%22stroke%22%3A%20true%2C%20%22weight%22%3A%201.5%7D%0A%20%20%20%20%20%20%20%20%20%20%20%20%29.addTo%28map_0bfc8f5829ca4ec7bb17c0ebb5789065%29%3B%0A%20%20%20%20%20%20%20%20%0A%20%20%20%20%0A%20%20%20%20%20%20%20%20%20%20%20%20circle_marker_9cbb3d7ffbd24e37a5b32c3f88be19f7.bindTooltip%28%0A%20%20%20%20%20%20%20%20%20%20%20%20%20%20%20%20%60%3Cdiv%3E%0A%20%20%20%20%20%20%20%20%20%20%20%20%20%20%20%20%20%20%20%20%20Market%20at%2010th%20%3Cbr%3E%20Number%20of%20Trips%3A%209597%0A%20%20%20%20%20%20%20%20%20%20%20%20%20%20%20%20%20%3C/div%3E%60%2C%0A%20%20%20%20%20%20%20%20%20%20%20%20%20%20%20%20%7B%22sticky%22%3A%20true%7D%0A%20%20%20%20%20%20%20%20%20%20%20%20%29%3B%0A%20%20%20%20%20%20%20%20%0A%20%20%20%20%0A%20%20%20%20%20%20%20%20%20%20%20%20var%20circle_marker_7945c5d2b18e43d59fc1b6259d0d3862%20%3D%20L.circleMarker%28%0A%20%20%20%20%20%20%20%20%20%20%20%20%20%20%20%20%5B37.788975%2C%20-122.403452%5D%2C%0A%20%20%20%20%20%20%20%20%20%20%20%20%20%20%20%20%7B%22bubblingMouseEvents%22%3A%20true%2C%20%22color%22%3A%20%22crimson%22%2C%20%22dashArray%22%3A%20null%2C%20%22dashOffset%22%3A%20null%2C%20%22fill%22%3A%20true%2C%20%22fillColor%22%3A%20%22crimson%22%2C%20%22fillOpacity%22%3A%200.2%2C%20%22fillRule%22%3A%20%22evenodd%22%2C%20%22lineCap%22%3A%20%22round%22%2C%20%22lineJoin%22%3A%20%22round%22%2C%20%22opacity%22%3A%201.0%2C%20%22radius%22%3A%201.95125%2C%20%22stroke%22%3A%20true%2C%20%22weight%22%3A%201.5%7D%0A%20%20%20%20%20%20%20%20%20%20%20%20%29.addTo%28map_0bfc8f5829ca4ec7bb17c0ebb5789065%29%3B%0A%20%20%20%20%20%20%20%20%0A%20%20%20%20%0A%20%20%20%20%20%20%20%20%20%20%20%20circle_marker_7945c5d2b18e43d59fc1b6259d0d3862.bindTooltip%28%0A%20%20%20%20%20%20%20%20%20%20%20%20%20%20%20%20%60%3Cdiv%3E%0A%20%20%20%20%20%20%20%20%20%20%20%20%20%20%20%20%20%20%20%20%20Post%20at%20Kearny%20%3Cbr%3E%20Number%20of%20Trips%3A%201561%0A%20%20%20%20%20%20%20%20%20%20%20%20%20%20%20%20%20%3C/div%3E%60%2C%0A%20%20%20%20%20%20%20%20%20%20%20%20%20%20%20%20%7B%22sticky%22%3A%20true%7D%0A%20%20%20%20%20%20%20%20%20%20%20%20%29%3B%0A%20%20%20%20%20%20%20%20%0A%20%20%20%20%0A%20%20%20%20%20%20%20%20%20%20%20%20var%20circle_marker_036fb6b6d9de42d18c8ff0d2dfebc76a%20%3D%20L.circleMarker%28%0A%20%20%20%20%20%20%20%20%20%20%20%20%20%20%20%20%5B37.780526%2C%20-122.390288%5D%2C%0A%20%20%20%20%20%20%20%20%20%20%20%20%20%20%20%20%7B%22bubblingMouseEvents%22%3A%20true%2C%20%22color%22%3A%20%22crimson%22%2C%20%22dashArray%22%3A%20null%2C%20%22dashOffset%22%3A%20null%2C%20%22fill%22%3A%20true%2C%20%22fillColor%22%3A%20%22crimson%22%2C%20%22fillOpacity%22%3A%200.2%2C%20%22fillRule%22%3A%20%22evenodd%22%2C%20%22lineCap%22%3A%20%22round%22%2C%20%22lineJoin%22%3A%20%22round%22%2C%20%22opacity%22%3A%201.0%2C%20%22radius%22%3A%209.7825%2C%20%22stroke%22%3A%20true%2C%20%22weight%22%3A%201.5%7D%0A%20%20%20%20%20%20%20%20%20%20%20%20%29.addTo%28map_0bfc8f5829ca4ec7bb17c0ebb5789065%29%3B%0A%20%20%20%20%20%20%20%20%0A%20%20%20%20%0A%20%20%20%20%20%20%20%20%20%20%20%20circle_marker_036fb6b6d9de42d18c8ff0d2dfebc76a.bindTooltip%28%0A%20%20%20%20%20%20%20%20%20%20%20%20%20%20%20%20%60%3Cdiv%3E%0A%20%20%20%20%20%20%20%20%20%20%20%20%20%20%20%20%20%20%20%20%202nd%20at%20Townsend%20%3Cbr%3E%20Number%20of%20Trips%3A%207826%0A%20%20%20%20%20%20%20%20%20%20%20%20%20%20%20%20%20%3C/div%3E%60%2C%0A%20%20%20%20%20%20%20%20%20%20%20%20%20%20%20%20%7B%22sticky%22%3A%20true%7D%0A%20%20%20%20%20%20%20%20%20%20%20%20%29%3B%0A%20%20%20%20%20%20%20%20%0A%20%20%20%20%0A%20%20%20%20%20%20%20%20%20%20%20%20var%20circle_marker_25445386504d4a8ab60df56485a97163%20%3D%20L.circleMarker%28%0A%20%20%20%20%20%20%20%20%20%20%20%20%20%20%20%20%5B37.792251%2C%20-122.397086%5D%2C%0A%20%20%20%20%20%20%20%20%20%20%20%20%20%20%20%20%7B%22bubblingMouseEvents%22%3A%20true%2C%20%22color%22%3A%20%22crimson%22%2C%20%22dashArray%22%3A%20null%2C%20%22dashOffset%22%3A%20null%2C%20%22fill%22%3A%20true%2C%20%22fillColor%22%3A%20%22crimson%22%2C%20%22fillOpacity%22%3A%200.2%2C%20%22fillRule%22%3A%20%22evenodd%22%2C%20%22lineCap%22%3A%20%22round%22%2C%20%22lineJoin%22%3A%20%22round%22%2C%20%22opacity%22%3A%201.0%2C%20%22radius%22%3A%205.0125%2C%20%22stroke%22%3A%20true%2C%20%22weight%22%3A%201.5%7D%0A%20%20%20%20%20%20%20%20%20%20%20%20%29.addTo%28map_0bfc8f5829ca4ec7bb17c0ebb5789065%29%3B%0A%20%20%20%20%20%20%20%20%0A%20%20%20%20%0A%20%20%20%20%20%20%20%20%20%20%20%20circle_marker_25445386504d4a8ab60df56485a97163.bindTooltip%28%0A%20%20%20%20%20%20%20%20%20%20%20%20%20%20%20%20%60%3Cdiv%3E%0A%20%20%20%20%20%20%20%20%20%20%20%20%20%20%20%20%20%20%20%20%20Beale%20at%20Market%20%3Cbr%3E%20Number%20of%20Trips%3A%204010%0A%20%20%20%20%20%20%20%20%20%20%20%20%20%20%20%20%20%3C/div%3E%60%2C%0A%20%20%20%20%20%20%20%20%20%20%20%20%20%20%20%20%7B%22sticky%22%3A%20true%7D%0A%20%20%20%20%20%20%20%20%20%20%20%20%29%3B%0A%20%20%20%20%20%20%20%20%0A%20%20%20%20%0A%20%20%20%20%20%20%20%20%20%20%20%20var%20circle_marker_665948d194d24daebd8ee7d35f31b2f1%20%3D%20L.circleMarker%28%0A%20%20%20%20%20%20%20%20%20%20%20%20%20%20%20%20%5B37.795001%2C%20-122.39997%5D%2C%0A%20%20%20%20%20%20%20%20%20%20%20%20%20%20%20%20%7B%22bubblingMouseEvents%22%3A%20true%2C%20%22color%22%3A%20%22crimson%22%2C%20%22dashArray%22%3A%20null%2C%20%22dashOffset%22%3A%20null%2C%20%22fill%22%3A%20true%2C%20%22fillColor%22%3A%20%22crimson%22%2C%20%22fillOpacity%22%3A%200.2%2C%20%22fillRule%22%3A%20%22evenodd%22%2C%20%22lineCap%22%3A%20%22round%22%2C%20%22lineJoin%22%3A%20%22round%22%2C%20%22opacity%22%3A%201.0%2C%20%22radius%22%3A%204.33875%2C%20%22stroke%22%3A%20true%2C%20%22weight%22%3A%201.5%7D%0A%20%20%20%20%20%20%20%20%20%20%20%20%29.addTo%28map_0bfc8f5829ca4ec7bb17c0ebb5789065%29%3B%0A%20%20%20%20%20%20%20%20%0A%20%20%20%20%0A%20%20%20%20%20%20%20%20%20%20%20%20circle_marker_665948d194d24daebd8ee7d35f31b2f1.bindTooltip%28%0A%20%20%20%20%20%20%20%20%20%20%20%20%20%20%20%20%60%3Cdiv%3E%0A%20%20%20%20%20%20%20%20%20%20%20%20%20%20%20%20%20%20%20%20%20Clay%20at%20Battery%20%3Cbr%3E%20Number%20of%20Trips%3A%203471%0A%20%20%20%20%20%20%20%20%20%20%20%20%20%20%20%20%20%3C/div%3E%60%2C%0A%20%20%20%20%20%20%20%20%20%20%20%20%20%20%20%20%7B%22sticky%22%3A%20true%7D%0A%20%20%20%20%20%20%20%20%20%20%20%20%29%3B%0A%20%20%20%20%20%20%20%20%0A%20%20%20%20%0A%20%20%20%20%20%20%20%20%20%20%20%20var%20circle_marker_a32d0c48b03a4f5782dd9630ec389794%20%3D%20L.circleMarker%28%0A%20%20%20%20%20%20%20%20%20%20%20%20%20%20%20%20%5B37.788975%2C%20-122.403452%5D%2C%0A%20%20%20%20%20%20%20%20%20%20%20%20%20%20%20%20%7B%22bubblingMouseEvents%22%3A%20true%2C%20%22color%22%3A%20%22crimson%22%2C%20%22dashArray%22%3A%20null%2C%20%22dashOffset%22%3A%20null%2C%20%22fill%22%3A%20true%2C%20%22fillColor%22%3A%20%22crimson%22%2C%20%22fillOpacity%22%3A%200.2%2C%20%22fillRule%22%3A%20%22evenodd%22%2C%20%22lineCap%22%3A%20%22round%22%2C%20%22lineJoin%22%3A%20%22round%22%2C%20%22opacity%22%3A%201.0%2C%20%22radius%22%3A%200.39%2C%20%22stroke%22%3A%20true%2C%20%22weight%22%3A%201.5%7D%0A%20%20%20%20%20%20%20%20%20%20%20%20%29.addTo%28map_0bfc8f5829ca4ec7bb17c0ebb5789065%29%3B%0A%20%20%20%20%20%20%20%20%0A%20%20%20%20%0A%20%20%20%20%20%20%20%20%20%20%20%20circle_marker_a32d0c48b03a4f5782dd9630ec389794.bindTooltip%28%0A%20%20%20%20%20%20%20%20%20%20%20%20%20%20%20%20%60%3Cdiv%3E%0A%20%20%20%20%20%20%20%20%20%20%20%20%20%20%20%20%20%20%20%20%20Post%20at%20Kearney%20%3Cbr%3E%20Number%20of%20Trips%3A%20312%0A%20%20%20%20%20%20%20%20%20%20%20%20%20%20%20%20%20%3C/div%3E%60%2C%0A%20%20%20%20%20%20%20%20%20%20%20%20%20%20%20%20%7B%22sticky%22%3A%20true%7D%0A%20%20%20%20%20%20%20%20%20%20%20%20%29%3B%0A%20%20%20%20%20%20%20%20%0A%20%20%20%20%0A%20%20%20%20%20%20%20%20%20%20%20%20var%20circle_marker_a98edbf52ee942bf8993233196ffdb7d%20%3D%20L.circleMarker%28%0A%20%20%20%20%20%20%20%20%20%20%20%20%20%20%20%20%5B37.790302%2C%20-122.390637%5D%2C%0A%20%20%20%20%20%20%20%20%20%20%20%20%20%20%20%20%7B%22bubblingMouseEvents%22%3A%20true%2C%20%22color%22%3A%20%22crimson%22%2C%20%22dashArray%22%3A%20null%2C%20%22dashOffset%22%3A%20null%2C%20%22fill%22%3A%20true%2C%20%22fillColor%22%3A%20%22crimson%22%2C%20%22fillOpacity%22%3A%200.2%2C%20%22fillRule%22%3A%20%22evenodd%22%2C%20%22lineCap%22%3A%20%22round%22%2C%20%22lineJoin%22%3A%20%22round%22%2C%20%22opacity%22%3A%201.0%2C%20%22radius%22%3A%203.14375%2C%20%22stroke%22%3A%20true%2C%20%22weight%22%3A%201.5%7D%0A%20%20%20%20%20%20%20%20%20%20%20%20%29.addTo%28map_0bfc8f5829ca4ec7bb17c0ebb5789065%29%3B%0A%20%20%20%20%20%20%20%20%0A%20%20%20%20%0A%20%20%20%20%20%20%20%20%20%20%20%20circle_marker_a98edbf52ee942bf8993233196ffdb7d.bindTooltip%28%0A%20%20%20%20%20%20%20%20%20%20%20%20%20%20%20%20%60%3Cdiv%3E%0A%20%20%20%20%20%20%20%20%20%20%20%20%20%20%20%20%20%20%20%20%20Spear%20at%20Folsom%20%3Cbr%3E%20Number%20of%20Trips%3A%202515%0A%20%20%20%20%20%20%20%20%20%20%20%20%20%20%20%20%20%3C/div%3E%60%2C%0A%20%20%20%20%20%20%20%20%20%20%20%20%20%20%20%20%7B%22sticky%22%3A%20true%7D%0A%20%20%20%20%20%20%20%20%20%20%20%20%29%3B%0A%20%20%20%20%20%20%20%20%0A%20%20%20%20%0A%20%20%20%20%20%20%20%20%20%20%20%20var%20circle_marker_2dd42024ab6c4f6c88231e3bff1c2072%20%3D%20L.circleMarker%28%0A%20%20%20%20%20%20%20%20%20%20%20%20%20%20%20%20%5B37.771058%2C%20-122.402717%5D%2C%0A%20%20%20%20%20%20%20%20%20%20%20%20%20%20%20%20%7B%22bubblingMouseEvents%22%3A%20true%2C%20%22color%22%3A%20%22crimson%22%2C%20%22dashArray%22%3A%20null%2C%20%22dashOffset%22%3A%20null%2C%20%22fill%22%3A%20true%2C%20%22fillColor%22%3A%20%22crimson%22%2C%20%22fillOpacity%22%3A%200.2%2C%20%22fillRule%22%3A%20%22evenodd%22%2C%20%22lineCap%22%3A%20%22round%22%2C%20%22lineJoin%22%3A%20%22round%22%2C%20%22opacity%22%3A%201.0%2C%20%22radius%22%3A%2012.77875%2C%20%22stroke%22%3A%20true%2C%20%22weight%22%3A%201.5%7D%0A%20%20%20%20%20%20%20%20%20%20%20%20%29.addTo%28map_0bfc8f5829ca4ec7bb17c0ebb5789065%29%3B%0A%20%20%20%20%20%20%20%20%0A%20%20%20%20%0A%20%20%20%20%20%20%20%20%20%20%20%20circle_marker_2dd42024ab6c4f6c88231e3bff1c2072.bindTooltip%28%0A%20%20%20%20%20%20%20%20%20%20%20%20%20%20%20%20%60%3Cdiv%3E%0A%20%20%20%20%20%20%20%20%20%20%20%20%20%20%20%20%20%20%20%20%20Townsend%20at%207th%20%3Cbr%3E%20Number%20of%20Trips%3A%2010223%0A%20%20%20%20%20%20%20%20%20%20%20%20%20%20%20%20%20%3C/div%3E%60%2C%0A%20%20%20%20%20%20%20%20%20%20%20%20%20%20%20%20%7B%22sticky%22%3A%20true%7D%0A%20%20%20%20%20%20%20%20%20%20%20%20%29%3B%0A%20%20%20%20%20%20%20%20%0A%20%20%20%20%0A%20%20%20%20%20%20%20%20%20%20%20%20var%20circle_marker_e69542e7a24f43bda33225fa104de0b9%20%3D%20L.circleMarker%28%0A%20%20%20%20%20%20%20%20%20%20%20%20%20%20%20%20%5B37.79728%2C%20-122.398436%5D%2C%0A%20%20%20%20%20%20%20%20%20%20%20%20%20%20%20%20%7B%22bubblingMouseEvents%22%3A%20true%2C%20%22color%22%3A%20%22crimson%22%2C%20%22dashArray%22%3A%20null%2C%20%22dashOffset%22%3A%20null%2C%20%22fill%22%3A%20true%2C%20%22fillColor%22%3A%20%22crimson%22%2C%20%22fillOpacity%22%3A%200.2%2C%20%22fillRule%22%3A%20%22evenodd%22%2C%20%22lineCap%22%3A%20%22round%22%2C%20%22lineJoin%22%3A%20%22round%22%2C%20%22opacity%22%3A%201.0%2C%20%22radius%22%3A%205.90875%2C%20%22stroke%22%3A%20true%2C%20%22weight%22%3A%201.5%7D%0A%20%20%20%20%20%20%20%20%20%20%20%20%29.addTo%28map_0bfc8f5829ca4ec7bb17c0ebb5789065%29%3B%0A%20%20%20%20%20%20%20%20%0A%20%20%20%20%0A%20%20%20%20%20%20%20%20%20%20%20%20circle_marker_e69542e7a24f43bda33225fa104de0b9.bindTooltip%28%0A%20%20%20%20%20%20%20%20%20%20%20%20%20%20%20%20%60%3Cdiv%3E%0A%20%20%20%20%20%20%20%20%20%20%20%20%20%20%20%20%20%20%20%20%20Davis%20at%20Jackson%20%3Cbr%3E%20Number%20of%20Trips%3A%204727%0A%20%20%20%20%20%20%20%20%20%20%20%20%20%20%20%20%20%3C/div%3E%60%2C%0A%20%20%20%20%20%20%20%20%20%20%20%20%20%20%20%20%7B%22sticky%22%3A%20true%7D%0A%20%20%20%20%20%20%20%20%20%20%20%20%29%3B%0A%20%20%20%20%20%20%20%20%0A%20%20%20%20%0A%20%20%20%20%20%20%20%20%20%20%20%20var%20circle_marker_0f27084282b441f5a357f3c99427dc23%20%3D%20L.circleMarker%28%0A%20%20%20%20%20%20%20%20%20%20%20%20%20%20%20%20%5B37.782259%2C%20-122.392738%5D%2C%0A%20%20%20%20%20%20%20%20%20%20%20%20%20%20%20%20%7B%22bubblingMouseEvents%22%3A%20true%2C%20%22color%22%3A%20%22crimson%22%2C%20%22dashArray%22%3A%20null%2C%20%22dashOffset%22%3A%20null%2C%20%22fill%22%3A%20true%2C%20%22fillColor%22%3A%20%22crimson%22%2C%20%22fillOpacity%22%3A%200.2%2C%20%22fillRule%22%3A%20%22evenodd%22%2C%20%22lineCap%22%3A%20%22round%22%2C%20%22lineJoin%22%3A%20%22round%22%2C%20%22opacity%22%3A%201.0%2C%20%22radius%22%3A%203.47875%2C%20%22stroke%22%3A%20true%2C%20%22weight%22%3A%201.5%7D%0A%20%20%20%20%20%20%20%20%20%20%20%20%29.addTo%28map_0bfc8f5829ca4ec7bb17c0ebb5789065%29%3B%0A%20%20%20%20%20%20%20%20%0A%20%20%20%20%0A%20%20%20%20%20%20%20%20%20%20%20%20circle_marker_0f27084282b441f5a357f3c99427dc23.bindTooltip%28%0A%20%20%20%20%20%20%20%20%20%20%20%20%20%20%20%20%60%3Cdiv%3E%0A%20%20%20%20%20%20%20%20%20%20%20%20%20%20%20%20%20%20%20%20%202nd%20at%20South%20Park%20%3Cbr%3E%20Number%20of%20Trips%3A%202783%0A%20%20%20%20%20%20%20%20%20%20%20%20%20%20%20%20%20%3C/div%3E%60%2C%0A%20%20%20%20%20%20%20%20%20%20%20%20%20%20%20%20%7B%22sticky%22%3A%20true%7D%0A%20%20%20%20%20%20%20%20%20%20%20%20%29%3B%0A%20%20%20%20%20%20%20%20%0A%20%20%20%20%0A%20%20%20%20%20%20%20%20%20%20%20%20var%20circle_marker_2e87f69a5f454184b2c9a4c65d20cbfb%20%3D%20L.circleMarker%28%0A%20%20%20%20%20%20%20%20%20%20%20%20%20%20%20%20%5B37.789625%2C%20-122.400811%5D%2C%0A%20%20%20%20%20%20%20%20%20%20%20%20%20%20%20%20%7B%22bubblingMouseEvents%22%3A%20true%2C%20%22color%22%3A%20%22crimson%22%2C%20%22dashArray%22%3A%20null%2C%20%22dashOffset%22%3A%20null%2C%20%22fill%22%3A%20true%2C%20%22fillColor%22%3A%20%22crimson%22%2C%20%22fillOpacity%22%3A%200.2%2C%20%22fillRule%22%3A%20%22evenodd%22%2C%20%22lineCap%22%3A%20%22round%22%2C%20%22lineJoin%22%3A%20%22round%22%2C%20%22opacity%22%3A%201.0%2C%20%22radius%22%3A%206.67625%2C%20%22stroke%22%3A%20true%2C%20%22weight%22%3A%201.5%7D%0A%20%20%20%20%20%20%20%20%20%20%20%20%29.addTo%28map_0bfc8f5829ca4ec7bb17c0ebb5789065%29%3B%0A%20%20%20%20%20%20%20%20%0A%20%20%20%20%0A%20%20%20%20%20%20%20%20%20%20%20%20circle_marker_2e87f69a5f454184b2c9a4c65d20cbfb.bindTooltip%28%0A%20%20%20%20%20%20%20%20%20%20%20%20%20%20%20%20%60%3Cdiv%3E%0A%20%20%20%20%20%20%20%20%20%20%20%20%20%20%20%20%20%20%20%20%20Market%20at%20Sansome%20%3Cbr%3E%20Number%20of%20Trips%3A%205341%0A%20%20%20%20%20%20%20%20%20%20%20%20%20%20%20%20%20%3C/div%3E%60%2C%0A%20%20%20%20%20%20%20%20%20%20%20%20%20%20%20%20%7B%22sticky%22%3A%20true%7D%0A%20%20%20%20%20%20%20%20%20%20%20%20%29%3B%0A%20%20%20%20%20%20%20%20%0A%20%20%20%20%0A%20%20%20%20%20%20%20%20%20%20%20%20var%20circle_marker_4aa0e111cf054f1c99b5ad600f8ee76f%20%3D%20L.circleMarker%28%0A%20%20%20%20%20%20%20%20%20%20%20%20%20%20%20%20%5B37.794139%2C%20-122.394434%5D%2C%0A%20%20%20%20%20%20%20%20%20%20%20%20%20%20%20%20%7B%22bubblingMouseEvents%22%3A%20true%2C%20%22color%22%3A%20%22crimson%22%2C%20%22dashArray%22%3A%20null%2C%20%22dashOffset%22%3A%20null%2C%20%22fill%22%3A%20true%2C%20%22fillColor%22%3A%20%22crimson%22%2C%20%22fillOpacity%22%3A%200.2%2C%20%22fillRule%22%3A%20%22evenodd%22%2C%20%22lineCap%22%3A%20%22round%22%2C%20%22lineJoin%22%3A%20%22round%22%2C%20%22opacity%22%3A%201.0%2C%20%22radius%22%3A%209.25875%2C%20%22stroke%22%3A%20true%2C%20%22weight%22%3A%201.5%7D%0A%20%20%20%20%20%20%20%20%20%20%20%20%29.addTo%28map_0bfc8f5829ca4ec7bb17c0ebb5789065%29%3B%0A%20%20%20%20%20%20%20%20%0A%20%20%20%20%0A%20%20%20%20%20%20%20%20%20%20%20%20circle_marker_4aa0e111cf054f1c99b5ad600f8ee76f.bindTooltip%28%0A%20%20%20%20%20%20%20%20%20%20%20%20%20%20%20%20%60%3Cdiv%3E%0A%20%20%20%20%20%20%20%20%20%20%20%20%20%20%20%20%20%20%20%20%20Steuart%20at%20Market%20%3Cbr%3E%20Number%20of%20Trips%3A%207407%0A%20%20%20%20%20%20%20%20%20%20%20%20%20%20%20%20%20%3C/div%3E%60%2C%0A%20%20%20%20%20%20%20%20%20%20%20%20%20%20%20%20%7B%22sticky%22%3A%20true%7D%0A%20%20%20%20%20%20%20%20%20%20%20%20%29%3B%0A%20%20%20%20%20%20%20%20%0A%20%20%20%20%0A%20%20%20%20%20%20%20%20%20%20%20%20var%20circle_marker_9d611d82a6ac412780caa1d1619f8fe4%20%3D%20L.circleMarker%28%0A%20%20%20%20%20%20%20%20%20%20%20%20%20%20%20%20%5B37.783871%2C%20-122.408433%5D%2C%0A%20%20%20%20%20%20%20%20%20%20%20%20%20%20%20%20%7B%22bubblingMouseEvents%22%3A%20true%2C%20%22color%22%3A%20%22crimson%22%2C%20%22dashArray%22%3A%20null%2C%20%22dashOffset%22%3A%20null%2C%20%22fill%22%3A%20true%2C%20%22fillColor%22%3A%20%22crimson%22%2C%20%22fillOpacity%22%3A%200.2%2C%20%22fillRule%22%3A%20%22evenodd%22%2C%20%22lineCap%22%3A%20%22round%22%2C%20%22lineJoin%22%3A%20%22round%22%2C%20%22opacity%22%3A%201.0%2C%20%22radius%22%3A%204.7375%2C%20%22stroke%22%3A%20true%2C%20%22weight%22%3A%201.5%7D%0A%20%20%20%20%20%20%20%20%20%20%20%20%29.addTo%28map_0bfc8f5829ca4ec7bb17c0ebb5789065%29%3B%0A%20%20%20%20%20%20%20%20%0A%20%20%20%20%0A%20%20%20%20%20%20%20%20%20%20%20%20circle_marker_9d611d82a6ac412780caa1d1619f8fe4.bindTooltip%28%0A%20%20%20%20%20%20%20%20%20%20%20%20%20%20%20%20%60%3Cdiv%3E%0A%20%20%20%20%20%20%20%20%20%20%20%20%20%20%20%20%20%20%20%20%20Powell%20Street%20BART%20%3Cbr%3E%20Number%20of%20Trips%3A%203790%0A%20%20%20%20%20%20%20%20%20%20%20%20%20%20%20%20%20%3C/div%3E%60%2C%0A%20%20%20%20%20%20%20%20%20%20%20%20%20%20%20%20%7B%22sticky%22%3A%20true%7D%0A%20%20%20%20%20%20%20%20%20%20%20%20%29%3B%0A%20%20%20%20%20%20%20%20%0A%20%20%20%20%0A%20%20%20%20%20%20%20%20%20%20%20%20var%20circle_marker_b105ae9a83804e42b57af066cc8fcb7c%20%3D%20L.circleMarker%28%0A%20%20%20%20%20%20%20%20%20%20%20%20%20%20%20%20%5B37.780148%2C%20-122.403158%5D%2C%0A%20%20%20%20%20%20%20%20%20%20%20%20%20%20%20%20%7B%22bubblingMouseEvents%22%3A%20true%2C%20%22color%22%3A%20%22crimson%22%2C%20%22dashArray%22%3A%20null%2C%20%22dashOffset%22%3A%20null%2C%20%22fill%22%3A%20true%2C%20%22fillColor%22%3A%20%22crimson%22%2C%20%22fillOpacity%22%3A%200.2%2C%20%22fillRule%22%3A%20%22evenodd%22%2C%20%22lineCap%22%3A%20%22round%22%2C%20%22lineJoin%22%3A%20%22round%22%2C%20%22opacity%22%3A%201.0%2C%20%22radius%22%3A%200.005%2C%20%22stroke%22%3A%20true%2C%20%22weight%22%3A%201.5%7D%0A%20%20%20%20%20%20%20%20%20%20%20%20%29.addTo%28map_0bfc8f5829ca4ec7bb17c0ebb5789065%29%3B%0A%20%20%20%20%20%20%20%20%0A%20%20%20%20%0A%20%20%20%20%20%20%20%20%20%20%20%20circle_marker_b105ae9a83804e42b57af066cc8fcb7c.bindTooltip%28%0A%20%20%20%20%20%20%20%20%20%20%20%20%20%20%20%20%60%3Cdiv%3E%0A%20%20%20%20%20%20%20%20%20%20%20%20%20%20%20%20%20%20%20%20%205th%20St%20at%20Folsom%20St%20%3Cbr%3E%20Number%20of%20Trips%3A%204%0A%20%20%20%20%20%20%20%20%20%20%20%20%20%20%20%20%20%3C/div%3E%60%2C%0A%20%20%20%20%20%20%20%20%20%20%20%20%20%20%20%20%7B%22sticky%22%3A%20true%7D%0A%20%20%20%20%20%20%20%20%20%20%20%20%29%3B%0A%20%20%20%20%20%20%20%20%0A%20%20%20%20%0A%20%20%20%20%20%20%20%20%20%20%20%20var%20circle_marker_84fb648cae0148f7bafec24afd14531e%20%3D%20L.circleMarker%28%0A%20%20%20%20%20%20%20%20%20%20%20%20%20%20%20%20%5B37.781332%2C%20-122.418603%5D%2C%0A%20%20%20%20%20%20%20%20%20%20%20%20%20%20%20%20%7B%22bubblingMouseEvents%22%3A%20true%2C%20%22color%22%3A%20%22crimson%22%2C%20%22dashArray%22%3A%20null%2C%20%22dashOffset%22%3A%20null%2C%20%22fill%22%3A%20true%2C%20%22fillColor%22%3A%20%22crimson%22%2C%20%22fillOpacity%22%3A%200.2%2C%20%22fillRule%22%3A%20%22evenodd%22%2C%20%22lineCap%22%3A%20%22round%22%2C%20%22lineJoin%22%3A%20%22round%22%2C%20%22opacity%22%3A%201.0%2C%20%22radius%22%3A%204.21125%2C%20%22stroke%22%3A%20true%2C%20%22weight%22%3A%201.5%7D%0A%20%20%20%20%20%20%20%20%20%20%20%20%29.addTo%28map_0bfc8f5829ca4ec7bb17c0ebb5789065%29%3B%0A%20%20%20%20%20%20%20%20%0A%20%20%20%20%0A%20%20%20%20%20%20%20%20%20%20%20%20circle_marker_84fb648cae0148f7bafec24afd14531e.bindTooltip%28%0A%20%20%20%20%20%20%20%20%20%20%20%20%20%20%20%20%60%3Cdiv%3E%0A%20%20%20%20%20%20%20%20%20%20%20%20%20%20%20%20%20%20%20%20%20Golden%20Gate%20at%20Polk%20%3Cbr%3E%20Number%20of%20Trips%3A%203369%0A%20%20%20%20%20%20%20%20%20%20%20%20%20%20%20%20%20%3C/div%3E%60%2C%0A%20%20%20%20%20%20%20%20%20%20%20%20%20%20%20%20%7B%22sticky%22%3A%20true%7D%0A%20%20%20%20%20%20%20%20%20%20%20%20%29%3B%0A%20%20%20%20%20%20%20%20%0A%20%20%20%20%0A%20%20%20%20%20%20%20%20%20%20%20%20var%20circle_marker_8b736a83925145f199fabf78d5f60275%20%3D%20L.circleMarker%28%0A%20%20%20%20%20%20%20%20%20%20%20%20%20%20%20%20%5B37.795425%2C%20-122.404767%5D%2C%0A%20%20%20%20%20%20%20%20%20%20%20%20%20%20%20%20%7B%22bubblingMouseEvents%22%3A%20true%2C%20%22color%22%3A%20%22crimson%22%2C%20%22dashArray%22%3A%20null%2C%20%22dashOffset%22%3A%20null%2C%20%22fill%22%3A%20true%2C%20%22fillColor%22%3A%20%22crimson%22%2C%20%22fillOpacity%22%3A%200.2%2C%20%22fillRule%22%3A%20%22evenodd%22%2C%20%22lineCap%22%3A%20%22round%22%2C%20%22lineJoin%22%3A%20%22round%22%2C%20%22opacity%22%3A%201.0%2C%20%22radius%22%3A%201.57%2C%20%22stroke%22%3A%20true%2C%20%22weight%22%3A%201.5%7D%0A%20%20%20%20%20%20%20%20%20%20%20%20%29.addTo%28map_0bfc8f5829ca4ec7bb17c0ebb5789065%29%3B%0A%20%20%20%20%20%20%20%20%0A%20%20%20%20%0A%20%20%20%20%20%20%20%20%20%20%20%20circle_marker_8b736a83925145f199fabf78d5f60275.bindTooltip%28%0A%20%20%20%20%20%20%20%20%20%20%20%20%20%20%20%20%60%3Cdiv%3E%0A%20%20%20%20%20%20%20%20%20%20%20%20%20%20%20%20%20%20%20%20%20Washington%20at%20Kearny%20%3Cbr%3E%20Number%20of%20Trips%3A%201256%0A%20%20%20%20%20%20%20%20%20%20%20%20%20%20%20%20%20%3C/div%3E%60%2C%0A%20%20%20%20%20%20%20%20%20%20%20%20%20%20%20%20%7B%22sticky%22%3A%20true%7D%0A%20%20%20%20%20%20%20%20%20%20%20%20%29%3B%0A%20%20%20%20%20%20%20%20%0A%20%20%20%20%0A%20%20%20%20%20%20%20%20%20%20%20%20var%20circle_marker_e1284523395443c3aba282442a43f15b%20%3D%20L.circleMarker%28%0A%20%20%20%20%20%20%20%20%20%20%20%20%20%20%20%20%5B37.787152%2C%20-122.388013%5D%2C%0A%20%20%20%20%20%20%20%20%20%20%20%20%20%20%20%20%7B%22bubblingMouseEvents%22%3A%20true%2C%20%22color%22%3A%20%22crimson%22%2C%20%22dashArray%22%3A%20null%2C%20%22dashOffset%22%3A%20null%2C%20%22fill%22%3A%20true%2C%20%22fillColor%22%3A%20%22crimson%22%2C%20%22fillOpacity%22%3A%200.2%2C%20%22fillRule%22%3A%20%22evenodd%22%2C%20%22lineCap%22%3A%20%22round%22%2C%20%22lineJoin%22%3A%20%22round%22%2C%20%22opacity%22%3A%201.0%2C%20%22radius%22%3A%202.04%2C%20%22stroke%22%3A%20true%2C%20%22weight%22%3A%201.5%7D%0A%20%20%20%20%20%20%20%20%20%20%20%20%29.addTo%28map_0bfc8f5829ca4ec7bb17c0ebb5789065%29%3B%0A%20%20%20%20%20%20%20%20%0A%20%20%20%20%0A%20%20%20%20%20%20%20%20%20%20%20%20circle_marker_e1284523395443c3aba282442a43f15b.bindTooltip%28%0A%20%20%20%20%20%20%20%20%20%20%20%20%20%20%20%20%60%3Cdiv%3E%0A%20%20%20%20%20%20%20%20%20%20%20%20%20%20%20%20%20%20%20%20%20Embarcadero%20at%20Bryant%20%3Cbr%3E%20Number%20of%20Trips%3A%201632%0A%20%20%20%20%20%20%20%20%20%20%20%20%20%20%20%20%20%3C/div%3E%60%2C%0A%20%20%20%20%20%20%20%20%20%20%20%20%20%20%20%20%7B%22sticky%22%3A%20true%7D%0A%20%20%20%20%20%20%20%20%20%20%20%20%29%3B%0A%20%20%20%20%20%20%20%20%0A%20%20%20%20%0A%20%20%20%20%20%20%20%20%20%20%20%20var%20circle_marker_b9bd7e57ecef46e9a5feac38baa95668%20%3D%20L.circleMarker%28%0A%20%20%20%20%20%20%20%20%20%20%20%20%20%20%20%20%5B37.791464%2C%20-122.391034%5D%2C%0A%20%20%20%20%20%20%20%20%20%20%20%20%20%20%20%20%7B%22bubblingMouseEvents%22%3A%20true%2C%20%22color%22%3A%20%22crimson%22%2C%20%22dashArray%22%3A%20null%2C%20%22dashOffset%22%3A%20null%2C%20%22fill%22%3A%20true%2C%20%22fillColor%22%3A%20%22crimson%22%2C%20%22fillOpacity%22%3A%200.2%2C%20%22fillRule%22%3A%20%22evenodd%22%2C%20%22lineCap%22%3A%20%22round%22%2C%20%22lineJoin%22%3A%20%22round%22%2C%20%22opacity%22%3A%201.0%2C%20%22radius%22%3A%205.7075%2C%20%22stroke%22%3A%20true%2C%20%22weight%22%3A%201.5%7D%0A%20%20%20%20%20%20%20%20%20%20%20%20%29.addTo%28map_0bfc8f5829ca4ec7bb17c0ebb5789065%29%3B%0A%20%20%20%20%20%20%20%20%0A%20%20%20%20%0A%20%20%20%20%20%20%20%20%20%20%20%20circle_marker_b9bd7e57ecef46e9a5feac38baa95668.bindTooltip%28%0A%20%20%20%20%20%20%20%20%20%20%20%20%20%20%20%20%60%3Cdiv%3E%0A%20%20%20%20%20%20%20%20%20%20%20%20%20%20%20%20%20%20%20%20%20Embarcadero%20at%20Folsom%20%3Cbr%3E%20Number%20of%20Trips%3A%204566%0A%20%20%20%20%20%20%20%20%20%20%20%20%20%20%20%20%20%3C/div%3E%60%2C%0A%20%20%20%20%20%20%20%20%20%20%20%20%20%20%20%20%7B%22sticky%22%3A%20true%7D%0A%20%20%20%20%20%20%20%20%20%20%20%20%29%3B%0A%20%20%20%20%20%20%20%20%0A%20%20%20%20%0A%20%20%20%20%20%20%20%20%20%20%20%20var%20circle_marker_d5458bbe32884f81af9b39bb660cb009%20%3D%20L.circleMarker%28%0A%20%20%20%20%20%20%20%20%20%20%20%20%20%20%20%20%5B37.795425%2C%20-122.404767%5D%2C%0A%20%20%20%20%20%20%20%20%20%20%20%20%20%20%20%20%7B%22bubblingMouseEvents%22%3A%20true%2C%20%22color%22%3A%20%22crimson%22%2C%20%22dashArray%22%3A%20null%2C%20%22dashOffset%22%3A%20null%2C%20%22fill%22%3A%20true%2C%20%22fillColor%22%3A%20%22crimson%22%2C%20%22fillOpacity%22%3A%200.2%2C%20%22fillRule%22%3A%20%22evenodd%22%2C%20%22lineCap%22%3A%20%22round%22%2C%20%22lineJoin%22%3A%20%22round%22%2C%20%22opacity%22%3A%201.0%2C%20%22radius%22%3A%200.305%2C%20%22stroke%22%3A%20true%2C%20%22weight%22%3A%201.5%7D%0A%20%20%20%20%20%20%20%20%20%20%20%20%29.addTo%28map_0bfc8f5829ca4ec7bb17c0ebb5789065%29%3B%0A%20%20%20%20%20%20%20%20%0A%20%20%20%20%0A%20%20%20%20%20%20%20%20%20%20%20%20circle_marker_d5458bbe32884f81af9b39bb660cb009.bindTooltip%28%0A%20%20%20%20%20%20%20%20%20%20%20%20%20%20%20%20%60%3Cdiv%3E%0A%20%20%20%20%20%20%20%20%20%20%20%20%20%20%20%20%20%20%20%20%20Washington%20at%20Kearney%20%3Cbr%3E%20Number%20of%20Trips%3A%20244%0A%20%20%20%20%20%20%20%20%20%20%20%20%20%20%20%20%20%3C/div%3E%60%2C%0A%20%20%20%20%20%20%20%20%20%20%20%20%20%20%20%20%7B%22sticky%22%3A%20true%7D%0A%20%20%20%20%20%20%20%20%20%20%20%20%29%3B%0A%20%20%20%20%20%20%20%20%0A%20%20%20%20%0A%20%20%20%20%20%20%20%20%20%20%20%20var%20circle_marker_b4ad210e00cf4e31aabff25c31531237%20%3D%20L.circleMarker%28%0A%20%20%20%20%20%20%20%20%20%20%20%20%20%20%20%20%5B37.80477%2C%20-122.403234%5D%2C%0A%20%20%20%20%20%20%20%20%20%20%20%20%20%20%20%20%7B%22bubblingMouseEvents%22%3A%20true%2C%20%22color%22%3A%20%22crimson%22%2C%20%22dashArray%22%3A%20null%2C%20%22dashOffset%22%3A%20null%2C%20%22fill%22%3A%20true%2C%20%22fillColor%22%3A%20%22crimson%22%2C%20%22fillOpacity%22%3A%200.2%2C%20%22fillRule%22%3A%20%22evenodd%22%2C%20%22lineCap%22%3A%20%22round%22%2C%20%22lineJoin%22%3A%20%22round%22%2C%20%22opacity%22%3A%201.0%2C%20%22radius%22%3A%209.835%2C%20%22stroke%22%3A%20true%2C%20%22weight%22%3A%201.5%7D%0A%20%20%20%20%20%20%20%20%20%20%20%20%29.addTo%28map_0bfc8f5829ca4ec7bb17c0ebb5789065%29%3B%0A%20%20%20%20%20%20%20%20%0A%20%20%20%20%0A%20%20%20%20%20%20%20%20%20%20%20%20circle_marker_b4ad210e00cf4e31aabff25c31531237.bindTooltip%28%0A%20%20%20%20%20%20%20%20%20%20%20%20%20%20%20%20%60%3Cdiv%3E%0A%20%20%20%20%20%20%20%20%20%20%20%20%20%20%20%20%20%20%20%20%20Embarcadero%20at%20Sansome%20%3Cbr%3E%20Number%20of%20Trips%3A%207868%0A%20%20%20%20%20%20%20%20%20%20%20%20%20%20%20%20%20%3C/div%3E%60%2C%0A%20%20%20%20%20%20%20%20%20%20%20%20%20%20%20%20%7B%22sticky%22%3A%20true%7D%0A%20%20%20%20%20%20%20%20%20%20%20%20%29%3B%0A%20%20%20%20%20%20%20%20%0A%20%20%20%20%0A%20%20%20%20%20%20%20%20%20%20%20%20var%20circle_marker_142e49481ef24be0a6fe3c8738afc99a%20%3D%20L.circleMarker%28%0A%20%20%20%20%20%20%20%20%20%20%20%20%20%20%20%20%5B37.799953%2C%20-122.398525%5D%2C%0A%20%20%20%20%20%20%20%20%20%20%20%20%20%20%20%20%7B%22bubblingMouseEvents%22%3A%20true%2C%20%22color%22%3A%20%22crimson%22%2C%20%22dashArray%22%3A%20null%2C%20%22dashOffset%22%3A%20null%2C%20%22fill%22%3A%20true%2C%20%22fillColor%22%3A%20%22crimson%22%2C%20%22fillOpacity%22%3A%200.2%2C%20%22fillRule%22%3A%20%22evenodd%22%2C%20%22lineCap%22%3A%20%22round%22%2C%20%22lineJoin%22%3A%20%22round%22%2C%20%22opacity%22%3A%201.0%2C%20%22radius%22%3A%204.79875%2C%20%22stroke%22%3A%20true%2C%20%22weight%22%3A%201.5%7D%0A%20%20%20%20%20%20%20%20%20%20%20%20%29.addTo%28map_0bfc8f5829ca4ec7bb17c0ebb5789065%29%3B%0A%20%20%20%20%20%20%20%20%0A%20%20%20%20%0A%20%20%20%20%20%20%20%20%20%20%20%20circle_marker_142e49481ef24be0a6fe3c8738afc99a.bindTooltip%28%0A%20%20%20%20%20%20%20%20%20%20%20%20%20%20%20%20%60%3Cdiv%3E%0A%20%20%20%20%20%20%20%20%20%20%20%20%20%20%20%20%20%20%20%20%20Embarcadero%20at%20Vallejo%20%3Cbr%3E%20Number%20of%20Trips%3A%203839%0A%20%20%20%20%20%20%20%20%20%20%20%20%20%20%20%20%20%3C/div%3E%60%2C%0A%20%20%20%20%20%20%20%20%20%20%20%20%20%20%20%20%7B%22sticky%22%3A%20true%7D%0A%20%20%20%20%20%20%20%20%20%20%20%20%29%3B%0A%20%20%20%20%20%20%20%20%0A%20%20%20%20%0A%20%20%20%20%20%20%20%20%20%20%20%20var%20circle_marker_b6c984028b934b0ba13211f52aebcca3%20%3D%20L.circleMarker%28%0A%20%20%20%20%20%20%20%20%20%20%20%20%20%20%20%20%5B37.77865%2C%20-122.418235%5D%2C%0A%20%20%20%20%20%20%20%20%20%20%20%20%20%20%20%20%7B%22bubblingMouseEvents%22%3A%20true%2C%20%22color%22%3A%20%22crimson%22%2C%20%22dashArray%22%3A%20null%2C%20%22dashOffset%22%3A%20null%2C%20%22fill%22%3A%20true%2C%20%22fillColor%22%3A%20%22crimson%22%2C%20%22fillOpacity%22%3A%200.2%2C%20%22fillRule%22%3A%20%22evenodd%22%2C%20%22lineCap%22%3A%20%22round%22%2C%20%22lineJoin%22%3A%20%22round%22%2C%20%22opacity%22%3A%201.0%2C%20%22radius%22%3A%201.7%2C%20%22stroke%22%3A%20true%2C%20%22weight%22%3A%201.5%7D%0A%20%20%20%20%20%20%20%20%20%20%20%20%29.addTo%28map_0bfc8f5829ca4ec7bb17c0ebb5789065%29%3B%0A%20%20%20%20%20%20%20%20%0A%20%20%20%20%0A%20%20%20%20%20%20%20%20%20%20%20%20circle_marker_b6c984028b934b0ba13211f52aebcca3.bindTooltip%28%0A%20%20%20%20%20%20%20%20%20%20%20%20%20%20%20%20%60%3Cdiv%3E%0A%20%20%20%20%20%20%20%20%20%20%20%20%20%20%20%20%20%20%20%20%20San%20Francisco%20City%20Hall%20%3Cbr%3E%20Number%20of%20Trips%3A%201360%0A%20%20%20%20%20%20%20%20%20%20%20%20%20%20%20%20%20%3C/div%3E%60%2C%0A%20%20%20%20%20%20%20%20%20%20%20%20%20%20%20%20%7B%22sticky%22%3A%20true%7D%0A%20%20%20%20%20%20%20%20%20%20%20%20%29%3B%0A%20%20%20%20%20%20%20%20%0A%20%20%20%20%0A%20%20%20%20%20%20%20%20%20%20%20%20var%20circle_marker_92bbf3d375a9482b9dc0516da5b56923%20%3D%20L.circleMarker%28%0A%20%20%20%20%20%20%20%20%20%20%20%20%20%20%20%20%5B37.794231%2C%20-122.402923%5D%2C%0A%20%20%20%20%20%20%20%20%20%20%20%20%20%20%20%20%7B%22bubblingMouseEvents%22%3A%20true%2C%20%22color%22%3A%20%22crimson%22%2C%20%22dashArray%22%3A%20null%2C%20%22dashOffset%22%3A%20null%2C%20%22fill%22%3A%20true%2C%20%22fillColor%22%3A%20%22crimson%22%2C%20%22fillOpacity%22%3A%200.2%2C%20%22fillRule%22%3A%20%22evenodd%22%2C%20%22lineCap%22%3A%20%22round%22%2C%20%22lineJoin%22%3A%20%22round%22%2C%20%22opacity%22%3A%201.0%2C%20%22radius%22%3A%203.63625%2C%20%22stroke%22%3A%20true%2C%20%22weight%22%3A%201.5%7D%0A%20%20%20%20%20%20%20%20%20%20%20%20%29.addTo%28map_0bfc8f5829ca4ec7bb17c0ebb5789065%29%3B%0A%20%20%20%20%20%20%20%20%0A%20%20%20%20%0A%20%20%20%20%20%20%20%20%20%20%20%20circle_marker_92bbf3d375a9482b9dc0516da5b56923.bindTooltip%28%0A%20%20%20%20%20%20%20%20%20%20%20%20%20%20%20%20%60%3Cdiv%3E%0A%20%20%20%20%20%20%20%20%20%20%20%20%20%20%20%20%20%20%20%20%20Commercial%20at%20Montgomery%20%3Cbr%3E%20Number%20of%20Trips%3A%202909%0A%20%20%20%20%20%20%20%20%20%20%20%20%20%20%20%20%20%3C/div%3E%60%2C%0A%20%20%20%20%20%20%20%20%20%20%20%20%20%20%20%20%7B%22sticky%22%3A%20true%7D%0A%20%20%20%20%20%20%20%20%20%20%20%20%29%3B%0A%20%20%20%20%20%20%20%20%0A%20%20%20%20%0A%20%20%20%20%20%20%20%20%20%20%20%20var%20circle_marker_10ced93501a24258a6e7e368014c40bb%20%3D%20L.circleMarker%28%0A%20%20%20%20%20%20%20%20%20%20%20%20%20%20%20%20%5B37.774814%2C%20-122.418954%5D%2C%0A%20%20%20%20%20%20%20%20%20%20%20%20%20%20%20%20%7B%22bubblingMouseEvents%22%3A%20true%2C%20%22color%22%3A%20%22crimson%22%2C%20%22dashArray%22%3A%20null%2C%20%22dashOffset%22%3A%20null%2C%20%22fill%22%3A%20true%2C%20%22fillColor%22%3A%20%22crimson%22%2C%20%22fillOpacity%22%3A%200.2%2C%20%22fillRule%22%3A%20%22evenodd%22%2C%20%22lineCap%22%3A%20%22round%22%2C%20%22lineJoin%22%3A%20%22round%22%2C%20%22opacity%22%3A%201.0%2C%20%22radius%22%3A%207.11375%2C%20%22stroke%22%3A%20true%2C%20%22weight%22%3A%201.5%7D%0A%20%20%20%20%20%20%20%20%20%20%20%20%29.addTo%28map_0bfc8f5829ca4ec7bb17c0ebb5789065%29%3B%0A%20%20%20%20%20%20%20%20%0A%20%20%20%20%0A%20%20%20%20%20%20%20%20%20%20%20%20circle_marker_10ced93501a24258a6e7e368014c40bb.bindTooltip%28%0A%20%20%20%20%20%20%20%20%20%20%20%20%20%20%20%20%60%3Cdiv%3E%0A%20%20%20%20%20%20%20%20%20%20%20%20%20%20%20%20%20%20%20%20%20South%20Van%20Ness%20at%20Market%20%3Cbr%3E%20Number%20of%20Trips%3A%205691%0A%20%20%20%20%20%20%20%20%20%20%20%20%20%20%20%20%20%3C/div%3E%60%2C%0A%20%20%20%20%20%20%20%20%20%20%20%20%20%20%20%20%7B%22sticky%22%3A%20true%7D%0A%20%20%20%20%20%20%20%20%20%20%20%20%29%3B%0A%20%20%20%20%20%20%20%20%0A%20%20%20%20%0A%20%20%20%20%20%20%20%20%20%20%20%20var%20circle_marker_fb66f45e554a47ecbff2b02e85fb06bf%20%3D%20L.circleMarker%28%0A%20%20%20%20%20%20%20%20%20%20%20%20%20%20%20%20%5B37.798541%2C%20-122.400862%5D%2C%0A%20%20%20%20%20%20%20%20%20%20%20%20%20%20%20%20%7B%22bubblingMouseEvents%22%3A%20true%2C%20%22color%22%3A%20%22crimson%22%2C%20%22dashArray%22%3A%20null%2C%20%22dashOffset%22%3A%20null%2C%20%22fill%22%3A%20true%2C%20%22fillColor%22%3A%20%22crimson%22%2C%20%22fillOpacity%22%3A%200.2%2C%20%22fillRule%22%3A%20%22evenodd%22%2C%20%22lineCap%22%3A%20%22round%22%2C%20%22lineJoin%22%3A%20%22round%22%2C%20%22opacity%22%3A%201.0%2C%20%22radius%22%3A%203.91%2C%20%22stroke%22%3A%20true%2C%20%22weight%22%3A%201.5%7D%0A%20%20%20%20%20%20%20%20%20%20%20%20%29.addTo%28map_0bfc8f5829ca4ec7bb17c0ebb5789065%29%3B%0A%20%20%20%20%20%20%20%20%0A%20%20%20%20%0A%20%20%20%20%20%20%20%20%20%20%20%20circle_marker_fb66f45e554a47ecbff2b02e85fb06bf.bindTooltip%28%0A%20%20%20%20%20%20%20%20%20%20%20%20%20%20%20%20%60%3Cdiv%3E%0A%20%20%20%20%20%20%20%20%20%20%20%20%20%20%20%20%20%20%20%20%20Broadway%20St%20at%20Battery%20St%20%3Cbr%3E%20Number%20of%20Trips%3A%203128%0A%20%20%20%20%20%20%20%20%20%20%20%20%20%20%20%20%20%3C/div%3E%60%2C%0A%20%20%20%20%20%20%20%20%20%20%20%20%20%20%20%20%7B%22sticky%22%3A%20true%7D%0A%20%20%20%20%20%20%20%20%20%20%20%20%29%3B%0A%20%20%20%20%20%20%20%20%0A%20%20%20%20%0A%20%20%20%20%20%20%20%20%20%20%20%20var%20circle_marker_7eae8ec119e54f97917b757ee14886a0%20%3D%20L.circleMarker%28%0A%20%20%20%20%20%20%20%20%20%20%20%20%20%20%20%20%5B37.785908%2C%20-122.408891%5D%2C%0A%20%20%20%20%20%20%20%20%20%20%20%20%20%20%20%20%7B%22bubblingMouseEvents%22%3A%20true%2C%20%22color%22%3A%20%22crimson%22%2C%20%22dashArray%22%3A%20null%2C%20%22dashOffset%22%3A%20null%2C%20%22fill%22%3A%20true%2C%20%22fillColor%22%3A%20%22crimson%22%2C%20%22fillOpacity%22%3A%200.2%2C%20%22fillRule%22%3A%20%22evenodd%22%2C%20%22lineCap%22%3A%20%22round%22%2C%20%22lineJoin%22%3A%20%22round%22%2C%20%22opacity%22%3A%201.0%2C%20%22radius%22%3A%200.01875%2C%20%22stroke%22%3A%20true%2C%20%22weight%22%3A%201.5%7D%0A%20%20%20%20%20%20%20%20%20%20%20%20%29.addTo%28map_0bfc8f5829ca4ec7bb17c0ebb5789065%29%3B%0A%20%20%20%20%20%20%20%20%0A%20%20%20%20%0A%20%20%20%20%20%20%20%20%20%20%20%20circle_marker_7eae8ec119e54f97917b757ee14886a0.bindTooltip%28%0A%20%20%20%20%20%20%20%20%20%20%20%20%20%20%20%20%60%3Cdiv%3E%0A%20%20%20%20%20%20%20%20%20%20%20%20%20%20%20%20%20%20%20%20%20Cyril%20Magnin%20St%20at%20Ellis%20St%20%3Cbr%3E%20Number%20of%20Trips%3A%2015%0A%20%20%20%20%20%20%20%20%20%20%20%20%20%20%20%20%20%3C/div%3E%60%2C%0A%20%20%20%20%20%20%20%20%20%20%20%20%20%20%20%20%7B%22sticky%22%3A%20true%7D%0A%20%20%20%20%20%20%20%20%20%20%20%20%29%3B%0A%20%20%20%20%20%20%20%20%0A%20%20%20%20%0A%20%20%20%20%20%20%20%20%20%20%20%20var%20circle_marker_d9731e2fd0b24ce2a362f71a63800d13%20%3D%20L.circleMarker%28%0A%20%20%20%20%20%20%20%20%20%20%20%20%20%20%20%20%5B37.788446%2C%20-122.408499%5D%2C%0A%20%20%20%20%20%20%20%20%20%20%20%20%20%20%20%20%7B%22bubblingMouseEvents%22%3A%20true%2C%20%22color%22%3A%20%22crimson%22%2C%20%22dashArray%22%3A%20null%2C%20%22dashOffset%22%3A%20null%2C%20%22fill%22%3A%20true%2C%20%22fillColor%22%3A%20%22crimson%22%2C%20%22fillOpacity%22%3A%200.2%2C%20%22fillRule%22%3A%20%22evenodd%22%2C%20%22lineCap%22%3A%20%22round%22%2C%20%22lineJoin%22%3A%20%22round%22%2C%20%22opacity%22%3A%201.0%2C%20%22radius%22%3A%202.435%2C%20%22stroke%22%3A%20true%2C%20%22weight%22%3A%201.5%7D%0A%20%20%20%20%20%20%20%20%20%20%20%20%29.addTo%28map_0bfc8f5829ca4ec7bb17c0ebb5789065%29%3B%0A%20%20%20%20%20%20%20%20%0A%20%20%20%20%0A%20%20%20%20%20%20%20%20%20%20%20%20circle_marker_d9731e2fd0b24ce2a362f71a63800d13.bindTooltip%28%0A%20%20%20%20%20%20%20%20%20%20%20%20%20%20%20%20%60%3Cdiv%3E%0A%20%20%20%20%20%20%20%20%20%20%20%20%20%20%20%20%20%20%20%20%20Powell%20at%20Post%20%28Union%20Square%29%20%3Cbr%3E%20Number%20of%20Trips%3A%201948%0A%20%20%20%20%20%20%20%20%20%20%20%20%20%20%20%20%20%3C/div%3E%60%2C%0A%20%20%20%20%20%20%20%20%20%20%20%20%20%20%20%20%7B%22sticky%22%3A%20true%7D%0A%20%20%20%20%20%20%20%20%20%20%20%20%29%3B%0A%20%20%20%20%20%20%20%20%0A%20%20%20%20%0A%20%20%20%20%20%20%20%20%20%20%20%20var%20circle_marker_d0c505f447464d80aed42afbb1c86d79%20%3D%20L.circleMarker%28%0A%20%20%20%20%20%20%20%20%20%20%20%20%20%20%20%20%5B37.7979%2C%20-122.405942%5D%2C%0A%20%20%20%20%20%20%20%20%20%20%20%20%20%20%20%20%7B%22bubblingMouseEvents%22%3A%20true%2C%20%22color%22%3A%20%22crimson%22%2C%20%22dashArray%22%3A%20null%2C%20%22dashOffset%22%3A%20null%2C%20%22fill%22%3A%20true%2C%20%22fillColor%22%3A%20%22crimson%22%2C%20%22fillOpacity%22%3A%200.2%2C%20%22fillRule%22%3A%20%22evenodd%22%2C%20%22lineCap%22%3A%20%22round%22%2C%20%22lineJoin%22%3A%20%22round%22%2C%20%22opacity%22%3A%201.0%2C%20%22radius%22%3A%202.875%2C%20%22stroke%22%3A%20true%2C%20%22weight%22%3A%201.5%7D%0A%20%20%20%20%20%20%20%20%20%20%20%20%29.addTo%28map_0bfc8f5829ca4ec7bb17c0ebb5789065%29%3B%0A%20%20%20%20%20%20%20%20%0A%20%20%20%20%0A%20%20%20%20%20%20%20%20%20%20%20%20circle_marker_d0c505f447464d80aed42afbb1c86d79.bindTooltip%28%0A%20%20%20%20%20%20%20%20%20%20%20%20%20%20%20%20%60%3Cdiv%3E%0A%20%20%20%20%20%20%20%20%20%20%20%20%20%20%20%20%20%20%20%20%20Grant%20Avenue%20at%20Columbus%20Avenue%20%3Cbr%3E%20Number%20of%20Trips%3A%202300%0A%20%20%20%20%20%20%20%20%20%20%20%20%20%20%20%20%20%3C/div%3E%60%2C%0A%20%20%20%20%20%20%20%20%20%20%20%20%20%20%20%20%7B%22sticky%22%3A%20true%7D%0A%20%20%20%20%20%20%20%20%20%20%20%20%29%3B%0A%20%20%20%20%20%20%20%20%0A%20%20%20%20%0A%20%20%20%20%20%20%20%20%20%20%20%20var%20circle_marker_325218d20c0646a881e1aec14782de49%20%3D%20L.circleMarker%28%0A%20%20%20%20%20%20%20%20%20%20%20%20%20%20%20%20%5B37.781039%2C%20-122.411748%5D%2C%0A%20%20%20%20%20%20%20%20%20%20%20%20%20%20%20%20%7B%22bubblingMouseEvents%22%3A%20true%2C%20%22color%22%3A%20%22crimson%22%2C%20%22dashArray%22%3A%20null%2C%20%22dashOffset%22%3A%20null%2C%20%22fill%22%3A%20true%2C%20%22fillColor%22%3A%20%22crimson%22%2C%20%22fillOpacity%22%3A%200.2%2C%20%22fillRule%22%3A%20%22evenodd%22%2C%20%22lineCap%22%3A%20%22round%22%2C%20%22lineJoin%22%3A%20%22round%22%2C%20%22opacity%22%3A%201.0%2C%20%22radius%22%3A%203.64875%2C%20%22stroke%22%3A%20true%2C%20%22weight%22%3A%201.5%7D%0A%20%20%20%20%20%20%20%20%20%20%20%20%29.addTo%28map_0bfc8f5829ca4ec7bb17c0ebb5789065%29%3B%0A%20%20%20%20%20%20%20%20%0A%20%20%20%20%0A%20%20%20%20%20%20%20%20%20%20%20%20circle_marker_325218d20c0646a881e1aec14782de49.bindTooltip%28%0A%20%20%20%20%20%20%20%20%20%20%20%20%20%20%20%20%60%3Cdiv%3E%0A%20%20%20%20%20%20%20%20%20%20%20%20%20%20%20%20%20%20%20%20%20Civic%20Center%20BART%20%287th%20at%20Market%29%20%3Cbr%3E%20Number%20of%20Trips%3A%202919%0A%20%20%20%20%20%20%20%20%20%20%20%20%20%20%20%20%20%3C/div%3E%60%2C%0A%20%20%20%20%20%20%20%20%20%20%20%20%20%20%20%20%7B%22sticky%22%3A%20true%7D%0A%20%20%20%20%20%20%20%20%20%20%20%20%29%3B%0A%20%20%20%20%20%20%20%20%0A%20%20%20%20%0A%20%20%20%20%20%20%20%20%20%20%20%20var%20circle_marker_f9ae5cd964af4ce6bba14bd53ebcc2ea%20%3D%20L.circleMarker%28%0A%20%20%20%20%20%20%20%20%20%20%20%20%20%20%20%20%5B37.7913%2C%20-122.399051%5D%2C%0A%20%20%20%20%20%20%20%20%20%20%20%20%20%20%20%20%7B%22bubblingMouseEvents%22%3A%20true%2C%20%22color%22%3A%20%22crimson%22%2C%20%22dashArray%22%3A%20null%2C%20%22dashOffset%22%3A%20null%2C%20%22fill%22%3A%20true%2C%20%22fillColor%22%3A%20%22crimson%22%2C%20%22fillOpacity%22%3A%200.2%2C%20%22fillRule%22%3A%20%22evenodd%22%2C%20%22lineCap%22%3A%20%22round%22%2C%20%22lineJoin%22%3A%20%22round%22%2C%20%22opacity%22%3A%201.0%2C%20%22radius%22%3A%204.80125%2C%20%22stroke%22%3A%20true%2C%20%22weight%22%3A%201.5%7D%0A%20%20%20%20%20%20%20%20%20%20%20%20%29.addTo%28map_0bfc8f5829ca4ec7bb17c0ebb5789065%29%3B%0A%20%20%20%20%20%20%20%20%0A%20%20%20%20%0A%20%20%20%20%20%20%20%20%20%20%20%20circle_marker_f9ae5cd964af4ce6bba14bd53ebcc2ea.bindTooltip%28%0A%20%20%20%20%20%20%20%20%20%20%20%20%20%20%20%20%60%3Cdiv%3E%0A%20%20%20%20%20%20%20%20%20%20%20%20%20%20%20%20%20%20%20%20%20Mechanics%20Plaza%20%28Market%20at%20Battery%29%20%3Cbr%3E%20Number%20of%20Trips%3A%203841%0A%20%20%20%20%20%20%20%20%20%20%20%20%20%20%20%20%20%3C/div%3E%60%2C%0A%20%20%20%20%20%20%20%20%20%20%20%20%20%20%20%20%7B%22sticky%22%3A%20true%7D%0A%20%20%20%20%20%20%20%20%20%20%20%20%29%3B%0A%20%20%20%20%20%20%20%20%0A%20%20%20%20%0A%20%20%20%20%20%20%20%20%20%20%20%20var%20circle_marker_1921bfaa3d6f4ea7a8de96adc9b11428%20%3D%20L.circleMarker%28%0A%20%20%20%20%20%20%20%20%20%20%20%20%20%20%20%20%5B37.795392%2C%20-122.394203%5D%2C%0A%20%20%20%20%20%20%20%20%20%20%20%20%20%20%20%20%7B%22bubblingMouseEvents%22%3A%20true%2C%20%22color%22%3A%20%22crimson%22%2C%20%22dashArray%22%3A%20null%2C%20%22dashOffset%22%3A%20null%2C%20%22fill%22%3A%20true%2C%20%22fillColor%22%3A%20%22crimson%22%2C%20%22fillOpacity%22%3A%200.2%2C%20%22fillRule%22%3A%20%22evenodd%22%2C%20%22lineCap%22%3A%20%22round%22%2C%20%22lineJoin%22%3A%20%22round%22%2C%20%22opacity%22%3A%201.0%2C%20%22radius%22%3A%2011.735%2C%20%22stroke%22%3A%20true%2C%20%22weight%22%3A%201.5%7D%0A%20%20%20%20%20%20%20%20%20%20%20%20%29.addTo%28map_0bfc8f5829ca4ec7bb17c0ebb5789065%29%3B%0A%20%20%20%20%20%20%20%20%0A%20%20%20%20%0A%20%20%20%20%20%20%20%20%20%20%20%20circle_marker_1921bfaa3d6f4ea7a8de96adc9b11428.bindTooltip%28%0A%20%20%20%20%20%20%20%20%20%20%20%20%20%20%20%20%60%3Cdiv%3E%0A%20%20%20%20%20%20%20%20%20%20%20%20%20%20%20%20%20%20%20%20%20Harry%20Bridges%20Plaza%20%28Ferry%20Building%29%20%3Cbr%3E%20Number%20of%20Trips%3A%209388%0A%20%20%20%20%20%20%20%20%20%20%20%20%20%20%20%20%20%3C/div%3E%60%2C%0A%20%20%20%20%20%20%20%20%20%20%20%20%20%20%20%20%7B%22sticky%22%3A%20true%7D%0A%20%20%20%20%20%20%20%20%20%20%20%20%29%3B%0A%20%20%20%20%20%20%20%20%0A%20%20%20%20%0A%20%20%20%20%20%20%20%20%20%20%20%20var%20circle_marker_4a0b1756adc8489d86ebde03b2638a93%20%3D%20L.circleMarker%28%0A%20%20%20%20%20%20%20%20%20%20%20%20%20%20%20%20%5B37.7766%2C%20-122.39547%5D%2C%0A%20%20%20%20%20%20%20%20%20%20%20%20%20%20%20%20%7B%22bubblingMouseEvents%22%3A%20true%2C%20%22color%22%3A%20%22crimson%22%2C%20%22dashArray%22%3A%20null%2C%20%22dashOffset%22%3A%20null%2C%20%22fill%22%3A%20true%2C%20%22fillColor%22%3A%20%22crimson%22%2C%20%22fillOpacity%22%3A%200.2%2C%20%22fillRule%22%3A%20%22evenodd%22%2C%20%22lineCap%22%3A%20%22round%22%2C%20%22lineJoin%22%3A%20%22round%22%2C%20%22opacity%22%3A%201.0%2C%20%22radius%22%3A%2021.76%2C%20%22stroke%22%3A%20true%2C%20%22weight%22%3A%201.5%7D%0A%20%20%20%20%20%20%20%20%20%20%20%20%29.addTo%28map_0bfc8f5829ca4ec7bb17c0ebb5789065%29%3B%0A%20%20%20%20%20%20%20%20%0A%20%20%20%20%0A%20%20%20%20%20%20%20%20%20%20%20%20circle_marker_4a0b1756adc8489d86ebde03b2638a93.bindTooltip%28%0A%20%20%20%20%20%20%20%20%20%20%20%20%20%20%20%20%60%3Cdiv%3E%0A%20%20%20%20%20%20%20%20%20%20%20%20%20%20%20%20%20%20%20%20%20San%20Francisco%20Caltrain%202%20%28330%20Townsend%29%20%3Cbr%3E%20Number%20of%20Trips%3A%2017408%0A%20%20%20%20%20%20%20%20%20%20%20%20%20%20%20%20%20%3C/div%3E%60%2C%0A%20%20%20%20%20%20%20%20%20%20%20%20%20%20%20%20%7B%22sticky%22%3A%20true%7D%0A%20%20%20%20%20%20%20%20%20%20%20%20%29%3B%0A%20%20%20%20%20%20%20%20%0A%20%20%20%20%0A%20%20%20%20%20%20%20%20%20%20%20%20var%20circle_marker_8cddc1d33c7d4701a5bc5647c63b7e9a%20%3D%20L.circleMarker%28%0A%20%20%20%20%20%20%20%20%20%20%20%20%20%20%20%20%5B37.776617%2C%20-122.39526%5D%2C%0A%20%20%20%20%20%20%20%20%20%20%20%20%20%20%20%20%7B%22bubblingMouseEvents%22%3A%20true%2C%20%22color%22%3A%20%22crimson%22%2C%20%22dashArray%22%3A%20null%2C%20%22dashOffset%22%3A%20null%2C%20%22fill%22%3A%20true%2C%20%22fillColor%22%3A%20%22crimson%22%2C%20%22fillOpacity%22%3A%200.2%2C%20%22fillRule%22%3A%20%22evenodd%22%2C%20%22lineCap%22%3A%20%22round%22%2C%20%22lineJoin%22%3A%20%22round%22%2C%20%22opacity%22%3A%201.0%2C%20%22radius%22%3A%2039.54375%2C%20%22stroke%22%3A%20true%2C%20%22weight%22%3A%201.5%7D%0A%20%20%20%20%20%20%20%20%20%20%20%20%29.addTo%28map_0bfc8f5829ca4ec7bb17c0ebb5789065%29%3B%0A%20%20%20%20%20%20%20%20%0A%20%20%20%20%0A%20%20%20%20%20%20%20%20%20%20%20%20circle_marker_8cddc1d33c7d4701a5bc5647c63b7e9a.bindTooltip%28%0A%20%20%20%20%20%20%20%20%20%20%20%20%20%20%20%20%60%3Cdiv%3E%0A%20%20%20%20%20%20%20%20%20%20%20%20%20%20%20%20%20%20%20%20%20San%20Francisco%20Caltrain%20%28Townsend%20at%204th%29%20%3Cbr%3E%20Number%20of%20Trips%3A%2031635%0A%20%20%20%20%20%20%20%20%20%20%20%20%20%20%20%20%20%3C/div%3E%60%2C%0A%20%20%20%20%20%20%20%20%20%20%20%20%20%20%20%20%7B%22sticky%22%3A%20true%7D%0A%20%20%20%20%20%20%20%20%20%20%20%20%29%3B%0A%20%20%20%20%20%20%20%20%0A%20%20%20%20%0A%20%20%20%20%20%20%20%20%20%20%20%20var%20circle_marker_147d487872ed467d97de209e2382caeb%20%3D%20L.circleMarker%28%0A%20%20%20%20%20%20%20%20%20%20%20%20%20%20%20%20%5B37.789756%2C%20-122.394643%5D%2C%0A%20%20%20%20%20%20%20%20%20%20%20%20%20%20%20%20%7B%22bubblingMouseEvents%22%3A%20true%2C%20%22color%22%3A%20%22crimson%22%2C%20%22dashArray%22%3A%20null%2C%20%22dashOffset%22%3A%20null%2C%20%22fill%22%3A%20true%2C%20%22fillColor%22%3A%20%22crimson%22%2C%20%22fillOpacity%22%3A%200.2%2C%20%22fillRule%22%3A%20%22evenodd%22%2C%20%22lineCap%22%3A%20%22round%22%2C%20%22lineJoin%22%3A%20%22round%22%2C%20%22opacity%22%3A%201.0%2C%20%22radius%22%3A%209.84625%2C%20%22stroke%22%3A%20true%2C%20%22weight%22%3A%201.5%7D%0A%20%20%20%20%20%20%20%20%20%20%20%20%29.addTo%28map_0bfc8f5829ca4ec7bb17c0ebb5789065%29%3B%0A%20%20%20%20%20%20%20%20%0A%20%20%20%20%0A%20%20%20%20%20%20%20%20%20%20%20%20circle_marker_147d487872ed467d97de209e2382caeb.bindTooltip%28%0A%20%20%20%20%20%20%20%20%20%20%20%20%20%20%20%20%60%3Cdiv%3E%0A%20%20%20%20%20%20%20%20%20%20%20%20%20%20%20%20%20%20%20%20%20Temporary%20Transbay%20Terminal%20%28Howard%20at%20Beale%29%20%3Cbr%3E%20Number%20of%20Trips%3A%207877%0A%20%20%20%20%20%20%20%20%20%20%20%20%20%20%20%20%20%3C/div%3E%60%2C%0A%20%20%20%20%20%20%20%20%20%20%20%20%20%20%20%20%7B%22sticky%22%3A%20true%7D%0A%20%20%20%20%20%20%20%20%20%20%20%20%29%3B%0A%20%20%20%20%20%20%20%20%0A%20%20%20%20%0A%20%20%20%20%20%20%20%20%20%20%20%20var%20circle_marker_2c8af3720552449da6e8d2614db4f492%20%3D%20L.circleMarker%28%0A%20%20%20%20%20%20%20%20%20%20%20%20%20%20%20%20%5B37.784878%2C%20-122.401014%5D%2C%0A%20%20%20%20%20%20%20%20%20%20%20%20%20%20%20%20%7B%22bubblingMouseEvents%22%3A%20true%2C%20%22color%22%3A%20%22crimson%22%2C%20%22dashArray%22%3A%20null%2C%20%22dashOffset%22%3A%20null%2C%20%22fill%22%3A%20true%2C%20%22fillColor%22%3A%20%22crimson%22%2C%20%22fillOpacity%22%3A%200.2%2C%20%22fillRule%22%3A%20%22evenodd%22%2C%20%22lineCap%22%3A%20%22round%22%2C%20%22lineJoin%22%3A%20%22round%22%2C%20%22opacity%22%3A%201.0%2C%20%22radius%22%3A%201.8875%2C%20%22stroke%22%3A%20true%2C%20%22weight%22%3A%201.5%7D%0A%20%20%20%20%20%20%20%20%20%20%20%20%29.addTo%28map_0bfc8f5829ca4ec7bb17c0ebb5789065%29%3B%0A%20%20%20%20%20%20%20%20%0A%20%20%20%20%0A%20%20%20%20%20%20%20%20%20%20%20%20circle_marker_2c8af3720552449da6e8d2614db4f492.bindTooltip%28%0A%20%20%20%20%20%20%20%20%20%20%20%20%20%20%20%20%60%3Cdiv%3E%0A%20%20%20%20%20%20%20%20%20%20%20%20%20%20%20%20%20%20%20%20%20Yerba%20Buena%20Center%20of%20the%20Arts%20%283rd%20%40%20Howard%29%20%3Cbr%3E%20Number%20of%20Trips%3A%201510%0A%20%20%20%20%20%20%20%20%20%20%20%20%20%20%20%20%20%3C/div%3E%60%2C%0A%20%20%20%20%20%20%20%20%20%20%20%20%20%20%20%20%7B%22sticky%22%3A%20true%7D%0A%20%20%20%20%20%20%20%20%20%20%20%20%29%3B%0A%20%20%20%20%20%20%20%20%0A%3C/script%3E onload=\"this.contentDocument.open();this.contentDocument.write(    decodeURIComponent(this.getAttribute('data-html')));this.contentDocument.close();\" allowfullscreen webkitallowfullscreen mozallowfullscreen></iframe></div></div>"
      ],
      "text/plain": [
       "<folium.folium.Map at 0x7f405d4a9b10>"
      ]
     },
     "execution_count": 136,
     "metadata": {},
     "output_type": "execute_result"
    }
   ],
   "source": [
    "sf_bike_map = folium.Map(location=[37.7847, -122.4069], tiles='openstreetmap', zoom_start=13)\n",
    "\n",
    "for idx, row in start_bike_trips.iterrows():\n",
    "    folium.CircleMarker(location = [row['latitude'], row['longitude']], radius=float(row['trips'] / 800),\n",
    "                weight=1.5, color='blue', fill=True, fill_color='blue',\n",
    "                tooltip=row['start_station_name'] + ' <br> Number of Trips: ' + str(row['trips'])).add_to(sf_bike_map)\n",
    "\n",
    "for idx, row in end_bike_trips.iterrows():\n",
    "    folium.CircleMarker(location = [row['latitude'], row['longitude']], radius=float(row['trips'] / 800),\n",
    "                weight=1.5, color='crimson', fill=True, fill_color='crimson',\n",
    "                tooltip=row['end_station_name'] + ' <br> Number of Trips: ' + str(row['trips'])).add_to(sf_bike_map)\n",
    "    \n",
    "sf_bike_map"
   ]
  },
  {
   "cell_type": "markdown",
   "id": "aa7d5d3d",
   "metadata": {},
   "source": [
    "This geospatial visualization shows us the density of the number of trips at a given station. If we hover over the map we can see that the two highest densities (i.e. greatest number of trips in a station) are at San Francisco Caltrain (Townsend at 4th) and Townsend at 7th. "
   ]
  },
  {
   "cell_type": "markdown",
   "id": "1a48f55c",
   "metadata": {},
   "source": [
    "# <br><br>\n",
    "## Conclusion"
   ]
  },
  {
   "cell_type": "markdown",
   "id": "f0984d7f",
   "metadata": {},
   "source": [
    "Originally we were posed with the following question:\n",
    "\n",
    "> **Question 1:** What are the 5 most popular trips that you would call \"commuter trips\"?\n",
    "\n",
    "After conducting data exploration, data cleaning, creating visualizations, and analyzing the data, we can finally come to a conclusion about the definition of commuter trips given our assumptions. These assumptions about commuter trips are outlined below:\n",
    "\n",
    "- Trips that are longer than 600 seconds and shorter than 3,600 seconds\n",
    "- Trips that happen in the weekdays\n",
    "- Non-roundtrips (i.e. trips whose start and end locations are not the same)\n",
    "- Trips that happen within the hours of 7 - 9 AM and 4 - 6 PM (typical work start and end times)\n",
    "\n",
    "The final query that results in commuter trips given the above mentioned assumptions made about the data, is provided below:"
   ]
  },
  {
   "cell_type": "code",
   "execution_count": 109,
   "id": "0d2155ab",
   "metadata": {},
   "outputs": [
    {
     "name": "stderr",
     "output_type": "stream",
     "text": [
      "Query complete after 0.00s: 100%|██████████| 1/1 [00:00<00:00, 823.38query/s] \n",
      "Downloading: 100%|██████████| 197542/197542 [00:01<00:00, 150866.84rows/s]\n"
     ]
    }
   ],
   "source": [
    "%%bigquery final_commuter_trips\n",
    "\n",
    "SELECT *, EXTRACT (HOUR FROM TIME(start_date)) AS trip_hour\n",
    "FROM `bigquery-public-data.san_francisco.bikeshare_trips`\n",
    "WHERE (duration_sec BETWEEN 600 AND 3600) AND\n",
    "    ((EXTRACT (HOUR FROM TIME(start_date)) BETWEEN 7 AND 9) OR\n",
    "     (EXTRACT (HOUR FROM TIME(start_date)) BETWEEN 16 AND 18)) AND\n",
    "    (start_station_name != end_station_name) AND\n",
    "    (EXTRACT (DAYOFWEEK FROM start_date) IN (2, 3, 4, 5, 6))"
   ]
  },
  {
   "cell_type": "code",
   "execution_count": 110,
   "id": "26081716",
   "metadata": {},
   "outputs": [
    {
     "data": {
      "text/html": [
       "<div>\n",
       "<style scoped>\n",
       "    .dataframe tbody tr th:only-of-type {\n",
       "        vertical-align: middle;\n",
       "    }\n",
       "\n",
       "    .dataframe tbody tr th {\n",
       "        vertical-align: top;\n",
       "    }\n",
       "\n",
       "    .dataframe thead th {\n",
       "        text-align: right;\n",
       "    }\n",
       "</style>\n",
       "<table border=\"1\" class=\"dataframe\">\n",
       "  <thead>\n",
       "    <tr style=\"text-align: right;\">\n",
       "      <th></th>\n",
       "      <th>trip_id</th>\n",
       "      <th>duration_sec</th>\n",
       "      <th>start_date</th>\n",
       "      <th>start_station_name</th>\n",
       "      <th>start_station_id</th>\n",
       "      <th>end_date</th>\n",
       "      <th>end_station_name</th>\n",
       "      <th>end_station_id</th>\n",
       "      <th>bike_number</th>\n",
       "      <th>zip_code</th>\n",
       "      <th>subscriber_type</th>\n",
       "      <th>trip_hour</th>\n",
       "    </tr>\n",
       "  </thead>\n",
       "  <tbody>\n",
       "    <tr>\n",
       "      <th>0</th>\n",
       "      <td>1278755</td>\n",
       "      <td>845</td>\n",
       "      <td>2016-07-15 17:15:00+00:00</td>\n",
       "      <td>MLK Library</td>\n",
       "      <td>11</td>\n",
       "      <td>2016-07-15 17:29:00+00:00</td>\n",
       "      <td>Japantown</td>\n",
       "      <td>9</td>\n",
       "      <td>710</td>\n",
       "      <td>95109</td>\n",
       "      <td>Subscriber</td>\n",
       "      <td>17</td>\n",
       "    </tr>\n",
       "    <tr>\n",
       "      <th>1</th>\n",
       "      <td>6323</td>\n",
       "      <td>2868</td>\n",
       "      <td>2013-08-30 18:36:00+00:00</td>\n",
       "      <td>MLK Library</td>\n",
       "      <td>11</td>\n",
       "      <td>2013-08-30 19:24:00+00:00</td>\n",
       "      <td>Japantown</td>\n",
       "      <td>9</td>\n",
       "      <td>52</td>\n",
       "      <td>95112</td>\n",
       "      <td>Customer</td>\n",
       "      <td>18</td>\n",
       "    </tr>\n",
       "    <tr>\n",
       "      <th>2</th>\n",
       "      <td>883725</td>\n",
       "      <td>1024</td>\n",
       "      <td>2015-08-10 18:33:00+00:00</td>\n",
       "      <td>MLK Library</td>\n",
       "      <td>11</td>\n",
       "      <td>2015-08-10 18:50:00+00:00</td>\n",
       "      <td>Japantown</td>\n",
       "      <td>9</td>\n",
       "      <td>107</td>\n",
       "      <td>95112</td>\n",
       "      <td>Subscriber</td>\n",
       "      <td>18</td>\n",
       "    </tr>\n",
       "    <tr>\n",
       "      <th>3</th>\n",
       "      <td>151953</td>\n",
       "      <td>669</td>\n",
       "      <td>2014-01-13 18:09:00+00:00</td>\n",
       "      <td>MLK Library</td>\n",
       "      <td>11</td>\n",
       "      <td>2014-01-13 18:20:00+00:00</td>\n",
       "      <td>Japantown</td>\n",
       "      <td>9</td>\n",
       "      <td>180</td>\n",
       "      <td>95112</td>\n",
       "      <td>Subscriber</td>\n",
       "      <td>18</td>\n",
       "    </tr>\n",
       "    <tr>\n",
       "      <th>4</th>\n",
       "      <td>826984</td>\n",
       "      <td>683</td>\n",
       "      <td>2015-06-29 17:05:00+00:00</td>\n",
       "      <td>MLK Library</td>\n",
       "      <td>11</td>\n",
       "      <td>2015-06-29 17:16:00+00:00</td>\n",
       "      <td>Japantown</td>\n",
       "      <td>9</td>\n",
       "      <td>150</td>\n",
       "      <td>95112</td>\n",
       "      <td>Subscriber</td>\n",
       "      <td>17</td>\n",
       "    </tr>\n",
       "  </tbody>\n",
       "</table>\n",
       "</div>"
      ],
      "text/plain": [
       "   trip_id  duration_sec                start_date start_station_name  \\\n",
       "0  1278755           845 2016-07-15 17:15:00+00:00        MLK Library   \n",
       "1     6323          2868 2013-08-30 18:36:00+00:00        MLK Library   \n",
       "2   883725          1024 2015-08-10 18:33:00+00:00        MLK Library   \n",
       "3   151953           669 2014-01-13 18:09:00+00:00        MLK Library   \n",
       "4   826984           683 2015-06-29 17:05:00+00:00        MLK Library   \n",
       "\n",
       "   start_station_id                  end_date end_station_name  \\\n",
       "0                11 2016-07-15 17:29:00+00:00        Japantown   \n",
       "1                11 2013-08-30 19:24:00+00:00        Japantown   \n",
       "2                11 2015-08-10 18:50:00+00:00        Japantown   \n",
       "3                11 2014-01-13 18:20:00+00:00        Japantown   \n",
       "4                11 2015-06-29 17:16:00+00:00        Japantown   \n",
       "\n",
       "   end_station_id  bike_number zip_code subscriber_type  trip_hour  \n",
       "0               9          710    95109      Subscriber         17  \n",
       "1               9           52    95112        Customer         18  \n",
       "2               9          107    95112      Subscriber         18  \n",
       "3               9          180    95112      Subscriber         18  \n",
       "4               9          150    95112      Subscriber         17  "
      ]
     },
     "execution_count": 110,
     "metadata": {},
     "output_type": "execute_result"
    }
   ],
   "source": [
    "final_commuter_trips.head()"
   ]
  },
  {
   "cell_type": "markdown",
   "id": "6036bda6",
   "metadata": {},
   "source": [
    "<br>\n",
    "\n",
    "### Recommendations\n",
    "\n",
    "Lastly, we were posed with the final question:\n",
    "\n",
    "> **Question 2:** What are your recommendations for offers (justify based on your findings)?"
   ]
  },
  {
   "cell_type": "markdown",
   "id": "02c4469c",
   "metadata": {},
   "source": [
    "Based on my analysis, some recommendations I would give for offers are the following:\n",
    "    \n",
    "- Add more bikes at popular station locations. The highest number of trips happen at San Francisco Caltrain (Townsend at 4th). Most users might be using the bike share service to get to the Caltrain or to go to work after riding the Caltrain. Increasing bikes (supply) would most likely increase the number of users (demand).\n",
    "\n",
    "- Following the point above, we can promote via advertisements to offer first-time users at popular commuter station locations a discounted rate (or free trial) for membership to increase the number of users on the platform.\n",
    "\n",
    "- Provide discounted membership rates for customers who share trips in common with those who are members. We can recommend, for example, a notice on the app stating: \"Many bikers in your area, use our service to commute as members. Would you like to try our membership subscription for a discounted rate?\" This could potentially increase revenue for the company while offering customers an opportunity to join the membership program.\n",
    "\n",
    "- Recommend the annual membership plan (Bike Share for All) for commuters who qualify based on the income restrictions and use the service frequently. Show the users how much money they would save compared to how much they typically spend on their current plans.\n",
    "\n",
    "- Users who commute using the bike share service and take longer to reach their destination might benefit from a membership or annual membership to decrease their overall cost.\n",
    "\n",
    "- The bike share service can partner with coffee shops, bakeries, or sandwhich/breakfast shops nearby popular commuter stations and provide discounts to these users in order to increase revenue for both parties."
   ]
  },
  {
   "cell_type": "code",
   "execution_count": null,
   "id": "53f02ec6",
   "metadata": {},
   "outputs": [],
   "source": []
  }
 ],
 "metadata": {
  "environment": {
   "name": "common-cpu.m69",
   "type": "gcloud",
   "uri": "gcr.io/deeplearning-platform-release/base-cpu:m69"
  },
  "kernelspec": {
   "display_name": "Python 3",
   "language": "python",
   "name": "python3"
  },
  "language_info": {
   "codemirror_mode": {
    "name": "ipython",
    "version": 3
   },
   "file_extension": ".py",
   "mimetype": "text/x-python",
   "name": "python",
   "nbconvert_exporter": "python",
   "pygments_lexer": "ipython3",
   "version": "3.7.10"
  }
 },
 "nbformat": 4,
 "nbformat_minor": 5
}
